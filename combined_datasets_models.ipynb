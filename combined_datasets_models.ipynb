{
  "cells": [
    {
      "cell_type": "markdown",
      "source": [
        "# 0. Required Packages"
      ],
      "metadata": {
        "id": "dEgNWgjPxyz-"
      }
    },
    {
      "cell_type": "code",
      "source": [
        "!pip install keras-tuner --upgrade"
      ],
      "metadata": {
        "colab": {
          "base_uri": "https://localhost:8080/"
        },
        "id": "zQxNsWbaljrr",
        "outputId": "1b21d44c-b50e-44fe-dc8a-573bd137f84c"
      },
      "execution_count": null,
      "outputs": [
        {
          "output_type": "stream",
          "name": "stdout",
          "text": [
            "Looking in indexes: https://pypi.org/simple, https://us-python.pkg.dev/colab-wheels/public/simple/\n",
            "Collecting keras-tuner\n",
            "  Downloading keras_tuner-1.1.2-py3-none-any.whl (133 kB)\n",
            "\u001b[K     |████████████████████████████████| 133 kB 5.1 MB/s \n",
            "\u001b[?25hRequirement already satisfied: numpy in /usr/local/lib/python3.7/dist-packages (from keras-tuner) (1.21.6)\n",
            "Collecting kt-legacy\n",
            "  Downloading kt_legacy-1.0.4-py3-none-any.whl (9.6 kB)\n",
            "Requirement already satisfied: ipython in /usr/local/lib/python3.7/dist-packages (from keras-tuner) (5.5.0)\n",
            "Requirement already satisfied: tensorboard in /usr/local/lib/python3.7/dist-packages (from keras-tuner) (2.8.0)\n",
            "Requirement already satisfied: packaging in /usr/local/lib/python3.7/dist-packages (from keras-tuner) (21.3)\n",
            "Requirement already satisfied: requests in /usr/local/lib/python3.7/dist-packages (from keras-tuner) (2.23.0)\n",
            "Requirement already satisfied: setuptools>=18.5 in /usr/local/lib/python3.7/dist-packages (from ipython->keras-tuner) (57.4.0)\n",
            "Requirement already satisfied: decorator in /usr/local/lib/python3.7/dist-packages (from ipython->keras-tuner) (4.4.2)\n",
            "Requirement already satisfied: simplegeneric>0.8 in /usr/local/lib/python3.7/dist-packages (from ipython->keras-tuner) (0.8.1)\n",
            "Requirement already satisfied: pickleshare in /usr/local/lib/python3.7/dist-packages (from ipython->keras-tuner) (0.7.5)\n",
            "Requirement already satisfied: traitlets>=4.2 in /usr/local/lib/python3.7/dist-packages (from ipython->keras-tuner) (5.1.1)\n",
            "Requirement already satisfied: pygments in /usr/local/lib/python3.7/dist-packages (from ipython->keras-tuner) (2.6.1)\n",
            "Requirement already satisfied: pexpect in /usr/local/lib/python3.7/dist-packages (from ipython->keras-tuner) (4.8.0)\n",
            "Requirement already satisfied: prompt-toolkit<2.0.0,>=1.0.4 in /usr/local/lib/python3.7/dist-packages (from ipython->keras-tuner) (1.0.18)\n",
            "Requirement already satisfied: six>=1.9.0 in /usr/local/lib/python3.7/dist-packages (from prompt-toolkit<2.0.0,>=1.0.4->ipython->keras-tuner) (1.15.0)\n",
            "Requirement already satisfied: wcwidth in /usr/local/lib/python3.7/dist-packages (from prompt-toolkit<2.0.0,>=1.0.4->ipython->keras-tuner) (0.2.5)\n",
            "Requirement already satisfied: pyparsing!=3.0.5,>=2.0.2 in /usr/local/lib/python3.7/dist-packages (from packaging->keras-tuner) (3.0.9)\n",
            "Requirement already satisfied: ptyprocess>=0.5 in /usr/local/lib/python3.7/dist-packages (from pexpect->ipython->keras-tuner) (0.7.0)\n",
            "Requirement already satisfied: urllib3!=1.25.0,!=1.25.1,<1.26,>=1.21.1 in /usr/local/lib/python3.7/dist-packages (from requests->keras-tuner) (1.24.3)\n",
            "Requirement already satisfied: idna<3,>=2.5 in /usr/local/lib/python3.7/dist-packages (from requests->keras-tuner) (2.10)\n",
            "Requirement already satisfied: chardet<4,>=3.0.2 in /usr/local/lib/python3.7/dist-packages (from requests->keras-tuner) (3.0.4)\n",
            "Requirement already satisfied: certifi>=2017.4.17 in /usr/local/lib/python3.7/dist-packages (from requests->keras-tuner) (2022.5.18.1)\n",
            "Requirement already satisfied: grpcio>=1.24.3 in /usr/local/lib/python3.7/dist-packages (from tensorboard->keras-tuner) (1.46.3)\n",
            "Requirement already satisfied: google-auth<3,>=1.6.3 in /usr/local/lib/python3.7/dist-packages (from tensorboard->keras-tuner) (1.35.0)\n",
            "Requirement already satisfied: google-auth-oauthlib<0.5,>=0.4.1 in /usr/local/lib/python3.7/dist-packages (from tensorboard->keras-tuner) (0.4.6)\n",
            "Requirement already satisfied: protobuf>=3.6.0 in /usr/local/lib/python3.7/dist-packages (from tensorboard->keras-tuner) (3.17.3)\n",
            "Requirement already satisfied: tensorboard-data-server<0.7.0,>=0.6.0 in /usr/local/lib/python3.7/dist-packages (from tensorboard->keras-tuner) (0.6.1)\n",
            "Requirement already satisfied: markdown>=2.6.8 in /usr/local/lib/python3.7/dist-packages (from tensorboard->keras-tuner) (3.3.7)\n",
            "Requirement already satisfied: wheel>=0.26 in /usr/local/lib/python3.7/dist-packages (from tensorboard->keras-tuner) (0.37.1)\n",
            "Requirement already satisfied: absl-py>=0.4 in /usr/local/lib/python3.7/dist-packages (from tensorboard->keras-tuner) (1.0.0)\n",
            "Requirement already satisfied: tensorboard-plugin-wit>=1.6.0 in /usr/local/lib/python3.7/dist-packages (from tensorboard->keras-tuner) (1.8.1)\n",
            "Requirement already satisfied: werkzeug>=0.11.15 in /usr/local/lib/python3.7/dist-packages (from tensorboard->keras-tuner) (1.0.1)\n",
            "Requirement already satisfied: pyasn1-modules>=0.2.1 in /usr/local/lib/python3.7/dist-packages (from google-auth<3,>=1.6.3->tensorboard->keras-tuner) (0.2.8)\n",
            "Requirement already satisfied: cachetools<5.0,>=2.0.0 in /usr/local/lib/python3.7/dist-packages (from google-auth<3,>=1.6.3->tensorboard->keras-tuner) (4.2.4)\n",
            "Requirement already satisfied: rsa<5,>=3.1.4 in /usr/local/lib/python3.7/dist-packages (from google-auth<3,>=1.6.3->tensorboard->keras-tuner) (4.8)\n",
            "Requirement already satisfied: requests-oauthlib>=0.7.0 in /usr/local/lib/python3.7/dist-packages (from google-auth-oauthlib<0.5,>=0.4.1->tensorboard->keras-tuner) (1.3.1)\n",
            "Requirement already satisfied: importlib-metadata>=4.4 in /usr/local/lib/python3.7/dist-packages (from markdown>=2.6.8->tensorboard->keras-tuner) (4.11.4)\n",
            "Requirement already satisfied: typing-extensions>=3.6.4 in /usr/local/lib/python3.7/dist-packages (from importlib-metadata>=4.4->markdown>=2.6.8->tensorboard->keras-tuner) (4.2.0)\n",
            "Requirement already satisfied: zipp>=0.5 in /usr/local/lib/python3.7/dist-packages (from importlib-metadata>=4.4->markdown>=2.6.8->tensorboard->keras-tuner) (3.8.0)\n",
            "Requirement already satisfied: pyasn1<0.5.0,>=0.4.6 in /usr/local/lib/python3.7/dist-packages (from pyasn1-modules>=0.2.1->google-auth<3,>=1.6.3->tensorboard->keras-tuner) (0.4.8)\n",
            "Requirement already satisfied: oauthlib>=3.0.0 in /usr/local/lib/python3.7/dist-packages (from requests-oauthlib>=0.7.0->google-auth-oauthlib<0.5,>=0.4.1->tensorboard->keras-tuner) (3.2.0)\n",
            "Installing collected packages: kt-legacy, keras-tuner\n",
            "Successfully installed keras-tuner-1.1.2 kt-legacy-1.0.4\n"
          ]
        }
      ]
    },
    {
      "cell_type": "code",
      "execution_count": null,
      "metadata": {
        "id": "qvEthTLOMVXd",
        "colab": {
          "base_uri": "https://localhost:8080/"
        },
        "outputId": "2468bae0-ef39-404e-dd8c-90a0538b01ff"
      },
      "outputs": [
        {
          "output_type": "stream",
          "name": "stdout",
          "text": [
            "Looking in indexes: https://pypi.org/simple, https://us-python.pkg.dev/colab-wheels/public/simple/\n",
            "Collecting transformers\n",
            "  Downloading transformers-4.19.2-py3-none-any.whl (4.2 MB)\n",
            "\u001b[K     |████████████████████████████████| 4.2 MB 4.8 MB/s \n",
            "\u001b[?25hCollecting huggingface-hub<1.0,>=0.1.0\n",
            "  Downloading huggingface_hub-0.7.0-py3-none-any.whl (86 kB)\n",
            "\u001b[K     |████████████████████████████████| 86 kB 4.3 MB/s \n",
            "\u001b[?25hRequirement already satisfied: importlib-metadata in /usr/local/lib/python3.7/dist-packages (from transformers) (4.11.4)\n",
            "Requirement already satisfied: regex!=2019.12.17 in /usr/local/lib/python3.7/dist-packages (from transformers) (2019.12.20)\n",
            "Requirement already satisfied: tqdm>=4.27 in /usr/local/lib/python3.7/dist-packages (from transformers) (4.64.0)\n",
            "Requirement already satisfied: packaging>=20.0 in /usr/local/lib/python3.7/dist-packages (from transformers) (21.3)\n",
            "Requirement already satisfied: requests in /usr/local/lib/python3.7/dist-packages (from transformers) (2.23.0)\n",
            "Requirement already satisfied: numpy>=1.17 in /usr/local/lib/python3.7/dist-packages (from transformers) (1.21.6)\n",
            "Collecting pyyaml>=5.1\n",
            "  Downloading PyYAML-6.0-cp37-cp37m-manylinux_2_5_x86_64.manylinux1_x86_64.manylinux_2_12_x86_64.manylinux2010_x86_64.whl (596 kB)\n",
            "\u001b[K     |████████████████████████████████| 596 kB 56.2 MB/s \n",
            "\u001b[?25hCollecting tokenizers!=0.11.3,<0.13,>=0.11.1\n",
            "  Downloading tokenizers-0.12.1-cp37-cp37m-manylinux_2_12_x86_64.manylinux2010_x86_64.whl (6.6 MB)\n",
            "\u001b[K     |████████████████████████████████| 6.6 MB 38.2 MB/s \n",
            "\u001b[?25hRequirement already satisfied: filelock in /usr/local/lib/python3.7/dist-packages (from transformers) (3.7.0)\n",
            "Requirement already satisfied: typing-extensions>=3.7.4.3 in /usr/local/lib/python3.7/dist-packages (from huggingface-hub<1.0,>=0.1.0->transformers) (4.2.0)\n",
            "Requirement already satisfied: pyparsing!=3.0.5,>=2.0.2 in /usr/local/lib/python3.7/dist-packages (from packaging>=20.0->transformers) (3.0.9)\n",
            "Requirement already satisfied: zipp>=0.5 in /usr/local/lib/python3.7/dist-packages (from importlib-metadata->transformers) (3.8.0)\n",
            "Requirement already satisfied: urllib3!=1.25.0,!=1.25.1,<1.26,>=1.21.1 in /usr/local/lib/python3.7/dist-packages (from requests->transformers) (1.24.3)\n",
            "Requirement already satisfied: idna<3,>=2.5 in /usr/local/lib/python3.7/dist-packages (from requests->transformers) (2.10)\n",
            "Requirement already satisfied: certifi>=2017.4.17 in /usr/local/lib/python3.7/dist-packages (from requests->transformers) (2022.5.18.1)\n",
            "Requirement already satisfied: chardet<4,>=3.0.2 in /usr/local/lib/python3.7/dist-packages (from requests->transformers) (3.0.4)\n",
            "Installing collected packages: pyyaml, tokenizers, huggingface-hub, transformers\n",
            "  Attempting uninstall: pyyaml\n",
            "    Found existing installation: PyYAML 3.13\n",
            "    Uninstalling PyYAML-3.13:\n",
            "      Successfully uninstalled PyYAML-3.13\n",
            "Successfully installed huggingface-hub-0.7.0 pyyaml-6.0 tokenizers-0.12.1 transformers-4.19.2\n"
          ]
        }
      ],
      "source": [
        "!pip install transformers"
      ]
    },
    {
      "cell_type": "markdown",
      "metadata": {
        "id": "40pQRT5cf0wG"
      },
      "source": [
        "# 1. Imports & Utilities"
      ]
    },
    {
      "cell_type": "code",
      "execution_count": null,
      "metadata": {
        "id": "pZ3evuo3iKgL",
        "colab": {
          "base_uri": "https://localhost:8080/"
        },
        "outputId": "d2580c3b-a194-44ff-a143-dd893d5fa0a6"
      },
      "outputs": [
        {
          "output_type": "stream",
          "name": "stdout",
          "text": [
            "Mounted at /content/drive\n"
          ]
        }
      ],
      "source": [
        "import pandas as pd\n",
        "import numpy as np\n",
        "import os\n",
        "import gensim\n",
        "\n",
        "import tensorflow as tf\n",
        "from tensorflow.keras.utils import to_categorical\n",
        "from tensorflow.keras.preprocessing.sequence import pad_sequences\n",
        "from tensorflow.keras import regularizers\n",
        "from keras.models import Sequential\n",
        "from keras.layers import Dense, LSTM, Input, Bidirectional, Lambda, merge, TimeDistributed, Embedding, Permute, RepeatVector, Activation, Flatten, GRU, Dropout, GaussianNoise, Maximum, Multiply\n",
        "from keras import backend as K\n",
        "import keras_tuner as kt\n",
        "\n",
        "import matplotlib.pyplot as plt\n",
        "\n",
        "from sklearn.model_selection import train_test_split\n",
        "from sklearn.utils import resample\n",
        "from sklearn.metrics import precision_score, recall_score, f1_score, confusion_matrix, classification_report\n",
        "\n",
        "\n",
        "from google.colab import drive\n",
        "drive.mount('/content/drive')\n",
        "base_path = \"/content/drive/MyDrive/HLT Project/\""
      ]
    },
    {
      "cell_type": "markdown",
      "source": [
        "#AraVec Word Embeddings"
      ],
      "metadata": {
        "id": "ahUdE7k3QwN4"
      }
    },
    {
      "cell_type": "code",
      "source": [
        "!wget https://bakrianoo.ewr1.vultrobjects.com/aravec/full_uni_cbow_100_twitter.zip\n",
        "!unzip -q full_uni_cbow_100_twitter.zip\n",
        "!rm full_uni_cbow_100_twitter.zip"
      ],
      "metadata": {
        "id": "Q3kFlwJXP125",
        "colab": {
          "base_uri": "https://localhost:8080/"
        },
        "outputId": "5ca14986-59e2-4b8c-de3d-c183b9b7df02"
      },
      "execution_count": null,
      "outputs": [
        {
          "output_type": "stream",
          "name": "stdout",
          "text": [
            "--2022-06-07 00:49:55--  https://bakrianoo.ewr1.vultrobjects.com/aravec/full_uni_cbow_100_twitter.zip\n",
            "Resolving bakrianoo.ewr1.vultrobjects.com (bakrianoo.ewr1.vultrobjects.com)... 108.61.0.122, 2001:19f0:0:22::100\n",
            "Connecting to bakrianoo.ewr1.vultrobjects.com (bakrianoo.ewr1.vultrobjects.com)|108.61.0.122|:443... connected.\n",
            "HTTP request sent, awaiting response... 200 OK\n",
            "Length: 962251835 (918M) [application/zip]\n",
            "Saving to: ‘full_uni_cbow_100_twitter.zip’\n",
            "\n",
            "full_uni_cbow_100_t 100%[===================>] 917.67M  13.9MB/s    in 69s     \n",
            "\n",
            "2022-06-07 00:51:05 (13.2 MB/s) - ‘full_uni_cbow_100_twitter.zip’ saved [962251835/962251835]\n",
            "\n"
          ]
        }
      ]
    },
    {
      "cell_type": "code",
      "source": [
        "t_model = gensim.models.Word2Vec.load('full_uni_cbow_100_twitter.mdl')"
      ],
      "metadata": {
        "id": "DC_cZIoVRUOQ"
      },
      "execution_count": null,
      "outputs": []
    },
    {
      "cell_type": "code",
      "source": [
        "def getEmbeddingMatrix(word2index, num_tokens, embedding_dim):\n",
        "  hits = 0\n",
        "  misses = 0\n",
        "  embedding_matrix = np.zeros((num_tokens, embedding_dim))\n",
        "  for word, i in word2index.items():\n",
        "    if word in t_model.wv:\n",
        "        embedding_vector = t_model.wv[ word ]\n",
        "        # Words not found in embedding index will be all-zeros.\n",
        "        # This includes the representation for \"padding\" and \"OOV\"\n",
        "        embedding_matrix[i] = embedding_vector\n",
        "        hits += 1\n",
        "    else:\n",
        "        misses += 1\n",
        "  print(\"Converted %d words (%d misses)\" % (hits, misses))\n",
        "  return embedding_matrix"
      ],
      "metadata": {
        "id": "ZEK2578LViEd"
      },
      "execution_count": null,
      "outputs": []
    },
    {
      "cell_type": "code",
      "execution_count": null,
      "metadata": {
        "id": "lcYnfRZ5_v9s"
      },
      "outputs": [],
      "source": [
        "#function to plot accuracy and loss during training\n",
        "def plot(history):\n",
        "  acc = history.history['accuracy']\n",
        "  val_acc = history.history['val_accuracy']\n",
        "  loss = history.history['loss']\n",
        "  val_loss = history.history['val_loss']\n",
        "\n",
        "  epochs = range(len(acc))\n",
        "\n",
        "  plt.plot(epochs, acc, 'bo', label='Training acc')\n",
        "  plt.plot(epochs, val_acc, 'b', label='Validation acc')\n",
        "  plt.title('Training and validation accuracy')\n",
        "  plt.legend()\n",
        "\n",
        "  plt.figure()\n",
        "\n",
        "  plt.plot(epochs, loss, 'bo', label='Training loss')\n",
        "  plt.plot(epochs, val_loss, 'b', label='Validation loss')\n",
        "  plt.title('Training and validation loss')\n",
        "  plt.legend()\n",
        "\n",
        "  plt.show()"
      ]
    },
    {
      "cell_type": "code",
      "execution_count": null,
      "metadata": {
        "id": "OTlsvmTfush2"
      },
      "outputs": [],
      "source": [
        "def eval_metrics(model, test_tweets_, test_sentiments_):\n",
        "  predict_probs = model.predict(test_tweets_)\n",
        "  perdicted_classes=np.argmax(predict_probs,axis=1)\n",
        "  true_classes=np.argmax(test_sentiments_,axis=1)\n",
        "  precision = precision_score(true_classes, perdicted_classes, average='macro')\n",
        "  recall = recall_score(true_classes, perdicted_classes, average='macro')\n",
        "  f1 = f1_score(true_classes, perdicted_classes, average='macro')\n",
        "  cm = confusion_matrix(true_classes, perdicted_classes)\n",
        "  print(classification_report(true_classes,perdicted_classes,labels=[0,1,2]))\n",
        "  return np.array([[precision, recall, f1, cm]])"
      ]
    },
    {
      "cell_type": "code",
      "execution_count": null,
      "metadata": {
        "id": "dbyvufFl_0RQ"
      },
      "outputs": [],
      "source": [
        "tf.keras.utils.set_random_seed(7)"
      ]
    },
    {
      "cell_type": "markdown",
      "metadata": {
        "id": "gH50a7r8f3aV"
      },
      "source": [
        "#2. Getting the Data"
      ]
    },
    {
      "cell_type": "markdown",
      "metadata": {
        "id": "PSa7uqnwe2D-"
      },
      "source": [
        "##Dataset 1"
      ]
    },
    {
      "cell_type": "code",
      "execution_count": null,
      "metadata": {
        "colab": {
          "base_uri": "https://localhost:8080/"
        },
        "id": "zgH7g4IYiXkA",
        "outputId": "25fd63eb-0bd3-421e-fbed-d0cb0de8d599"
      },
      "outputs": [
        {
          "output_type": "stream",
          "name": "stdout",
          "text": [
            "/usr/local/lib/python3.7/dist-packages/gdown/cli.py:131: FutureWarning: Option `--id` was deprecated in version 4.3.1 and will be removed in 5.0. You don't need to pass it anymore to use a file ID.\n",
            "  category=FutureWarning,\n",
            "Downloading...\n",
            "From: https://drive.google.com/uc?id=1-4pmYeb9RNgsL4g6o1jKBUDLCPWd37i5\n",
            "To: /content/test.pk1\n",
            "100% 12.3k/12.3k [00:00<00:00, 16.9MB/s]\n",
            "/usr/local/lib/python3.7/dist-packages/gdown/cli.py:131: FutureWarning: Option `--id` was deprecated in version 4.3.1 and will be removed in 5.0. You don't need to pass it anymore to use a file ID.\n",
            "  category=FutureWarning,\n",
            "Downloading...\n",
            "From: https://drive.google.com/uc?id=1-9qpVXoR68jpR3QuZzyIS4MVSWdI5wYz\n",
            "To: /content/train.pk1\n",
            "100% 87.3k/87.3k [00:00<00:00, 66.9MB/s]\n",
            "/usr/local/lib/python3.7/dist-packages/gdown/cli.py:131: FutureWarning: Option `--id` was deprecated in version 4.3.1 and will be removed in 5.0. You don't need to pass it anymore to use a file ID.\n",
            "  category=FutureWarning,\n",
            "Downloading...\n",
            "From: https://drive.google.com/uc?id=19GFJQYAoeQmjQ6a1lms1Traldl_OY_u2\n",
            "To: /content/tune.pk1\n",
            "100% 5.49k/5.49k [00:00<00:00, 8.14MB/s]\n",
            "/usr/local/lib/python3.7/dist-packages/gdown/cli.py:131: FutureWarning: Option `--id` was deprecated in version 4.3.1 and will be removed in 5.0. You don't need to pass it anymore to use a file ID.\n",
            "  category=FutureWarning,\n",
            "Downloading...\n",
            "From: https://drive.google.com/uc?id=1-9aXJolDN3z05gP8i23CKofeytH4DDa3\n",
            "To: /content/valid.pk1\n",
            "100% 12.6k/12.6k [00:00<00:00, 13.1MB/s]\n",
            "21, 520, 65, 65\n"
          ]
        },
        {
          "output_type": "execute_result",
          "data": {
            "text/plain": [
              "671"
            ]
          },
          "metadata": {},
          "execution_count": 9
        }
      ],
      "source": [
        "#! gdown --id 13O7T4KGfd6yuJYP0cvbZtMJj_8nYaCVX\n",
        "#dataset = pd.read_pickle('preprocessed_lemmas.pk1')\n",
        "#! rm preprocessed_lemmas.pk1\n",
        "! gdown --id 1-4pmYeb9RNgsL4g6o1jKBUDLCPWd37i5\n",
        "! gdown --id 1-9qpVXoR68jpR3QuZzyIS4MVSWdI5wYz\n",
        "! gdown --id 19GFJQYAoeQmjQ6a1lms1Traldl_OY_u2\n",
        "! gdown --id 1-9aXJolDN3z05gP8i23CKofeytH4DDa3\n",
        "tune1 = pd.read_pickle('tune.pk1')\n",
        "train1 = pd.read_pickle('train.pk1')\n",
        "valid1 = pd.read_pickle('valid.pk1')\n",
        "test1 = pd.read_pickle('test.pk1')\n",
        "! rm tune.pk1\n",
        "! rm train.pk1\n",
        "! rm valid.pk1\n",
        "! rm test.pk1\n",
        "print(str(len(tune1))+\", \" +str(len(train1))+\", \"+ str(len(valid1))+\", \" +str(len(test1)))\n",
        "tune_len = len(tune1)\n",
        "train_len = len(train1)\n",
        "valid_len = len(valid1)\n",
        "dataset1 = tune1.append(train1).append(valid1).append(test1)\n",
        "dataset1 = dataset1.reset_index(drop=True)\n",
        "len(dataset1)"
      ]
    },
    {
      "cell_type": "code",
      "execution_count": null,
      "metadata": {
        "colab": {
          "base_uri": "https://localhost:8080/"
        },
        "id": "1LkjELN19Ezt",
        "outputId": "0d6ffb90-f7d7-4815-945b-e4fca2b0bea3"
      },
      "outputs": [
        {
          "output_type": "execute_result",
          "data": {
            "text/plain": [
              "(41, 3046, 3)"
            ]
          },
          "metadata": {},
          "execution_count": 10
        }
      ],
      "source": [
        "tweets = dataset1['tweet']\n",
        "words1 = set()\n",
        "max1 = 0\n",
        "for tweet in tweets:\n",
        "  if max1 < len(tweet):\n",
        "    max1 = len(tweet)\n",
        "  for word in tweet:\n",
        "    words1.add(word)\n",
        "sentiments = dataset1.scale.unique()\n",
        "max1, len(words1), len(sentiments)"
      ]
    },
    {
      "cell_type": "markdown",
      "metadata": {
        "id": "yFXqPMfehmrW"
      },
      "source": [
        "### Train-Test Split"
      ]
    },
    {
      "cell_type": "code",
      "execution_count": null,
      "metadata": {
        "colab": {
          "base_uri": "https://localhost:8080/"
        },
        "id": "gp-TUWgZiw3b",
        "outputId": "5459f75c-4587-40ea-c782-7d31a09072c9"
      },
      "outputs": [
        {
          "output_type": "execute_result",
          "data": {
            "text/plain": [
              "(21, 520, 65, 65)"
            ]
          },
          "metadata": {},
          "execution_count": 11
        }
      ],
      "source": [
        "#try splitting tweets based on scale\n",
        "target_column = 'scale'\n",
        "\n",
        "dataset1[target_column] = dataset1[target_column].astype('category')\n",
        "\n",
        "#train_split = 0.6\n",
        "#valtest_split = 0.5\n",
        "#tune_split = 0.03\n",
        "#run only once\n",
        "#dev, tune1 = train_test_split(dataset1, test_size=tune_split, random_state=42, shuffle=True, stratify=dataset1[target_column])\n",
        "#train1, valtest = train_test_split(dev, test_size=(1.0-train_split), shuffle=True, stratify=dev[target_column])\n",
        "#valid1, test1 = train_test_split(valtest, test_size=(1.0-valtest_split), shuffle=True, stratify=valtest[target_column])\n",
        "\n",
        "#output_file_path = os.path.join(base_path, \"Data/tune.pk1\")\n",
        "#tune1.to_pickle(output_file_path)\n",
        "#output_file_path = os.path.join(base_path, \"Data/train.pk1\")\n",
        "#train1.to_pickle(output_file_path)\n",
        "#output_file_path = os.path.join(base_path, \"Data/valid.pk1\")\n",
        "#valid1.to_pickle(output_file_path)\n",
        "#output_file_path = os.path.join(base_path, \"Data/test.pk1\")\n",
        "#test1.to_pickle(output_file_path)\n",
        "\n",
        "\n",
        "tune1 = dataset1[:tune_len]\n",
        "train1 = dataset1[tune_len:tune_len+train_len]\n",
        "valid1 = dataset1[tune_len+train_len:tune_len+train_len+valid_len]\n",
        "test1 = dataset1[tune_len+train_len+valid_len:]\n",
        "len(tune1), len(train1), len(test1), len(valid1)"
      ]
    },
    {
      "cell_type": "markdown",
      "metadata": {
        "id": "8ae_qCPua4Ek"
      },
      "source": [
        "###Checking balance of data"
      ]
    },
    {
      "cell_type": "code",
      "source": [
        "dataset1['scale'].value_counts()"
      ],
      "metadata": {
        "colab": {
          "base_uri": "https://localhost:8080/"
        },
        "id": "7P9OKnH7a7gt",
        "outputId": "90bad5a3-a68b-4b30-a255-b623ea525421"
      },
      "execution_count": null,
      "outputs": [
        {
          "output_type": "execute_result",
          "data": {
            "text/plain": [
              "0     310\n",
              "1     307\n",
              "-1     54\n",
              "Name: scale, dtype: int64"
            ]
          },
          "metadata": {},
          "execution_count": 12
        }
      ]
    },
    {
      "cell_type": "markdown",
      "metadata": {
        "id": "hr91rOVPe4q7"
      },
      "source": [
        "##Dataset 2"
      ]
    },
    {
      "cell_type": "code",
      "execution_count": null,
      "metadata": {
        "colab": {
          "base_uri": "https://localhost:8080/"
        },
        "id": "X9-uCpJme8H9",
        "outputId": "be42d448-e7d9-4d06-996d-420cf47916aa"
      },
      "outputs": [
        {
          "output_type": "stream",
          "name": "stdout",
          "text": [
            "/usr/local/lib/python3.7/dist-packages/gdown/cli.py:131: FutureWarning: Option `--id` was deprecated in version 4.3.1 and will be removed in 5.0. You don't need to pass it anymore to use a file ID.\n",
            "  category=FutureWarning,\n",
            "Downloading...\n",
            "From: https://drive.google.com/uc?id=1-CLWuOFdo_754AEHhrPbP6Uso6dZjCBq\n",
            "To: /content/astd_test.pk1\n",
            "100% 84.4k/84.4k [00:00<00:00, 10.5MB/s]\n",
            "/usr/local/lib/python3.7/dist-packages/gdown/cli.py:131: FutureWarning: Option `--id` was deprecated in version 4.3.1 and will be removed in 5.0. You don't need to pass it anymore to use a file ID.\n",
            "  category=FutureWarning,\n",
            "Downloading...\n",
            "From: https://drive.google.com/uc?id=1-PnehxzfT28Ys7E4mlONVJyfbSRO5uRV\n",
            "To: /content/astd_train.pk1\n",
            "100% 248k/248k [00:00<00:00, 11.0MB/s]\n",
            "/usr/local/lib/python3.7/dist-packages/gdown/cli.py:131: FutureWarning: Option `--id` was deprecated in version 4.3.1 and will be removed in 5.0. You don't need to pass it anymore to use a file ID.\n",
            "  category=FutureWarning,\n",
            "Downloading...\n",
            "From: https://drive.google.com/uc?id=1-Uystn7PXHXpogKRDo9qlDPesnb9XR4R\n",
            "To: /content/astd_tune.pk1\n",
            "100% 13.7k/13.7k [00:00<00:00, 14.5MB/s]\n",
            "/usr/local/lib/python3.7/dist-packages/gdown/cli.py:131: FutureWarning: Option `--id` was deprecated in version 4.3.1 and will be removed in 5.0. You don't need to pass it anymore to use a file ID.\n",
            "  category=FutureWarning,\n",
            "Downloading...\n",
            "From: https://drive.google.com/uc?id=1-LaV0dusSDj32jaLcUnp7o04tENh0GSk\n",
            "To: /content/astd_valid.pk1\n",
            "100% 82.6k/82.6k [00:00<00:00, 41.5MB/s]\n",
            "72, 1395, 465, 465\n"
          ]
        },
        {
          "output_type": "execute_result",
          "data": {
            "text/plain": [
              "2397"
            ]
          },
          "metadata": {},
          "execution_count": 13
        }
      ],
      "source": [
        "\"\"\"\n",
        "! gdown --id 15_ayY9dQPHCMCfRhS7t6LfSK03yJ_u9P\n",
        "dataset = pd.read_pickle('astd_preprocessed_lemmas.pk1')\n",
        "! rm astd_preprocessed_lemmas.pk1\n",
        "\"\"\"\n",
        "! gdown --id 1-CLWuOFdo_754AEHhrPbP6Uso6dZjCBq\n",
        "! gdown --id 1-PnehxzfT28Ys7E4mlONVJyfbSRO5uRV\n",
        "! gdown --id 1-Uystn7PXHXpogKRDo9qlDPesnb9XR4R\n",
        "! gdown --id 1-LaV0dusSDj32jaLcUnp7o04tENh0GSk\n",
        "tune2 = pd.read_pickle('astd_tune.pk1')\n",
        "train2 = pd.read_pickle('astd_train.pk1')\n",
        "valid2 = pd.read_pickle('astd_valid.pk1')\n",
        "test2 = pd.read_pickle('astd_test.pk1')\n",
        "! rm astd_tune.pk1\n",
        "! rm astd_train.pk1\n",
        "! rm astd_valid.pk1\n",
        "! rm astd_test.pk1\n",
        "print(str(len(tune2))+\", \" +str(len(train2))+\", \"+ str(len(valid2))+\", \" +str(len(test2)))\n",
        "tune_len = len(tune2)\n",
        "train_len = len(train2)\n",
        "valid_len = len(valid2)\n",
        "dataset2 = tune2.append(train2).append(valid2).append(test2)\n",
        "dataset2 = dataset2.reset_index(drop=True)\n",
        "\n",
        "len(dataset2)"
      ]
    },
    {
      "cell_type": "code",
      "execution_count": null,
      "metadata": {
        "id": "nLllX_OPmx5D",
        "colab": {
          "base_uri": "https://localhost:8080/"
        },
        "outputId": "d06c2452-4956-441d-b617-a0d6e2c60fc0"
      },
      "outputs": [
        {
          "output_type": "execute_result",
          "data": {
            "text/plain": [
              "(59, 7682, 3)"
            ]
          },
          "metadata": {},
          "execution_count": 14
        }
      ],
      "source": [
        "tweets = dataset2['tweet']\n",
        "words2 = set()\n",
        "max2 = 0\n",
        "for tweet in tweets:\n",
        "  if max2 < len(tweet):\n",
        "    max2 = len(tweet)\n",
        "  for word in tweet:\n",
        "    words2.add(word)\n",
        "sentiments = dataset2.scale.unique()\n",
        "max2, len(words2), len(sentiments)"
      ]
    },
    {
      "cell_type": "markdown",
      "metadata": {
        "id": "3iQyrJ-OwvRW"
      },
      "source": [
        "###Checking balance of data"
      ]
    },
    {
      "cell_type": "code",
      "execution_count": null,
      "metadata": {
        "colab": {
          "base_uri": "https://localhost:8080/"
        },
        "id": "ISSIhjHWwuoS",
        "outputId": "7abef37e-0607-4c04-a308-a4c31ea72738"
      },
      "outputs": [
        {
          "output_type": "execute_result",
          "data": {
            "text/plain": [
              "-1    799\n",
              "0     799\n",
              "1     799\n",
              "Name: scale, dtype: int64"
            ]
          },
          "metadata": {},
          "execution_count": 15
        }
      ],
      "source": [
        "dataset2['scale'].value_counts()"
      ]
    },
    {
      "cell_type": "markdown",
      "source": [
        "####downsampling the majority"
      ],
      "metadata": {
        "id": "sBPBdaV2qXej"
      }
    },
    {
      "cell_type": "code",
      "source": [
        "#run once\n",
        "\"\"\"\n",
        "zero = dataset2[dataset2['scale']==0].sample(frac=0.5).reset_index(drop=True)\n",
        "pos = dataset2[dataset2['scale']==1].reset_index(drop=True)\n",
        "neg = dataset2[dataset2['scale']==-1].reset_index(drop=True)\n",
        "remove_n = int(len(zero)/2)\n",
        "\n",
        "dataset2 = zero.append(pos).append(neg).sample(frac=1).reset_index(drop=True)\n",
        "dataset2['scale'].value_counts()\n",
        "\"\"\""
      ],
      "metadata": {
        "colab": {
          "base_uri": "https://localhost:8080/"
        },
        "id": "C17NukD2oaks",
        "outputId": "f733135e-7348-4beb-c25e-ee125bfb1a98"
      },
      "execution_count": null,
      "outputs": [
        {
          "output_type": "execute_result",
          "data": {
            "text/plain": [
              "\"\\nzero = dataset2[dataset2['scale']==0].sample(frac=0.5).reset_index(drop=True)\\npos = dataset2[dataset2['scale']==1].reset_index(drop=True)\\nneg = dataset2[dataset2['scale']==-1].reset_index(drop=True)\\nremove_n = int(len(zero)/2)\\n\\ndataset2 = zero.append(pos).append(neg).sample(frac=1).reset_index(drop=True)\\ndataset2['scale'].value_counts()\\n\""
            ],
            "application/vnd.google.colaboratory.intrinsic+json": {
              "type": "string"
            }
          },
          "metadata": {},
          "execution_count": 16
        }
      ]
    },
    {
      "cell_type": "markdown",
      "metadata": {
        "id": "yYyV_wG5q3kN"
      },
      "source": [
        "### Train-Test Split"
      ]
    },
    {
      "cell_type": "code",
      "execution_count": null,
      "metadata": {
        "colab": {
          "base_uri": "https://localhost:8080/"
        },
        "outputId": "b29a6134-f63c-4ddc-b5be-66ecb66f6c52",
        "id": "Kf7pxvqrq3kO"
      },
      "outputs": [
        {
          "output_type": "execute_result",
          "data": {
            "text/plain": [
              "(72, 1395, 465, 465)"
            ]
          },
          "metadata": {},
          "execution_count": 17
        }
      ],
      "source": [
        "#try splitting tweets based on scale\n",
        "target_column = 'scale'\n",
        "\n",
        "dataset2[target_column] = dataset2[target_column].astype('category')\n",
        "\n",
        "train_split = 0.6\n",
        "valtest_split = 0.5\n",
        "tune_split = 0.03\n",
        "#run only once\n",
        "\"\"\"\n",
        "dev, tune2 = train_test_split(dataset2, test_size=tune_split, random_state=42, shuffle=True, stratify=dataset2[target_column])\n",
        "train2, valtest = train_test_split(dev, test_size=(1.0-train_split), shuffle=True, stratify=dev[target_column])\n",
        "valid2, test2 = train_test_split(valtest, test_size=(1.0-valtest_split), shuffle=True, stratify=valtest[target_column])\n",
        "\n",
        "output_file_path = os.path.join(base_path, \"Data/astd_tune.pk1\")\n",
        "tune2.to_pickle(output_file_path)\n",
        "output_file_path = os.path.join(base_path, \"Data/astd_train.pk1\")\n",
        "train2.to_pickle(output_file_path)\n",
        "output_file_path = os.path.join(base_path, \"Data/astd_valid.pk1\")\n",
        "valid2.to_pickle(output_file_path)\n",
        "output_file_path = os.path.join(base_path, \"Data/astd_test.pk1\")\n",
        "test2.to_pickle(output_file_path)\n",
        "\n",
        "\"\"\"\n",
        "tune2 = dataset2[:tune_len]\n",
        "train2 = dataset2[tune_len:tune_len+train_len]\n",
        "valid2 = dataset2[tune_len+train_len:tune_len+train_len+valid_len]\n",
        "test2 = dataset2[tune_len+train_len+valid_len:]\n",
        "\n",
        "len(tune2), len(train2), len(test2), len(valid2)"
      ]
    },
    {
      "cell_type": "markdown",
      "source": [
        "##Combined Dataset"
      ],
      "metadata": {
        "id": "DXpH0uohd55y"
      }
    },
    {
      "cell_type": "code",
      "source": [
        "train = train1.append(train2).reset_index(drop=True)\n",
        "tune = tune1.append(tune2).reset_index(drop=True)\n",
        "valid = valid1.append(valid2).reset_index(drop=True)\n",
        "test = test1.append(test2).reset_index(drop=True)\n",
        "len(train), len(valid), len(test), len(tune)"
      ],
      "metadata": {
        "colab": {
          "base_uri": "https://localhost:8080/"
        },
        "id": "8iEXukpLczzs",
        "outputId": "e26f4400-99d8-4442-da30-0d907ea23857"
      },
      "execution_count": null,
      "outputs": [
        {
          "output_type": "execute_result",
          "data": {
            "text/plain": [
              "(1915, 530, 530, 93)"
            ]
          },
          "metadata": {},
          "execution_count": 18
        }
      ]
    },
    {
      "cell_type": "code",
      "source": [
        "train['scale'].value_counts(), valid['scale'].value_counts(), test['scale'].value_counts(), tune['scale'].value_counts()"
      ],
      "metadata": {
        "colab": {
          "base_uri": "https://localhost:8080/"
        },
        "id": "1AnSL9UHdouU",
        "outputId": "1fb49318-051e-44df-8dde-17b2cea7e44e"
      },
      "execution_count": null,
      "outputs": [
        {
          "output_type": "execute_result",
          "data": {
            "text/plain": [
              "(1     711\n",
              " 0     701\n",
              " -1    503\n",
              " Name: scale, dtype: int64, 1     186\n",
              " 0     183\n",
              " -1    161\n",
              " Name: scale, dtype: int64, 0     189\n",
              " 1     179\n",
              " -1    162\n",
              " Name: scale, dtype: int64, 0     36\n",
              " 1     30\n",
              " -1    27\n",
              " Name: scale, dtype: int64)"
            ]
          },
          "metadata": {},
          "execution_count": 19
        }
      ]
    },
    {
      "cell_type": "code",
      "source": [
        "max = min(max1, max2)\n",
        "words = words1.union(words2)\n",
        "max, len(words)"
      ],
      "metadata": {
        "colab": {
          "base_uri": "https://localhost:8080/"
        },
        "id": "yazXF60gdNq7",
        "outputId": "e5c99c3a-1832-4a4a-81a2-485c86dfeef2"
      },
      "execution_count": null,
      "outputs": [
        {
          "output_type": "execute_result",
          "data": {
            "text/plain": [
              "(41, 9110)"
            ]
          },
          "metadata": {},
          "execution_count": 20
        }
      ]
    },
    {
      "cell_type": "markdown",
      "metadata": {
        "id": "LNYfrpaQf9hh"
      },
      "source": [
        "#3. Prepare the Data for the Neural Network"
      ]
    },
    {
      "cell_type": "code",
      "execution_count": null,
      "metadata": {
        "id": "rUdhmgTP7MD-"
      },
      "outputs": [],
      "source": [
        "word2index = {w: i+1 for i, w in enumerate(words)}\n",
        "tune_tweets = [ [word2index.get(w) for w in s] for s in tune['tweet']]\n",
        "train_tweets = [ [word2index.get(w) for w in s] for s in train['tweet']]\n",
        "valid_tweets = [ [word2index.get(w) for w in s] for s in valid['tweet']]\n",
        "test_tweets = [ [word2index.get(w) for w in s] for s in test['tweet']]\n",
        "\n",
        "#semeval only\n",
        "test_tweets1 = [ [word2index.get(w) for w in s] for s in test1['tweet']]\n",
        "\n",
        "\n",
        "tune_tweets = pad_sequences(tune_tweets, padding='post',maxlen=max, truncating='post')\n",
        "train_tweets = pad_sequences(train_tweets, padding='post', maxlen=max, truncating='post')\n",
        "valid_tweets = pad_sequences(valid_tweets, padding='post', maxlen=max, truncating='post')\n",
        "test_tweets = pad_sequences(test_tweets, padding='post', maxlen=max, truncating='post')\n",
        "test_tweets1 = pad_sequences(test_tweets1, padding='post', maxlen=max, truncating='post')\n",
        "\n",
        "tune_sentiments = [sentiment for sentiment in tune['scale']]\n",
        "tune_sentiments = to_categorical(np.array(tune_sentiments), len(sentiments))\n",
        "train_sentiments = [sentiment for sentiment in train['scale']]\n",
        "train_sentiments = to_categorical(np.array(train_sentiments), len(sentiments))\n",
        "valid_sentiments = [sentiment for sentiment in valid['scale']]\n",
        "valid_sentiments = to_categorical(np.array(valid_sentiments), len(sentiments))\n",
        "test_sentiments = [sentiment for sentiment in test['scale']]\n",
        "test_sentiments = to_categorical(np.array(test_sentiments), len(sentiments))\n",
        "test_sentiments1 = [sentiment for sentiment in test1['scale']]\n",
        "test_sentiments1 = to_categorical(np.array(test_sentiments1), len(sentiments))"
      ]
    },
    {
      "cell_type": "markdown",
      "metadata": {
        "id": "bRzD3Q8U8_py"
      },
      "source": [
        "#4.2 LSTM Model"
      ]
    },
    {
      "cell_type": "markdown",
      "source": [
        "##Hyperparameter optimization"
      ],
      "metadata": {
        "id": "m3vc1_JVUrfD"
      }
    },
    {
      "cell_type": "code",
      "source": [
        "embedding_matrix = getEmbeddingMatrix(word2index, len(word2index)+1, 100)\n",
        "def define_model(hp):\n",
        "  model = Sequential()\n",
        "  model.add(Embedding(input_dim=len(word2index)+1, output_dim=100, embeddings_initializer=tf.keras.initializers.Constant(embedding_matrix), input_length=max, mask_zero=True))\n",
        "  model.add(GaussianNoise(hp.Float('noise', 0.2, 0.8, step=0.1, default=0.5)))\n",
        "  for i in range(hp.Int('lstm_blocks', 1, 3, default=1)):\n",
        "    model.add(Bidirectional(LSTM(\n",
        "        hp.Choice('rnn_hidden_units_'+str(i), [32, 64, 128, 256]),\n",
        "        kernel_initializer=hp.Choice('init' , ['random_uniform', 'uniform', 'orthogonal']),\n",
        "        return_sequences=True)))\n",
        "    model.add(Dropout(hp.Float('dropout', 0.2, 0.8, step=0.1, default=0.5)))\n",
        "  model.add(Flatten())\n",
        "  for i in range(hp.Int('dense_blocks', 1, 3, default=1)):\n",
        "    model.add(Dense(hp.Choice('dense_hidden_units_'+str(i), [8,16,32,64,128]),\n",
        "                    activation=hp.Choice('activation', ['relu','sigmoid', 'elu']),\n",
        "                    kernel_initializer=hp.Choice('init' , ['random_uniform', 'uniform', 'orthogonal'])))\n",
        "    model.add(Dropout(hp.Float('dropout', 0.2, 0.8, step=0.1, default=0.5)))\n",
        "  \n",
        "  model.add(Dense(len(sentiments), kernel_initializer=hp.Choice('init' , ['random_uniform', 'uniform', 'orthogonal']),\n",
        "                  activation='softmax', activity_regularizer=regularizers.l2(hp.Choice('l2', [0.1,0.01,0.001,0.0001]))))\n",
        "\n",
        "  opt = tf.keras.optimizers.Adam(\n",
        "      clipnorm=hp.Choice('clipnorm', [1,2,3,4,5]),\n",
        "      learning_rate=hp.Float('learning_rate', 5e-5, 5e-1, sampling='log'),\n",
        "      name='Adam')\n",
        "\n",
        "  model.compile(loss='categorical_crossentropy',\n",
        "                optimizer=opt,\n",
        "                metrics=['accuracy'])\n",
        "  \n",
        "  return model"
      ],
      "metadata": {
        "colab": {
          "base_uri": "https://localhost:8080/"
        },
        "id": "Aeut0yube1oY",
        "outputId": "6cc5fdba-7f2a-4515-9b93-cf8da309daaf"
      },
      "execution_count": null,
      "outputs": [
        {
          "output_type": "stream",
          "name": "stdout",
          "text": [
            "Converted 6057 words (3053 misses)\n"
          ]
        }
      ]
    },
    {
      "cell_type": "code",
      "source": [
        "tuner = kt.Hyperband(\n",
        "    define_model,\n",
        "    objective='val_categorical_accuracy',\n",
        "    max_epochs=30,\n",
        "    hyperband_iterations=2,\n",
        "    overwrite=True)\n",
        "\n",
        "tuner.search(tune_tweets,\n",
        "             tune_sentiments,\n",
        "             validation_split=0.2,\n",
        "             epochs=30,\n",
        "             callbacks=[tf.keras.callbacks.EarlyStopping(patience=3)])"
      ],
      "metadata": {
        "colab": {
          "base_uri": "https://localhost:8080/"
        },
        "id": "g9uApur6lu_7",
        "outputId": "c3b14053-7059-4106-ce53-4a6e1a93ca5b"
      },
      "execution_count": null,
      "outputs": [
        {
          "output_type": "stream",
          "name": "stdout",
          "text": [
            "Trial 180 Complete [00h 00m 27s]\n",
            "val_accuracy: 0.42105263471603394\n",
            "\n",
            "Best val_accuracy So Far: 0.5789473652839661\n",
            "Total elapsed time: 01h 15m 27s\n",
            "INFO:tensorflow:Oracle triggered exit\n"
          ]
        }
      ]
    },
    {
      "cell_type": "code",
      "source": [
        "tuner.results_summary()"
      ],
      "metadata": {
        "colab": {
          "base_uri": "https://localhost:8080/"
        },
        "id": "NQ-sklWE3UVy",
        "outputId": "9c53c763-d9fb-424a-cf4f-a54d0a7c8579"
      },
      "execution_count": null,
      "outputs": [
        {
          "output_type": "stream",
          "name": "stdout",
          "text": [
            "Results summary\n",
            "Results in ./untitled_project\n",
            "Showing 10 best trials\n",
            "<keras_tuner.engine.objective.Objective object at 0x7f0d2e3e6210>\n",
            "Trial summary\n",
            "Hyperparameters:\n",
            "noise: 0.30000000000000004\n",
            "lstm_blocks: 3\n",
            "rnn_hidden_units_0: 32\n",
            "init: uniform\n",
            "dropout: 0.8000000000000003\n",
            "dense_blocks: 1\n",
            "dense_hidden_units_0: 8\n",
            "activation: relu\n",
            "l2: 0.001\n",
            "clipnorm: 1\n",
            "learning_rate: 0.0004537900596979063\n",
            "rnn_hidden_units_1: 256\n",
            "dense_hidden_units_1: 32\n",
            "dense_hidden_units_2: 16\n",
            "rnn_hidden_units_2: 256\n",
            "tuner/epochs: 4\n",
            "tuner/initial_epoch: 0\n",
            "tuner/bracket: 2\n",
            "tuner/round: 0\n",
            "Score: 0.5789473652839661\n",
            "Trial summary\n",
            "Hyperparameters:\n",
            "noise: 0.7000000000000002\n",
            "lstm_blocks: 1\n",
            "rnn_hidden_units_0: 256\n",
            "init: orthogonal\n",
            "dropout: 0.7000000000000002\n",
            "dense_blocks: 2\n",
            "dense_hidden_units_0: 32\n",
            "activation: relu\n",
            "l2: 0.1\n",
            "clipnorm: 4\n",
            "learning_rate: 0.025239055498126044\n",
            "rnn_hidden_units_1: 64\n",
            "dense_hidden_units_1: 32\n",
            "dense_hidden_units_2: 16\n",
            "rnn_hidden_units_2: 256\n",
            "tuner/epochs: 10\n",
            "tuner/initial_epoch: 4\n",
            "tuner/bracket: 2\n",
            "tuner/round: 1\n",
            "tuner/trial_id: 0053\n",
            "Score: 0.5263158082962036\n",
            "Trial summary\n",
            "Hyperparameters:\n",
            "noise: 0.30000000000000004\n",
            "lstm_blocks: 2\n",
            "rnn_hidden_units_0: 256\n",
            "init: uniform\n",
            "dropout: 0.5000000000000001\n",
            "dense_blocks: 2\n",
            "dense_hidden_units_0: 32\n",
            "activation: relu\n",
            "l2: 0.001\n",
            "clipnorm: 5\n",
            "learning_rate: 0.03584907455787324\n",
            "rnn_hidden_units_1: 64\n",
            "dense_hidden_units_1: 8\n",
            "dense_hidden_units_2: 128\n",
            "rnn_hidden_units_2: 128\n",
            "tuner/epochs: 10\n",
            "tuner/initial_epoch: 0\n",
            "tuner/bracket: 1\n",
            "tuner/round: 0\n",
            "Score: 0.5263158082962036\n",
            "Trial summary\n",
            "Hyperparameters:\n",
            "noise: 0.30000000000000004\n",
            "lstm_blocks: 1\n",
            "rnn_hidden_units_0: 256\n",
            "init: random_uniform\n",
            "dropout: 0.4000000000000001\n",
            "dense_blocks: 1\n",
            "dense_hidden_units_0: 8\n",
            "activation: relu\n",
            "l2: 0.0001\n",
            "clipnorm: 5\n",
            "learning_rate: 0.00038894106853557133\n",
            "rnn_hidden_units_1: 256\n",
            "dense_hidden_units_1: 32\n",
            "dense_hidden_units_2: 32\n",
            "rnn_hidden_units_2: 256\n",
            "tuner/epochs: 10\n",
            "tuner/initial_epoch: 0\n",
            "tuner/bracket: 1\n",
            "tuner/round: 0\n",
            "Score: 0.5263158082962036\n",
            "Trial summary\n",
            "Hyperparameters:\n",
            "noise: 0.30000000000000004\n",
            "lstm_blocks: 2\n",
            "rnn_hidden_units_0: 32\n",
            "init: orthogonal\n",
            "dropout: 0.6000000000000001\n",
            "dense_blocks: 2\n",
            "dense_hidden_units_0: 16\n",
            "activation: elu\n",
            "l2: 0.001\n",
            "clipnorm: 5\n",
            "learning_rate: 0.01711306273347909\n",
            "rnn_hidden_units_1: 128\n",
            "dense_hidden_units_1: 16\n",
            "dense_hidden_units_2: 8\n",
            "rnn_hidden_units_2: 32\n",
            "tuner/epochs: 30\n",
            "tuner/initial_epoch: 0\n",
            "tuner/bracket: 0\n",
            "tuner/round: 0\n",
            "Score: 0.5263158082962036\n",
            "Trial summary\n",
            "Hyperparameters:\n",
            "noise: 0.6000000000000001\n",
            "lstm_blocks: 2\n",
            "rnn_hidden_units_0: 64\n",
            "init: orthogonal\n",
            "dropout: 0.4000000000000001\n",
            "dense_blocks: 2\n",
            "dense_hidden_units_0: 128\n",
            "activation: elu\n",
            "l2: 0.01\n",
            "clipnorm: 1\n",
            "learning_rate: 0.006866508268203281\n",
            "rnn_hidden_units_1: 32\n",
            "dense_hidden_units_1: 64\n",
            "dense_hidden_units_2: 8\n",
            "rnn_hidden_units_2: 256\n",
            "tuner/epochs: 2\n",
            "tuner/initial_epoch: 0\n",
            "tuner/bracket: 3\n",
            "tuner/round: 0\n",
            "Score: 0.4736842215061188\n",
            "Trial summary\n",
            "Hyperparameters:\n",
            "noise: 0.6000000000000001\n",
            "lstm_blocks: 3\n",
            "rnn_hidden_units_0: 256\n",
            "init: random_uniform\n",
            "dropout: 0.8000000000000003\n",
            "dense_blocks: 1\n",
            "dense_hidden_units_0: 64\n",
            "activation: relu\n",
            "l2: 0.1\n",
            "clipnorm: 5\n",
            "learning_rate: 0.0019910611871319897\n",
            "rnn_hidden_units_1: 128\n",
            "dense_hidden_units_1: 64\n",
            "dense_hidden_units_2: 128\n",
            "rnn_hidden_units_2: 128\n",
            "tuner/epochs: 2\n",
            "tuner/initial_epoch: 0\n",
            "tuner/bracket: 3\n",
            "tuner/round: 0\n",
            "Score: 0.4736842215061188\n",
            "Trial summary\n",
            "Hyperparameters:\n",
            "noise: 0.6000000000000001\n",
            "lstm_blocks: 2\n",
            "rnn_hidden_units_0: 64\n",
            "init: orthogonal\n",
            "dropout: 0.4000000000000001\n",
            "dense_blocks: 2\n",
            "dense_hidden_units_0: 128\n",
            "activation: elu\n",
            "l2: 0.01\n",
            "clipnorm: 1\n",
            "learning_rate: 0.006866508268203281\n",
            "rnn_hidden_units_1: 32\n",
            "dense_hidden_units_1: 64\n",
            "dense_hidden_units_2: 8\n",
            "rnn_hidden_units_2: 256\n",
            "tuner/epochs: 4\n",
            "tuner/initial_epoch: 2\n",
            "tuner/bracket: 3\n",
            "tuner/round: 1\n",
            "tuner/trial_id: 0004\n",
            "Score: 0.4736842215061188\n",
            "Trial summary\n",
            "Hyperparameters:\n",
            "noise: 0.6000000000000001\n",
            "lstm_blocks: 2\n",
            "rnn_hidden_units_0: 64\n",
            "init: orthogonal\n",
            "dropout: 0.4000000000000001\n",
            "dense_blocks: 2\n",
            "dense_hidden_units_0: 128\n",
            "activation: elu\n",
            "l2: 0.01\n",
            "clipnorm: 1\n",
            "learning_rate: 0.006866508268203281\n",
            "rnn_hidden_units_1: 32\n",
            "dense_hidden_units_1: 64\n",
            "dense_hidden_units_2: 8\n",
            "rnn_hidden_units_2: 256\n",
            "tuner/epochs: 10\n",
            "tuner/initial_epoch: 4\n",
            "tuner/bracket: 3\n",
            "tuner/round: 2\n",
            "tuner/trial_id: 0034\n",
            "Score: 0.4736842215061188\n",
            "Trial summary\n",
            "Hyperparameters:\n",
            "noise: 0.6000000000000001\n",
            "lstm_blocks: 3\n",
            "rnn_hidden_units_0: 256\n",
            "init: random_uniform\n",
            "dropout: 0.8000000000000003\n",
            "dense_blocks: 1\n",
            "dense_hidden_units_0: 64\n",
            "activation: relu\n",
            "l2: 0.1\n",
            "clipnorm: 5\n",
            "learning_rate: 0.0019910611871319897\n",
            "rnn_hidden_units_1: 128\n",
            "dense_hidden_units_1: 64\n",
            "dense_hidden_units_2: 128\n",
            "rnn_hidden_units_2: 128\n",
            "tuner/epochs: 10\n",
            "tuner/initial_epoch: 4\n",
            "tuner/bracket: 3\n",
            "tuner/round: 2\n",
            "tuner/trial_id: 0035\n",
            "Score: 0.4736842215061188\n"
          ]
        }
      ]
    },
    {
      "cell_type": "markdown",
      "metadata": {
        "id": "n2OiLYaalCAV"
      },
      "source": [
        "##Training the Model"
      ]
    },
    {
      "cell_type": "code",
      "execution_count": null,
      "metadata": {
        "id": "F1qoB3oqpU2a"
      },
      "outputs": [],
      "source": [
        "#set hyperparameters to best ones obtained via grid search\n",
        "EPOCHS = 1000\n",
        "BATCH_SIZE = 32\n",
        "model = tuner.get_best_models()[0]"
      ]
    },
    {
      "cell_type": "code",
      "execution_count": null,
      "metadata": {
        "colab": {
          "base_uri": "https://localhost:8080/"
        },
        "id": "Ivi-ErP04b2S",
        "outputId": "83de2c3c-576c-4f7f-c1c9-425dd108b867"
      },
      "outputs": [
        {
          "output_type": "stream",
          "name": "stdout",
          "text": [
            "Model: \"sequential\"\n",
            "_________________________________________________________________\n",
            " Layer (type)                Output Shape              Param #   \n",
            "=================================================================\n",
            " embedding (Embedding)       (None, 41, 100)           911100    \n",
            "                                                                 \n",
            " gaussian_noise (GaussianNoi  (None, 41, 100)          0         \n",
            " se)                                                             \n",
            "                                                                 \n",
            " bidirectional (Bidirectiona  (None, 41, 64)           34048     \n",
            " l)                                                              \n",
            "                                                                 \n",
            " dropout (Dropout)           (None, 41, 64)            0         \n",
            "                                                                 \n",
            " bidirectional_1 (Bidirectio  (None, 41, 512)          657408    \n",
            " nal)                                                            \n",
            "                                                                 \n",
            " dropout_1 (Dropout)         (None, 41, 512)           0         \n",
            "                                                                 \n",
            " bidirectional_2 (Bidirectio  (None, 41, 512)          1574912   \n",
            " nal)                                                            \n",
            "                                                                 \n",
            " dropout_2 (Dropout)         (None, 41, 512)           0         \n",
            "                                                                 \n",
            " flatten (Flatten)           (None, 20992)             0         \n",
            "                                                                 \n",
            " dense (Dense)               (None, 8)                 167944    \n",
            "                                                                 \n",
            " dropout_3 (Dropout)         (None, 8)                 0         \n",
            "                                                                 \n",
            " dense_1 (Dense)             (None, 3)                 27        \n",
            "                                                                 \n",
            "=================================================================\n",
            "Total params: 3,345,439\n",
            "Trainable params: 3,345,439\n",
            "Non-trainable params: 0\n",
            "_________________________________________________________________\n"
          ]
        }
      ],
      "source": [
        "model.summary()"
      ]
    },
    {
      "cell_type": "code",
      "execution_count": null,
      "metadata": {
        "colab": {
          "base_uri": "https://localhost:8080/",
          "height": 1000
        },
        "id": "So-4fsvH9Uoa",
        "outputId": "adc39dc7-a4c1-4e27-85a2-77b933f08972"
      },
      "outputs": [
        {
          "output_type": "execute_result",
          "data": {
            "text/plain": [
              "<IPython.core.display.Image object>"
            ],
            "image/png": "[encoded data removed]"
          },
          "metadata": {},
          "execution_count": 29
        }
      ],
      "source": [
        "from tensorflow.keras.utils import plot_model\n",
        "plot_model(model, show_shapes=True)"
      ]
    },
    {
      "cell_type": "code",
      "execution_count": null,
      "metadata": {
        "id": "MZz9lrxf877u",
        "colab": {
          "base_uri": "https://localhost:8080/"
        },
        "outputId": "dc05969a-c58a-426b-9d4e-e17610129724"
      },
      "outputs": [
        {
          "output_type": "stream",
          "name": "stdout",
          "text": [
            "Epoch 1/1000\n",
            "60/60 [==============================] - 30s 155ms/step - loss: 1.0974 - categorical_accuracy: 0.3697 - val_loss: 1.0963 - val_categorical_accuracy: 0.3585\n",
            "Epoch 2/1000\n",
            "60/60 [==============================] - 3s 46ms/step - loss: 1.0919 - categorical_accuracy: 0.3906 - val_loss: 1.0516 - val_categorical_accuracy: 0.4698\n",
            "Epoch 3/1000\n",
            "60/60 [==============================] - 3s 44ms/step - loss: 1.0471 - categorical_accuracy: 0.4115 - val_loss: 1.0289 - val_categorical_accuracy: 0.4585\n",
            "Epoch 4/1000\n",
            "60/60 [==============================] - 3s 45ms/step - loss: 1.0327 - categorical_accuracy: 0.4360 - val_loss: 1.0253 - val_categorical_accuracy: 0.4868\n",
            "Epoch 5/1000\n",
            "60/60 [==============================] - 3s 47ms/step - loss: 1.0274 - categorical_accuracy: 0.4413 - val_loss: 1.0206 - val_categorical_accuracy: 0.4943\n",
            "Epoch 6/1000\n",
            "60/60 [==============================] - 3s 48ms/step - loss: 1.0120 - categorical_accuracy: 0.4507 - val_loss: 1.0043 - val_categorical_accuracy: 0.5038\n",
            "Epoch 7/1000\n",
            "60/60 [==============================] - 3s 45ms/step - loss: 0.9963 - categorical_accuracy: 0.4606 - val_loss: 1.0230 - val_categorical_accuracy: 0.4434\n",
            "Epoch 8/1000\n",
            "60/60 [==============================] - 3s 45ms/step - loss: 0.9774 - categorical_accuracy: 0.4867 - val_loss: 1.0150 - val_categorical_accuracy: 0.4981\n",
            "Epoch 9/1000\n",
            "60/60 [==============================] - 3s 48ms/step - loss: 0.9757 - categorical_accuracy: 0.4789 - val_loss: 1.0076 - val_categorical_accuracy: 0.5264\n",
            "Epoch 10/1000\n",
            "60/60 [==============================] - 3s 46ms/step - loss: 0.9693 - categorical_accuracy: 0.4841 - val_loss: 0.9924 - val_categorical_accuracy: 0.5245\n",
            "Epoch 11/1000\n",
            "60/60 [==============================] - 3s 46ms/step - loss: 0.9538 - categorical_accuracy: 0.4883 - val_loss: 0.9930 - val_categorical_accuracy: 0.5019\n",
            "Epoch 12/1000\n",
            "60/60 [==============================] - 3s 45ms/step - loss: 0.9222 - categorical_accuracy: 0.5039 - val_loss: 1.0059 - val_categorical_accuracy: 0.5264\n",
            "Epoch 13/1000\n",
            "60/60 [==============================] - 3s 46ms/step - loss: 0.9153 - categorical_accuracy: 0.5170 - val_loss: 1.0029 - val_categorical_accuracy: 0.5075\n",
            "Epoch 14/1000\n",
            "60/60 [==============================] - 3s 46ms/step - loss: 0.9254 - categorical_accuracy: 0.5149 - val_loss: 0.9998 - val_categorical_accuracy: 0.4887\n",
            "Epoch 15/1000\n",
            "60/60 [==============================] - 3s 45ms/step - loss: 0.8879 - categorical_accuracy: 0.5217 - val_loss: 1.0844 - val_categorical_accuracy: 0.5226\n",
            "Epoch 16/1000\n",
            "60/60 [==============================] - 3s 45ms/step - loss: 0.8861 - categorical_accuracy: 0.5164 - val_loss: 1.0568 - val_categorical_accuracy: 0.4717\n",
            "Epoch 17/1000\n",
            "60/60 [==============================] - 3s 45ms/step - loss: 0.8640 - categorical_accuracy: 0.5431 - val_loss: 1.0848 - val_categorical_accuracy: 0.5170\n",
            "Epoch 18/1000\n",
            "60/60 [==============================] - 3s 52ms/step - loss: 0.8592 - categorical_accuracy: 0.5446 - val_loss: 1.0407 - val_categorical_accuracy: 0.5094\n",
            "Epoch 19/1000\n",
            "60/60 [==============================] - 3s 54ms/step - loss: 0.8296 - categorical_accuracy: 0.5499 - val_loss: 1.1231 - val_categorical_accuracy: 0.5283\n",
            "Epoch 20/1000\n",
            "60/60 [==============================] - 3s 49ms/step - loss: 0.8235 - categorical_accuracy: 0.5828 - val_loss: 1.0875 - val_categorical_accuracy: 0.5358\n",
            "Epoch 21/1000\n",
            "60/60 [==============================] - 3s 43ms/step - loss: 0.8088 - categorical_accuracy: 0.5760 - val_loss: 1.1624 - val_categorical_accuracy: 0.5264\n",
            "Epoch 22/1000\n",
            "60/60 [==============================] - 3s 46ms/step - loss: 0.7957 - categorical_accuracy: 0.5885 - val_loss: 1.2105 - val_categorical_accuracy: 0.5396\n",
            "Epoch 23/1000\n",
            "60/60 [==============================] - 3s 42ms/step - loss: 0.7985 - categorical_accuracy: 0.5828 - val_loss: 1.1302 - val_categorical_accuracy: 0.5075\n",
            "Epoch 24/1000\n",
            "60/60 [==============================] - 3s 44ms/step - loss: 0.7846 - categorical_accuracy: 0.6016 - val_loss: 1.2783 - val_categorical_accuracy: 0.5547\n",
            "Epoch 25/1000\n",
            "60/60 [==============================] - 3s 42ms/step - loss: 0.7632 - categorical_accuracy: 0.5937 - val_loss: 1.2439 - val_categorical_accuracy: 0.5453\n",
            "Epoch 26/1000\n",
            "60/60 [==============================] - 3s 44ms/step - loss: 0.7588 - categorical_accuracy: 0.6225 - val_loss: 1.3726 - val_categorical_accuracy: 0.5604\n",
            "Epoch 27/1000\n",
            "60/60 [==============================] - 3s 44ms/step - loss: 0.7519 - categorical_accuracy: 0.6225 - val_loss: 1.3865 - val_categorical_accuracy: 0.5396\n",
            "Epoch 28/1000\n",
            "60/60 [==============================] - 3s 43ms/step - loss: 0.7467 - categorical_accuracy: 0.6131 - val_loss: 1.4427 - val_categorical_accuracy: 0.5283\n",
            "Epoch 29/1000\n",
            "60/60 [==============================] - 3s 48ms/step - loss: 0.7306 - categorical_accuracy: 0.6266 - val_loss: 1.3424 - val_categorical_accuracy: 0.5094\n",
            "Epoch 30/1000\n",
            "60/60 [==============================] - 5s 80ms/step - loss: 0.7318 - categorical_accuracy: 0.6183 - val_loss: 1.4537 - val_categorical_accuracy: 0.5208\n",
            "Epoch 31/1000\n",
            "60/60 [==============================] - 4s 69ms/step - loss: 0.7088 - categorical_accuracy: 0.6386 - val_loss: 1.6048 - val_categorical_accuracy: 0.5208\n",
            "Epoch 32/1000\n",
            "60/60 [==============================] - 3s 44ms/step - loss: 0.7167 - categorical_accuracy: 0.6298 - val_loss: 1.5197 - val_categorical_accuracy: 0.5113\n",
            "Epoch 33/1000\n",
            "60/60 [==============================] - 3s 42ms/step - loss: 0.6948 - categorical_accuracy: 0.6418 - val_loss: 1.9331 - val_categorical_accuracy: 0.5170\n",
            "Epoch 34/1000\n",
            "60/60 [==============================] - 3s 42ms/step - loss: 0.6856 - categorical_accuracy: 0.6601 - val_loss: 1.6112 - val_categorical_accuracy: 0.5075\n",
            "Epoch 35/1000\n",
            "60/60 [==============================] - 3s 43ms/step - loss: 0.6836 - categorical_accuracy: 0.6627 - val_loss: 2.1617 - val_categorical_accuracy: 0.5226\n",
            "Epoch 36/1000\n",
            "60/60 [==============================] - 3s 42ms/step - loss: 0.6786 - categorical_accuracy: 0.6731 - val_loss: 1.6742 - val_categorical_accuracy: 0.5000\n",
            "Epoch 37/1000\n",
            "60/60 [==============================] - 3s 42ms/step - loss: 0.6821 - categorical_accuracy: 0.6611 - val_loss: 1.8739 - val_categorical_accuracy: 0.5509\n",
            "Epoch 38/1000\n",
            "60/60 [==============================] - 3s 42ms/step - loss: 0.6750 - categorical_accuracy: 0.6762 - val_loss: 1.7919 - val_categorical_accuracy: 0.5226\n",
            "Epoch 39/1000\n",
            "60/60 [==============================] - 3s 42ms/step - loss: 0.6520 - categorical_accuracy: 0.6809 - val_loss: 2.0805 - val_categorical_accuracy: 0.5264\n",
            "Epoch 40/1000\n",
            "60/60 [==============================] - 2s 42ms/step - loss: 0.6649 - categorical_accuracy: 0.6684 - val_loss: 2.2914 - val_categorical_accuracy: 0.5283\n",
            "Epoch 41/1000\n",
            "60/60 [==============================] - 3s 42ms/step - loss: 0.6747 - categorical_accuracy: 0.6700 - val_loss: 2.0569 - val_categorical_accuracy: 0.5208\n",
            "Epoch 42/1000\n",
            "60/60 [==============================] - 3s 43ms/step - loss: 0.6354 - categorical_accuracy: 0.7050 - val_loss: 1.9925 - val_categorical_accuracy: 0.5283\n",
            "Epoch 43/1000\n",
            "60/60 [==============================] - 3s 42ms/step - loss: 0.6611 - categorical_accuracy: 0.6762 - val_loss: 2.2509 - val_categorical_accuracy: 0.5264\n",
            "Epoch 44/1000\n",
            "60/60 [==============================] - 3s 42ms/step - loss: 0.6609 - categorical_accuracy: 0.6747 - val_loss: 2.2691 - val_categorical_accuracy: 0.5245\n",
            "Epoch 45/1000\n",
            "60/60 [==============================] - 3s 42ms/step - loss: 0.6436 - categorical_accuracy: 0.6914 - val_loss: 2.5205 - val_categorical_accuracy: 0.5113\n",
            "Epoch 46/1000\n",
            "60/60 [==============================] - 3s 42ms/step - loss: 0.6388 - categorical_accuracy: 0.6877 - val_loss: 2.4415 - val_categorical_accuracy: 0.5358\n"
          ]
        }
      ],
      "source": [
        "checkpoint_callback = tf.keras.callbacks.ModelCheckpoint(\n",
        "  filepath='ckpt_1',\n",
        "  save_weights_only=True,\n",
        "  monitor='val_categorical_accuracy',\n",
        "  mode='max',\n",
        "  save_best_only=True\n",
        ")\n",
        "\n",
        "#early stop mechanism\n",
        "earlystop_callback = tf.keras.callbacks.EarlyStopping(\n",
        "    monitor='val_loss',\n",
        "    patience=20\n",
        ")\n",
        "\n",
        "history = model.fit(train_tweets,\n",
        "                    train_sentiments,\n",
        "                    batch_size=BATCH_SIZE,\n",
        "                    epochs=EPOCHS,\n",
        "                    shuffle=True,\n",
        "                    validation_data=(valid_tweets,valid_sentiments),\n",
        "                    callbacks=[checkpoint_callback, earlystop_callback])"
      ]
    },
    {
      "cell_type": "code",
      "execution_count": null,
      "metadata": {
        "colab": {
          "base_uri": "https://localhost:8080/",
          "height": 545
        },
        "id": "fyT6laa2CorF",
        "outputId": "ed5a312b-18c2-4f0c-e5be-35ed3149fb20"
      },
      "outputs": [
        {
          "output_type": "display_data",
          "data": {
            "text/plain": [
              "<Figure size 432x288 with 1 Axes>"
            ],
            "image/png": "[encoded data removed]"
          },
          "metadata": {
            "needs_background": "light"
          }
        },
        {
          "output_type": "display_data",
          "data": {
            "text/plain": [
              "<Figure size 432x288 with 1 Axes>"
            ],
            "image/png": "[encoded data removed]"
          },
          "metadata": {
            "needs_background": "light"
          }
        }
      ],
      "source": [
        "plot(history)"
      ]
    },
    {
      "cell_type": "markdown",
      "metadata": {
        "id": "6JLNMijk1keH"
      },
      "source": [
        "###Save the Model"
      ]
    },
    {
      "cell_type": "code",
      "execution_count": null,
      "metadata": {
        "colab": {
          "base_uri": "https://localhost:8080/"
        },
        "id": "OlaESv-N5c2I",
        "outputId": "12f768f4-5e56-498e-e778-4cbbde11a89d"
      },
      "outputs": [
        {
          "output_type": "execute_result",
          "data": {
            "text/plain": [
              "<tensorflow.python.training.tracking.util.CheckpointLoadStatus at 0x7fcba58d4350>"
            ]
          },
          "metadata": {},
          "execution_count": 35
        }
      ],
      "source": [
        "model.load_weights('ckpt_1')"
      ]
    },
    {
      "cell_type": "code",
      "execution_count": null,
      "metadata": {
        "colab": {
          "base_uri": "https://localhost:8080/"
        },
        "id": "b_7ADlbF4fqf",
        "outputId": "8c2da675-d398-4b03-d4d6-c8957ddadbc9"
      },
      "outputs": [
        {
          "output_type": "stream",
          "name": "stdout",
          "text": [
            "60/60 [==============================] - 1s 13ms/step - loss: 0.4698 - categorical_accuracy: 0.8621\n"
          ]
        },
        {
          "output_type": "execute_result",
          "data": {
            "text/plain": [
              "0.8621410131454468"
            ]
          },
          "metadata": {},
          "execution_count": 36
        }
      ],
      "source": [
        "train_loss, train_accuracy = model.evaluate(train_tweets, train_sentiments)\n",
        "train_accuracy"
      ]
    },
    {
      "cell_type": "code",
      "execution_count": null,
      "metadata": {
        "colab": {
          "base_uri": "https://localhost:8080/"
        },
        "id": "1jECzNKV4fRv",
        "outputId": "d5efaae5-556d-448f-da68-a189462e1f3f"
      },
      "outputs": [
        {
          "output_type": "stream",
          "name": "stdout",
          "text": [
            "17/17 [==============================] - 0s 15ms/step - loss: 1.3726 - categorical_accuracy: 0.5604\n"
          ]
        },
        {
          "output_type": "execute_result",
          "data": {
            "text/plain": [
              "0.5603773593902588"
            ]
          },
          "metadata": {},
          "execution_count": 37
        }
      ],
      "source": [
        "valid_loss, valid_accuracy = model.evaluate(valid_tweets, valid_sentiments)\n",
        "valid_accuracy"
      ]
    },
    {
      "cell_type": "code",
      "execution_count": null,
      "metadata": {
        "colab": {
          "base_uri": "https://localhost:8080/"
        },
        "id": "vfHWV8-ICxWV",
        "outputId": "e9932625-e1b8-4835-e6a4-8616b2588cea"
      },
      "outputs": [
        {
          "output_type": "stream",
          "name": "stdout",
          "text": [
            "17/17 [==============================] - 0s 15ms/step - loss: 1.3826 - categorical_accuracy: 0.5208\n"
          ]
        },
        {
          "output_type": "execute_result",
          "data": {
            "text/plain": [
              "0.5207546949386597"
            ]
          },
          "metadata": {},
          "execution_count": 38
        }
      ],
      "source": [
        "test_loss, test_accuracy = model.evaluate(test_tweets, test_sentiments)\n",
        "test_accuracy"
      ]
    },
    {
      "cell_type": "code",
      "source": [
        "from tabulate import tabulate\n",
        "print(tabulate(eval_metrics(model, test_tweets, test_sentiments), headers=['precision','recall','F1', 'CM']))"
      ],
      "metadata": {
        "colab": {
          "base_uri": "https://localhost:8080/"
        },
        "outputId": "23500f72-f000-4232-8f4e-61e801b77593",
        "id": "YWfGqiI48H_9"
      },
      "execution_count": null,
      "outputs": [
        {
          "output_type": "stream",
          "name": "stdout",
          "text": [
            "              precision    recall  f1-score   support\n",
            "\n",
            "           0       0.45      0.49      0.47       189\n",
            "           1       0.55      0.58      0.57       179\n",
            "           2       0.59      0.49      0.53       162\n",
            "\n",
            "    accuracy                           0.52       530\n",
            "   macro avg       0.53      0.52      0.52       530\n",
            "weighted avg       0.53      0.52      0.52       530\n",
            "\n",
            "  precision    recall        F1  CM\n",
            "-----------  --------  --------  ---------------\n",
            "   0.529953  0.520241  0.523018  [[ 93  54  42]\n",
            "                                  [ 62 104  13]\n",
            "                                  [ 53  30  79]]\n"
          ]
        },
        {
          "output_type": "stream",
          "name": "stderr",
          "text": [
            "/usr/local/lib/python3.7/dist-packages/ipykernel_launcher.py:10: VisibleDeprecationWarning: Creating an ndarray from ragged nested sequences (which is a list-or-tuple of lists-or-tuples-or ndarrays with different lengths or shapes) is deprecated. If you meant to do this, you must specify 'dtype=object' when creating the ndarray.\n",
            "  # Remove the CWD from sys.path while we load stuff.\n"
          ]
        }
      ]
    },
    {
      "cell_type": "code",
      "source": [
        "#just on semeval test\n",
        "test_loss, test_accuracy = model.evaluate(test_tweets1, test_sentiments1)\n",
        "test_accuracy"
      ],
      "metadata": {
        "colab": {
          "base_uri": "https://localhost:8080/"
        },
        "id": "e8ENMovc-2r8",
        "outputId": "1ae4b747-9493-47dd-82cb-6c7ccd46ebea"
      },
      "execution_count": null,
      "outputs": [
        {
          "output_type": "stream",
          "name": "stdout",
          "text": [
            "3/3 [==============================] - 0s 41ms/step - loss: 1.1627 - categorical_accuracy: 0.6154\n"
          ]
        },
        {
          "output_type": "execute_result",
          "data": {
            "text/plain": [
              "0.6153846383094788"
            ]
          },
          "metadata": {},
          "execution_count": 40
        }
      ]
    },
    {
      "cell_type": "code",
      "source": [
        "from tabulate import tabulate\n",
        "print(tabulate(eval_metrics(model, test_tweets1, test_sentiments1), headers=['precision','recall','F1', 'CM']))"
      ],
      "metadata": {
        "colab": {
          "base_uri": "https://localhost:8080/"
        },
        "id": "LEHqMKYk-61n",
        "outputId": "6800fd67-c8bf-4279-83b5-47834e5907c0"
      },
      "execution_count": null,
      "outputs": [
        {
          "output_type": "stream",
          "name": "stdout",
          "text": [
            "              precision    recall  f1-score   support\n",
            "\n",
            "           0       0.67      0.59      0.62        34\n",
            "           1       0.59      0.71      0.64        24\n",
            "           2       0.50      0.43      0.46         7\n",
            "\n",
            "    accuracy                           0.62        65\n",
            "   macro avg       0.58      0.58      0.58        65\n",
            "weighted avg       0.62      0.62      0.61        65\n",
            "\n",
            "  precision    recall        F1  CM\n",
            "-----------  --------  --------  ------------\n",
            "   0.584291  0.575047  0.576016  [[20 12  2]\n",
            "                                  [ 6 17  1]\n",
            "                                  [ 4  0  3]]\n"
          ]
        },
        {
          "output_type": "stream",
          "name": "stderr",
          "text": [
            "/usr/local/lib/python3.7/dist-packages/ipykernel_launcher.py:10: VisibleDeprecationWarning: Creating an ndarray from ragged nested sequences (which is a list-or-tuple of lists-or-tuples-or ndarrays with different lengths or shapes) is deprecated. If you meant to do this, you must specify 'dtype=object' when creating the ndarray.\n",
            "  # Remove the CWD from sys.path while we load stuff.\n"
          ]
        }
      ]
    },
    {
      "cell_type": "code",
      "source": [
        "model.save('astd_bi_2_LSTM_comb.h5')"
      ],
      "metadata": {
        "id": "bTbRiY4LMhQl"
      },
      "execution_count": null,
      "outputs": []
    },
    {
      "cell_type": "code",
      "execution_count": null,
      "metadata": {
        "id": "b9DOKtFZC8Gq"
      },
      "outputs": [],
      "source": [
        "output_file_path = os.path.join(base_path, \"Models/astd_bi_2_LSTM_comb.h5\")\n",
        "model.save(output_file_path)"
      ]
    },
    {
      "cell_type": "markdown",
      "metadata": {
        "id": "ZpTU0qXvDeBJ"
      },
      "source": [
        "#4.3 LSTM + CNN"
      ]
    },
    {
      "cell_type": "markdown",
      "metadata": {
        "id": "7z0kp9uKlPJd"
      },
      "source": [
        "##Hyperparameter Tuning"
      ]
    },
    {
      "cell_type": "code",
      "execution_count": null,
      "metadata": {
        "id": "9CqsGieklPJd",
        "colab": {
          "base_uri": "https://localhost:8080/"
        },
        "outputId": "cd67b301-ecc9-4cc0-ef9f-f40afe59ff0b"
      },
      "outputs": [
        {
          "output_type": "stream",
          "name": "stdout",
          "text": [
            "Converted 6056 words (3054 misses)\n"
          ]
        }
      ],
      "source": [
        "embedding_matrix = getEmbeddingMatrix(word2index, len(word2index)+1, 100)\n",
        "\n",
        "def define_lstm_cnn_model(hp):\n",
        "  model = Sequential()\n",
        "  model.add(Embedding(input_dim=len(word2index)+1, output_dim=100, embeddings_initializer=tf.keras.initializers.Constant(embedding_matrix), input_length=max, mask_zero=True))\n",
        "  model.add(GaussianNoise(hp.Float('noise', 0.2, 0.8, step=0.1, default=0.5)))\n",
        "  \n",
        "  for i in range(hp.Int('lstm_blocks', 1, 3, default=1)):\n",
        "    model.add(Bidirectional(LSTM(\n",
        "        hp.Choice('rnn_hidden_units_'+str(i), [32, 64, 128, 256]),\n",
        "        kernel_initializer=hp.Choice('init' , ['random_uniform', 'uniform', 'orthogonal']),\n",
        "        return_sequences=True)))\n",
        "    model.add(Dropout(hp.Float('dropout', 0.2, 0.8, step=0.1, default=0.5)))\n",
        "\n",
        "  for i in range(hp.Int('conv_blocks', 1, 2, default=1)):\n",
        "    k=hp.Choice('filter_size_'+str(i), [3, 5, 7])\n",
        "    p = [3,5] if k == 7 else [3] if k == 5 else [2]\n",
        "    model.add(tf.keras.layers.Conv1D(hp.Choice('conv_filters_'+str(i), [32, 64, 128, 256]),\n",
        "                                     k,\n",
        "                                     kernel_initializer=hp.Choice('init' , ['random_uniform', 'uniform', 'orthogonal']),\n",
        "                                     activation=hp.Choice('activation', ['relu','sigmoid', 'elu']),\n",
        "                                     padding='same'))\n",
        "    model.add(tf.keras.layers.MaxPooling1D(pool_size=hp.Choice('pool_size_'+str(i), p)))\n",
        "    model.add(tf.keras.layers.BatchNormalization())\n",
        "    model.add(Dropout(hp.Float('dropout', 0.2, 0.8, step=0.1, default=0.5)))\n",
        "\n",
        "  for i in range(hp.Int('dense_blocks', 1, 3, default=1)):\n",
        "    model.add(Dense(hp.Choice('dense_hidden_units_'+str(i), [8,16,32,64,128]),\n",
        "                    activation=hp.Choice('activation', ['relu','sigmoid', 'elu']),\n",
        "                    kernel_initializer=hp.Choice('init' , ['random_uniform', 'uniform', 'orthogonal'])))\n",
        "    model.add(Dropout(hp.Float('dropout', 0.2, 0.8, step=0.1, default=0.5)))\n",
        "    \n",
        "  model.add(Flatten())\n",
        "  model.add(Dense(len(sentiments), kernel_initializer=hp.Choice('init' , ['random_uniform', 'uniform', 'orthogonal']),\n",
        "                  activation='softmax', activity_regularizer=regularizers.l2(hp.Choice('l2', [0.1,0.01,0.001,0.0001]))))\n",
        "\n",
        "  opt = tf.keras.optimizers.Adam(\n",
        "      clipnorm=hp.Choice('clipnorm', [1,2,3,4,5]),\n",
        "      learning_rate=hp.Float('learning_rate', 5e-5, 5e-1, sampling='log'),\n",
        "      name='Adam')\n",
        "  \n",
        "  model.compile(loss='categorical_crossentropy',\n",
        "                optimizer=opt,\n",
        "                metrics=['accuracy'])\n",
        "  return model\n",
        "\n",
        "\n",
        "  "
      ]
    },
    {
      "cell_type": "code",
      "source": [
        "tuner = kt.Hyperband(\n",
        "    define_lstm_cnn_model,\n",
        "    objective='val_accuracy',\n",
        "    max_epochs=30,\n",
        "    hyperband_iterations=2,\n",
        "    overwrite=True)\n",
        "\n",
        "tuner.search(tune_tweets,\n",
        "             tune_sentiments,\n",
        "             validation_split=0.2,\n",
        "             epochs=30,\n",
        "             callbacks=[tf.keras.callbacks.EarlyStopping(patience=3)])"
      ],
      "metadata": {
        "id": "8NYtSTByD_HT",
        "colab": {
          "base_uri": "https://localhost:8080/"
        },
        "outputId": "a4281aff-f04b-4fe9-e1f0-9c0bc6c4ac07"
      },
      "execution_count": null,
      "outputs": [
        {
          "output_type": "stream",
          "name": "stdout",
          "text": [
            "Trial 180 Complete [00h 00m 13s]\n",
            "val_accuracy: 0.42105263471603394\n",
            "\n",
            "Best val_accuracy So Far: 0.6315789222717285\n",
            "Total elapsed time: 01h 13m 22s\n",
            "INFO:tensorflow:Oracle triggered exit\n"
          ]
        }
      ]
    },
    {
      "cell_type": "code",
      "source": [
        "tuner.results_summary()"
      ],
      "metadata": {
        "id": "jfiVIuqVD_qo",
        "colab": {
          "base_uri": "https://localhost:8080/"
        },
        "outputId": "4c29cad2-c48d-4bd4-992f-792c7cfadf46"
      },
      "execution_count": null,
      "outputs": [
        {
          "output_type": "stream",
          "name": "stdout",
          "text": [
            "Results summary\n",
            "Results in ./untitled_project\n",
            "Showing 10 best trials\n",
            "<keras_tuner.engine.objective.Objective object at 0x7f9619d96690>\n",
            "Trial summary\n",
            "Hyperparameters:\n",
            "noise: 0.30000000000000004\n",
            "lstm_blocks: 2\n",
            "rnn_hidden_units_0: 256\n",
            "init: orthogonal\n",
            "dropout: 0.4000000000000001\n",
            "conv_blocks: 2\n",
            "filter_size_0: 5\n",
            "conv_filters_0: 64\n",
            "activation: elu\n",
            "pool_size_0: 2\n",
            "dense_blocks: 3\n",
            "dense_hidden_units_0: 32\n",
            "l2: 0.001\n",
            "clipnorm: 1\n",
            "learning_rate: 0.007480629126404392\n",
            "rnn_hidden_units_1: 256\n",
            "dense_hidden_units_1: 64\n",
            "rnn_hidden_units_2: 32\n",
            "filter_size_1: 5\n",
            "conv_filters_1: 64\n",
            "pool_size_1: 2\n",
            "dense_hidden_units_2: 8\n",
            "tuner/epochs: 4\n",
            "tuner/initial_epoch: 0\n",
            "tuner/bracket: 2\n",
            "tuner/round: 0\n",
            "Score: 0.6315789222717285\n",
            "Trial summary\n",
            "Hyperparameters:\n",
            "noise: 0.5000000000000001\n",
            "lstm_blocks: 2\n",
            "rnn_hidden_units_0: 128\n",
            "init: random_uniform\n",
            "dropout: 0.6000000000000001\n",
            "conv_blocks: 1\n",
            "filter_size_0: 3\n",
            "conv_filters_0: 32\n",
            "activation: relu\n",
            "pool_size_0: 2\n",
            "dense_blocks: 1\n",
            "dense_hidden_units_0: 64\n",
            "l2: 0.001\n",
            "clipnorm: 4\n",
            "learning_rate: 0.1351527832953707\n",
            "rnn_hidden_units_1: 64\n",
            "dense_hidden_units_1: 32\n",
            "rnn_hidden_units_2: 256\n",
            "filter_size_1: 7\n",
            "conv_filters_1: 32\n",
            "pool_size_1: 2\n",
            "dense_hidden_units_2: 64\n",
            "tuner/epochs: 4\n",
            "tuner/initial_epoch: 0\n",
            "tuner/bracket: 2\n",
            "tuner/round: 0\n",
            "Score: 0.5789473652839661\n",
            "Trial summary\n",
            "Hyperparameters:\n",
            "noise: 0.30000000000000004\n",
            "lstm_blocks: 3\n",
            "rnn_hidden_units_0: 64\n",
            "init: uniform\n",
            "dropout: 0.6000000000000001\n",
            "conv_blocks: 2\n",
            "filter_size_0: 7\n",
            "conv_filters_0: 256\n",
            "activation: elu\n",
            "pool_size_0: 2\n",
            "dense_blocks: 2\n",
            "dense_hidden_units_0: 64\n",
            "l2: 0.001\n",
            "clipnorm: 3\n",
            "learning_rate: 0.21168497331790015\n",
            "rnn_hidden_units_1: 32\n",
            "dense_hidden_units_1: 8\n",
            "rnn_hidden_units_2: 256\n",
            "filter_size_1: 5\n",
            "conv_filters_1: 128\n",
            "pool_size_1: 2\n",
            "dense_hidden_units_2: 64\n",
            "tuner/epochs: 10\n",
            "tuner/initial_epoch: 0\n",
            "tuner/bracket: 1\n",
            "tuner/round: 0\n",
            "Score: 0.5789473652839661\n",
            "Trial summary\n",
            "Hyperparameters:\n",
            "noise: 0.2\n",
            "lstm_blocks: 1\n",
            "rnn_hidden_units_0: 64\n",
            "init: orthogonal\n",
            "dropout: 0.7000000000000002\n",
            "conv_blocks: 1\n",
            "filter_size_0: 5\n",
            "conv_filters_0: 32\n",
            "activation: elu\n",
            "pool_size_0: 2\n",
            "dense_blocks: 2\n",
            "dense_hidden_units_0: 32\n",
            "l2: 0.1\n",
            "clipnorm: 5\n",
            "learning_rate: 0.0216611173364845\n",
            "rnn_hidden_units_1: 64\n",
            "dense_hidden_units_1: 64\n",
            "rnn_hidden_units_2: 128\n",
            "filter_size_1: 7\n",
            "conv_filters_1: 128\n",
            "pool_size_1: 2\n",
            "dense_hidden_units_2: 8\n",
            "tuner/epochs: 2\n",
            "tuner/initial_epoch: 0\n",
            "tuner/bracket: 3\n",
            "tuner/round: 0\n",
            "Score: 0.5263158082962036\n",
            "Trial summary\n",
            "Hyperparameters:\n",
            "noise: 0.30000000000000004\n",
            "lstm_blocks: 2\n",
            "rnn_hidden_units_0: 32\n",
            "init: orthogonal\n",
            "dropout: 0.6000000000000001\n",
            "conv_blocks: 2\n",
            "filter_size_0: 3\n",
            "conv_filters_0: 256\n",
            "activation: elu\n",
            "pool_size_0: 2\n",
            "dense_blocks: 1\n",
            "dense_hidden_units_0: 32\n",
            "l2: 0.1\n",
            "clipnorm: 1\n",
            "learning_rate: 0.00010659757057710054\n",
            "rnn_hidden_units_1: 128\n",
            "dense_hidden_units_1: 32\n",
            "rnn_hidden_units_2: 32\n",
            "filter_size_1: 3\n",
            "conv_filters_1: 64\n",
            "pool_size_1: 2\n",
            "dense_hidden_units_2: 64\n",
            "tuner/epochs: 4\n",
            "tuner/initial_epoch: 0\n",
            "tuner/bracket: 2\n",
            "tuner/round: 0\n",
            "Score: 0.5263158082962036\n",
            "Trial summary\n",
            "Hyperparameters:\n",
            "noise: 0.30000000000000004\n",
            "lstm_blocks: 2\n",
            "rnn_hidden_units_0: 256\n",
            "init: orthogonal\n",
            "dropout: 0.4000000000000001\n",
            "conv_blocks: 2\n",
            "filter_size_0: 5\n",
            "conv_filters_0: 64\n",
            "activation: elu\n",
            "pool_size_0: 2\n",
            "dense_blocks: 3\n",
            "dense_hidden_units_0: 32\n",
            "l2: 0.001\n",
            "clipnorm: 1\n",
            "learning_rate: 0.007480629126404392\n",
            "rnn_hidden_units_1: 256\n",
            "dense_hidden_units_1: 64\n",
            "rnn_hidden_units_2: 32\n",
            "filter_size_1: 5\n",
            "conv_filters_1: 64\n",
            "pool_size_1: 2\n",
            "dense_hidden_units_2: 8\n",
            "tuner/epochs: 10\n",
            "tuner/initial_epoch: 4\n",
            "tuner/bracket: 2\n",
            "tuner/round: 1\n",
            "tuner/trial_id: 0148\n",
            "Score: 0.5263158082962036\n",
            "Trial summary\n",
            "Hyperparameters:\n",
            "noise: 0.4000000000000001\n",
            "lstm_blocks: 1\n",
            "rnn_hidden_units_0: 64\n",
            "init: uniform\n",
            "dropout: 0.8000000000000003\n",
            "conv_blocks: 2\n",
            "filter_size_0: 3\n",
            "conv_filters_0: 32\n",
            "activation: elu\n",
            "pool_size_0: 2\n",
            "dense_blocks: 2\n",
            "dense_hidden_units_0: 8\n",
            "l2: 0.01\n",
            "clipnorm: 5\n",
            "learning_rate: 0.0002641920397280125\n",
            "rnn_hidden_units_1: 32\n",
            "dense_hidden_units_1: 32\n",
            "rnn_hidden_units_2: 32\n",
            "filter_size_1: 7\n",
            "conv_filters_1: 128\n",
            "pool_size_1: 2\n",
            "dense_hidden_units_2: 32\n",
            "tuner/epochs: 2\n",
            "tuner/initial_epoch: 0\n",
            "tuner/bracket: 3\n",
            "tuner/round: 0\n",
            "Score: 0.4736842215061188\n",
            "Trial summary\n",
            "Hyperparameters:\n",
            "noise: 0.4000000000000001\n",
            "lstm_blocks: 1\n",
            "rnn_hidden_units_0: 64\n",
            "init: uniform\n",
            "dropout: 0.8000000000000003\n",
            "conv_blocks: 2\n",
            "filter_size_0: 3\n",
            "conv_filters_0: 32\n",
            "activation: elu\n",
            "pool_size_0: 2\n",
            "dense_blocks: 2\n",
            "dense_hidden_units_0: 8\n",
            "l2: 0.01\n",
            "clipnorm: 5\n",
            "learning_rate: 0.0002641920397280125\n",
            "rnn_hidden_units_1: 32\n",
            "dense_hidden_units_1: 32\n",
            "rnn_hidden_units_2: 32\n",
            "filter_size_1: 7\n",
            "conv_filters_1: 128\n",
            "pool_size_1: 2\n",
            "dense_hidden_units_2: 32\n",
            "tuner/epochs: 4\n",
            "tuner/initial_epoch: 2\n",
            "tuner/bracket: 3\n",
            "tuner/round: 1\n",
            "tuner/trial_id: 0026\n",
            "Score: 0.4736842215061188\n",
            "Trial summary\n",
            "Hyperparameters:\n",
            "noise: 0.6000000000000001\n",
            "lstm_blocks: 2\n",
            "rnn_hidden_units_0: 128\n",
            "init: random_uniform\n",
            "dropout: 0.7000000000000002\n",
            "conv_blocks: 1\n",
            "filter_size_0: 7\n",
            "conv_filters_0: 128\n",
            "activation: relu\n",
            "pool_size_0: 2\n",
            "dense_blocks: 1\n",
            "dense_hidden_units_0: 16\n",
            "l2: 0.0001\n",
            "clipnorm: 5\n",
            "learning_rate: 0.0004305718306379718\n",
            "rnn_hidden_units_1: 64\n",
            "dense_hidden_units_1: 16\n",
            "rnn_hidden_units_2: 64\n",
            "filter_size_1: 3\n",
            "conv_filters_1: 128\n",
            "pool_size_1: 2\n",
            "dense_hidden_units_2: 16\n",
            "tuner/epochs: 4\n",
            "tuner/initial_epoch: 2\n",
            "tuner/bracket: 3\n",
            "tuner/round: 1\n",
            "tuner/trial_id: 0012\n",
            "Score: 0.4736842215061188\n",
            "Trial summary\n",
            "Hyperparameters:\n",
            "noise: 0.6000000000000001\n",
            "lstm_blocks: 2\n",
            "rnn_hidden_units_0: 128\n",
            "init: random_uniform\n",
            "dropout: 0.7000000000000002\n",
            "conv_blocks: 1\n",
            "filter_size_0: 7\n",
            "conv_filters_0: 128\n",
            "activation: relu\n",
            "pool_size_0: 2\n",
            "dense_blocks: 1\n",
            "dense_hidden_units_0: 16\n",
            "l2: 0.0001\n",
            "clipnorm: 5\n",
            "learning_rate: 0.0004305718306379718\n",
            "rnn_hidden_units_1: 64\n",
            "dense_hidden_units_1: 16\n",
            "rnn_hidden_units_2: 64\n",
            "filter_size_1: 3\n",
            "conv_filters_1: 128\n",
            "pool_size_1: 2\n",
            "dense_hidden_units_2: 16\n",
            "tuner/epochs: 10\n",
            "tuner/initial_epoch: 4\n",
            "tuner/bracket: 3\n",
            "tuner/round: 2\n",
            "tuner/trial_id: 0044\n",
            "Score: 0.4736842215061188\n"
          ]
        }
      ]
    },
    {
      "cell_type": "markdown",
      "metadata": {
        "id": "F_2zh8w-nASL"
      },
      "source": [
        "##Training the Model"
      ]
    },
    {
      "cell_type": "code",
      "execution_count": null,
      "metadata": {
        "id": "xZ-_yB02DeBK"
      },
      "outputs": [],
      "source": [
        "EPOCHS = 1000\n",
        "BATCH_SIZE = 32\n",
        "model = tuner.get_best_models()[0]"
      ]
    },
    {
      "cell_type": "code",
      "execution_count": null,
      "metadata": {
        "colab": {
          "base_uri": "https://localhost:8080/"
        },
        "id": "U9AET-nKJVRP",
        "outputId": "3d32577a-99f7-4613-ca32-751df58e7e03"
      },
      "outputs": [
        {
          "output_type": "stream",
          "name": "stdout",
          "text": [
            "Model: \"sequential\"\n",
            "_________________________________________________________________\n",
            " Layer (type)                Output Shape              Param #   \n",
            "=================================================================\n",
            " embedding (Embedding)       (None, 41, 100)           911100    \n",
            "                                                                 \n",
            " gaussian_noise (GaussianNoi  (None, 41, 100)          0         \n",
            " se)                                                             \n",
            "                                                                 \n",
            " bidirectional (Bidirectiona  (None, 41, 512)          731136    \n",
            " l)                                                              \n",
            "                                                                 \n",
            " dropout (Dropout)           (None, 41, 512)           0         \n",
            "                                                                 \n",
            " bidirectional_1 (Bidirectio  (None, 41, 512)          1574912   \n",
            " nal)                                                            \n",
            "                                                                 \n",
            " dropout_1 (Dropout)         (None, 41, 512)           0         \n",
            "                                                                 \n",
            " conv1d (Conv1D)             (None, 41, 64)            163904    \n",
            "                                                                 \n",
            " max_pooling1d (MaxPooling1D  (None, 20, 64)           0         \n",
            " )                                                               \n",
            "                                                                 \n",
            " batch_normalization (BatchN  (None, 20, 64)           256       \n",
            " ormalization)                                                   \n",
            "                                                                 \n",
            " dropout_2 (Dropout)         (None, 20, 64)            0         \n",
            "                                                                 \n",
            " conv1d_1 (Conv1D)           (None, 20, 64)            20544     \n",
            "                                                                 \n",
            " max_pooling1d_1 (MaxPooling  (None, 10, 64)           0         \n",
            " 1D)                                                             \n",
            "                                                                 \n",
            " batch_normalization_1 (Batc  (None, 10, 64)           256       \n",
            " hNormalization)                                                 \n",
            "                                                                 \n",
            " dropout_3 (Dropout)         (None, 10, 64)            0         \n",
            "                                                                 \n",
            " dense (Dense)               (None, 10, 32)            2080      \n",
            "                                                                 \n",
            " dropout_4 (Dropout)         (None, 10, 32)            0         \n",
            "                                                                 \n",
            " dense_1 (Dense)             (None, 10, 64)            2112      \n",
            "                                                                 \n",
            " dropout_5 (Dropout)         (None, 10, 64)            0         \n",
            "                                                                 \n",
            " dense_2 (Dense)             (None, 10, 8)             520       \n",
            "                                                                 \n",
            " dropout_6 (Dropout)         (None, 10, 8)             0         \n",
            "                                                                 \n",
            " flatten (Flatten)           (None, 80)                0         \n",
            "                                                                 \n",
            " dense_3 (Dense)             (None, 3)                 243       \n",
            "                                                                 \n",
            "=================================================================\n",
            "Total params: 3,407,063\n",
            "Trainable params: 3,406,807\n",
            "Non-trainable params: 256\n",
            "_________________________________________________________________\n"
          ]
        }
      ],
      "source": [
        "model.summary()"
      ]
    },
    {
      "cell_type": "code",
      "execution_count": null,
      "metadata": {
        "colab": {
          "base_uri": "https://localhost:8080/",
          "height": 1000
        },
        "id": "rXP1y5XuDeBL",
        "outputId": "d1de2d6b-467a-4ff5-d9bf-0d0da1a68ec6"
      },
      "outputs": [
        {
          "output_type": "execute_result",
          "data": {
            "text/plain": [
              "<IPython.core.display.Image object>"
            ],
            "image/png": "[encoded data removed]"
          },
          "metadata": {},
          "execution_count": 43
        }
      ],
      "source": [
        "from tensorflow.keras.utils import plot_model\n",
        "plot_model(model, show_shapes=True)"
      ]
    },
    {
      "cell_type": "code",
      "execution_count": null,
      "metadata": {
        "colab": {
          "base_uri": "https://localhost:8080/"
        },
        "outputId": "720477ac-ad5a-4e52-e086-ee094474f976",
        "id": "2aKRfi6ycLBk"
      },
      "outputs": [
        {
          "output_type": "stream",
          "name": "stdout",
          "text": [
            "Converted 6057 words (3053 misses)\n",
            "Epoch 1/1000\n",
            "60/60 [==============================] - 25s 123ms/step - loss: 1.1911 - accuracy: 0.3483 - val_loss: 1.0999 - val_accuracy: 0.3528\n",
            "Epoch 2/1000\n",
            "60/60 [==============================] - 2s 39ms/step - loss: 1.0887 - accuracy: 0.4162 - val_loss: 1.0742 - val_accuracy: 0.4075\n",
            "Epoch 3/1000\n",
            "60/60 [==============================] - 2s 41ms/step - loss: 1.0118 - accuracy: 0.4616 - val_loss: 1.0292 - val_accuracy: 0.4962\n",
            "Epoch 4/1000\n",
            "60/60 [==============================] - 2s 40ms/step - loss: 0.8757 - accuracy: 0.5624 - val_loss: 0.9713 - val_accuracy: 0.5132\n",
            "Epoch 5/1000\n",
            "60/60 [==============================] - 2s 39ms/step - loss: 0.7008 - accuracy: 0.6992 - val_loss: 1.0890 - val_accuracy: 0.5358\n",
            "Epoch 6/1000\n",
            "60/60 [==============================] - 2s 40ms/step - loss: 0.5727 - accuracy: 0.7593 - val_loss: 1.4562 - val_accuracy: 0.5472\n",
            "Epoch 7/1000\n",
            "60/60 [==============================] - 2s 37ms/step - loss: 0.4439 - accuracy: 0.8366 - val_loss: 1.9294 - val_accuracy: 0.5396\n",
            "Epoch 8/1000\n",
            "60/60 [==============================] - 2s 37ms/step - loss: 0.3000 - accuracy: 0.8935 - val_loss: 1.8332 - val_accuracy: 0.4811\n",
            "Epoch 9/1000\n",
            "60/60 [==============================] - 2s 40ms/step - loss: 0.2612 - accuracy: 0.9112 - val_loss: 2.0673 - val_accuracy: 0.5245\n",
            "Epoch 10/1000\n",
            "60/60 [==============================] - 2s 37ms/step - loss: 0.2545 - accuracy: 0.9138 - val_loss: 2.4514 - val_accuracy: 0.5113\n",
            "Epoch 11/1000\n",
            "60/60 [==============================] - 2s 36ms/step - loss: 0.2268 - accuracy: 0.9321 - val_loss: 2.1825 - val_accuracy: 0.5208\n",
            "Epoch 12/1000\n",
            "60/60 [==============================] - 2s 36ms/step - loss: 0.1537 - accuracy: 0.9614 - val_loss: 2.6213 - val_accuracy: 0.4981\n",
            "Epoch 13/1000\n",
            "60/60 [==============================] - 2s 37ms/step - loss: 0.1429 - accuracy: 0.9650 - val_loss: 2.6425 - val_accuracy: 0.4925\n",
            "Epoch 14/1000\n",
            "60/60 [==============================] - 2s 37ms/step - loss: 0.1344 - accuracy: 0.9650 - val_loss: 2.2634 - val_accuracy: 0.5170\n",
            "Epoch 15/1000\n",
            "60/60 [==============================] - 2s 37ms/step - loss: 0.0915 - accuracy: 0.9755 - val_loss: 2.5832 - val_accuracy: 0.4906\n",
            "Epoch 16/1000\n",
            "60/60 [==============================] - 2s 36ms/step - loss: 0.0637 - accuracy: 0.9833 - val_loss: 3.5202 - val_accuracy: 0.5226\n",
            "Epoch 17/1000\n",
            "60/60 [==============================] - 2s 36ms/step - loss: 0.0739 - accuracy: 0.9843 - val_loss: 2.8857 - val_accuracy: 0.5226\n",
            "Epoch 18/1000\n",
            "60/60 [==============================] - 3s 52ms/step - loss: 0.0778 - accuracy: 0.9822 - val_loss: 2.8136 - val_accuracy: 0.5472\n",
            "Epoch 19/1000\n",
            "60/60 [==============================] - 4s 62ms/step - loss: 0.0925 - accuracy: 0.9702 - val_loss: 2.8772 - val_accuracy: 0.5151\n",
            "Epoch 20/1000\n",
            "60/60 [==============================] - 2s 39ms/step - loss: 0.0940 - accuracy: 0.9728 - val_loss: 2.8399 - val_accuracy: 0.5038\n",
            "Epoch 21/1000\n",
            "60/60 [==============================] - 2s 37ms/step - loss: 0.0931 - accuracy: 0.9802 - val_loss: 2.7703 - val_accuracy: 0.5302\n",
            "Epoch 22/1000\n",
            "60/60 [==============================] - 2s 37ms/step - loss: 0.0482 - accuracy: 0.9880 - val_loss: 3.2650 - val_accuracy: 0.5226\n",
            "Epoch 23/1000\n",
            "60/60 [==============================] - 2s 36ms/step - loss: 0.0422 - accuracy: 0.9896 - val_loss: 3.4927 - val_accuracy: 0.5208\n",
            "Epoch 24/1000\n",
            "60/60 [==============================] - 2s 37ms/step - loss: 0.0534 - accuracy: 0.9864 - val_loss: 3.6966 - val_accuracy: 0.4906\n",
            "Epoch 25/1000\n",
            "60/60 [==============================] - 2s 37ms/step - loss: 0.0366 - accuracy: 0.9911 - val_loss: 4.1554 - val_accuracy: 0.5038\n",
            "Epoch 26/1000\n",
            "60/60 [==============================] - 2s 39ms/step - loss: 0.0547 - accuracy: 0.9859 - val_loss: 4.1654 - val_accuracy: 0.5491\n",
            "Epoch 27/1000\n",
            "60/60 [==============================] - 2s 36ms/step - loss: 0.0546 - accuracy: 0.9869 - val_loss: 3.7784 - val_accuracy: 0.5377\n",
            "Epoch 28/1000\n",
            "60/60 [==============================] - 2s 37ms/step - loss: 0.0659 - accuracy: 0.9812 - val_loss: 4.9167 - val_accuracy: 0.5226\n",
            "Epoch 29/1000\n",
            "60/60 [==============================] - 2s 36ms/step - loss: 0.0799 - accuracy: 0.9812 - val_loss: 4.6853 - val_accuracy: 0.5434\n"
          ]
        },
        {
          "output_type": "execute_result",
          "data": {
            "text/plain": [
              "<tensorflow.python.training.tracking.util.CheckpointLoadStatus at 0x7f11fc1fb6d0>"
            ]
          },
          "metadata": {},
          "execution_count": 93
        }
      ],
      "source": [
        "checkpoint_callback = tf.keras.callbacks.ModelCheckpoint(\n",
        "  filepath='ckpt_1',\n",
        "  save_weights_only=True,\n",
        "  monitor='val_accuracy',\n",
        "  mode='max',\n",
        "  save_best_only=True\n",
        ")\n",
        "\n",
        "#early stop mechanism\n",
        "earlystop_callback = tf.keras.callbacks.EarlyStopping(\n",
        "    monitor='val_loss',\n",
        "    patience=25\n",
        ")\n",
        "\n",
        "history = model.fit(train_tweets,\n",
        "                    train_sentiments,\n",
        "                    batch_size=BATCH_SIZE,\n",
        "                    epochs=EPOCHS,\n",
        "                    shuffle=True,\n",
        "                    validation_data=(valid_tweets,valid_sentiments),\n",
        "                    callbacks=[checkpoint_callback, earlystop_callback])"
      ]
    },
    {
      "cell_type": "code",
      "execution_count": null,
      "metadata": {
        "colab": {
          "base_uri": "https://localhost:8080/",
          "height": 545
        },
        "id": "hBfOgw1sDeBL",
        "outputId": "09fe0b01-d0c7-4ebf-b6b1-b313e51a444d"
      },
      "outputs": [
        {
          "output_type": "display_data",
          "data": {
            "text/plain": [
              "<Figure size 432x288 with 1 Axes>"
            ],
            "image/png": "[encoded data removed]"
          },
          "metadata": {
            "needs_background": "light"
          }
        },
        {
          "output_type": "display_data",
          "data": {
            "text/plain": [
              "<Figure size 432x288 with 1 Axes>"
            ],
            "image/png": "[encoded data removed]"
          },
          "metadata": {
            "needs_background": "light"
          }
        }
      ],
      "source": [
        "plot(history)"
      ]
    },
    {
      "cell_type": "code",
      "execution_count": null,
      "metadata": {
        "colab": {
          "base_uri": "https://localhost:8080/"
        },
        "id": "UHhLVBtIJtuR",
        "outputId": "5643652a-c0c8-4755-ff13-2638f99ce315"
      },
      "outputs": [
        {
          "output_type": "execute_result",
          "data": {
            "text/plain": [
              "<tensorflow.python.training.tracking.util.CheckpointLoadStatus at 0x7f11fc1fb210>"
            ]
          },
          "metadata": {},
          "execution_count": 103
        }
      ],
      "source": [
        "model.load_weights('ckpt_1')"
      ]
    },
    {
      "cell_type": "code",
      "execution_count": null,
      "metadata": {
        "colab": {
          "base_uri": "https://localhost:8080/"
        },
        "id": "IgE1k5M0Jgba",
        "outputId": "83483aa6-939e-4f23-e785-134ad24f5711"
      },
      "outputs": [
        {
          "output_type": "stream",
          "name": "stdout",
          "text": [
            "60/60 [==============================] - 1s 13ms/step - loss: 0.0113 - accuracy: 0.9979\n"
          ]
        },
        {
          "output_type": "execute_result",
          "data": {
            "text/plain": [
              "0.9979112148284912"
            ]
          },
          "metadata": {},
          "execution_count": 104
        }
      ],
      "source": [
        "train_loss, train_accuracy = model.evaluate(train_tweets, train_sentiments)\n",
        "train_accuracy"
      ]
    },
    {
      "cell_type": "code",
      "execution_count": null,
      "metadata": {
        "colab": {
          "base_uri": "https://localhost:8080/"
        },
        "id": "R03T37iKDeBM",
        "outputId": "3944636b-5ede-4031-b914-901c55dd438a"
      },
      "outputs": [
        {
          "output_type": "stream",
          "name": "stdout",
          "text": [
            "17/17 [==============================] - 0s 14ms/step - loss: 4.1654 - accuracy: 0.5491\n"
          ]
        },
        {
          "output_type": "execute_result",
          "data": {
            "text/plain": [
              "0.5490565896034241"
            ]
          },
          "metadata": {},
          "execution_count": 105
        }
      ],
      "source": [
        "valid_loss, valid_accuracy = model.evaluate(valid_tweets, valid_sentiments)\n",
        "valid_accuracy"
      ]
    },
    {
      "cell_type": "code",
      "execution_count": null,
      "metadata": {
        "colab": {
          "base_uri": "https://localhost:8080/"
        },
        "id": "VKSO4k46DeBM",
        "outputId": "eb415755-086e-4306-b4ef-31748dd4f943"
      },
      "outputs": [
        {
          "output_type": "stream",
          "name": "stdout",
          "text": [
            "17/17 [==============================] - 0s 14ms/step - loss: 4.3133 - accuracy: 0.5245\n"
          ]
        },
        {
          "output_type": "execute_result",
          "data": {
            "text/plain": [
              "0.5245283246040344"
            ]
          },
          "metadata": {},
          "execution_count": 106
        }
      ],
      "source": [
        "test_loss, test_accuracy = model.evaluate(test_tweets, test_sentiments)\n",
        "test_accuracy"
      ]
    },
    {
      "cell_type": "code",
      "source": [
        "from tabulate import tabulate\n",
        "print(tabulate(eval_metrics(model, test_tweets, test_sentiments), headers=['precision','recall','F1', 'CM']))"
      ],
      "metadata": {
        "id": "zB3p9i3pEiWt",
        "colab": {
          "base_uri": "https://localhost:8080/"
        },
        "outputId": "08b9f1c4-5c6c-4b45-d3b3-07b7355a05ae"
      },
      "execution_count": null,
      "outputs": [
        {
          "output_type": "stream",
          "name": "stdout",
          "text": [
            "              precision    recall  f1-score   support\n",
            "\n",
            "           1       0.64      0.44      0.52       179\n",
            "           0       0.43      0.60      0.50       189\n",
            "          -1       0.00      0.00      0.00         0\n",
            "\n",
            "   micro avg       0.50      0.52      0.51       368\n",
            "   macro avg       0.36      0.35      0.34       368\n",
            "weighted avg       0.54      0.52      0.51       368\n",
            "\n",
            "  precision    recall        F1  CM\n",
            "-----------  --------  --------  ---------------\n",
            "   0.556517  0.523264  0.527857  [[114  32  43]\n",
            "                                  [ 85  78  16]\n",
            "                                  [ 65  11  86]]\n"
          ]
        },
        {
          "output_type": "stream",
          "name": "stderr",
          "text": [
            "/usr/local/lib/python3.7/dist-packages/sklearn/metrics/_classification.py:1318: UndefinedMetricWarning: Precision and F-score are ill-defined and being set to 0.0 in labels with no predicted samples. Use `zero_division` parameter to control this behavior.\n",
            "  _warn_prf(average, modifier, msg_start, len(result))\n",
            "/usr/local/lib/python3.7/dist-packages/sklearn/metrics/_classification.py:1318: UndefinedMetricWarning: Recall and F-score are ill-defined and being set to 0.0 in labels with no true samples. Use `zero_division` parameter to control this behavior.\n",
            "  _warn_prf(average, modifier, msg_start, len(result))\n",
            "/usr/local/lib/python3.7/dist-packages/sklearn/metrics/_classification.py:1318: UndefinedMetricWarning: Precision and F-score are ill-defined and being set to 0.0 in labels with no predicted samples. Use `zero_division` parameter to control this behavior.\n",
            "  _warn_prf(average, modifier, msg_start, len(result))\n",
            "/usr/local/lib/python3.7/dist-packages/sklearn/metrics/_classification.py:1318: UndefinedMetricWarning: Recall and F-score are ill-defined and being set to 0.0 in labels with no true samples. Use `zero_division` parameter to control this behavior.\n",
            "  _warn_prf(average, modifier, msg_start, len(result))\n",
            "/usr/local/lib/python3.7/dist-packages/sklearn/metrics/_classification.py:1318: UndefinedMetricWarning: Precision and F-score are ill-defined and being set to 0.0 in labels with no predicted samples. Use `zero_division` parameter to control this behavior.\n",
            "  _warn_prf(average, modifier, msg_start, len(result))\n",
            "/usr/local/lib/python3.7/dist-packages/sklearn/metrics/_classification.py:1318: UndefinedMetricWarning: Recall and F-score are ill-defined and being set to 0.0 in labels with no true samples. Use `zero_division` parameter to control this behavior.\n",
            "  _warn_prf(average, modifier, msg_start, len(result))\n",
            "/usr/local/lib/python3.7/dist-packages/ipykernel_launcher.py:10: VisibleDeprecationWarning: Creating an ndarray from ragged nested sequences (which is a list-or-tuple of lists-or-tuples-or ndarrays with different lengths or shapes) is deprecated. If you meant to do this, you must specify 'dtype=object' when creating the ndarray.\n",
            "  # Remove the CWD from sys.path while we load stuff.\n"
          ]
        }
      ]
    },
    {
      "cell_type": "code",
      "source": [
        "#just on semeval test\n",
        "test_loss, test_accuracy = model.evaluate(test_tweets1, test_sentiments1)\n",
        "test_accuracy"
      ],
      "metadata": {
        "id": "dwx_mCZaEdNs",
        "colab": {
          "base_uri": "https://localhost:8080/"
        },
        "outputId": "47e570ac-d5e5-49e1-aeb2-dfa522c1f641"
      },
      "execution_count": null,
      "outputs": [
        {
          "output_type": "stream",
          "name": "stdout",
          "text": [
            "3/3 [==============================] - 0s 14ms/step - loss: 3.3192 - accuracy: 0.6308\n"
          ]
        },
        {
          "output_type": "execute_result",
          "data": {
            "text/plain": [
              "0.6307692527770996"
            ]
          },
          "metadata": {},
          "execution_count": 108
        }
      ]
    },
    {
      "cell_type": "code",
      "source": [
        "from tabulate import tabulate\n",
        "print(tabulate(eval_metrics(model, test_tweets1, test_sentiments1), headers=['precision','recall','F1', 'CM']))"
      ],
      "metadata": {
        "colab": {
          "base_uri": "https://localhost:8080/"
        },
        "outputId": "f521c09d-dcad-4806-b297-ad4071c28081",
        "id": "X6x0zH2vbOIY"
      },
      "execution_count": null,
      "outputs": [
        {
          "output_type": "stream",
          "name": "stdout",
          "text": [
            "              precision    recall  f1-score   support\n",
            "\n",
            "           1       0.64      0.58      0.61        24\n",
            "           0       0.62      0.74      0.68        34\n",
            "          -1       0.00      0.00      0.00         0\n",
            "\n",
            "   micro avg       0.63      0.67      0.65        58\n",
            "   macro avg       0.42      0.44      0.43        58\n",
            "weighted avg       0.63      0.67      0.65        58\n",
            "\n",
            "  precision    recall        F1  CM\n",
            "-----------  --------  --------  ------------\n",
            "   0.642677  0.534781  0.561457  [[25  8  1]\n",
            "                                  [10 14  0]\n",
            "                                  [ 5  0  2]]\n"
          ]
        },
        {
          "output_type": "stream",
          "name": "stderr",
          "text": [
            "/usr/local/lib/python3.7/dist-packages/sklearn/metrics/_classification.py:1318: UndefinedMetricWarning: Precision and F-score are ill-defined and being set to 0.0 in labels with no predicted samples. Use `zero_division` parameter to control this behavior.\n",
            "  _warn_prf(average, modifier, msg_start, len(result))\n",
            "/usr/local/lib/python3.7/dist-packages/sklearn/metrics/_classification.py:1318: UndefinedMetricWarning: Recall and F-score are ill-defined and being set to 0.0 in labels with no true samples. Use `zero_division` parameter to control this behavior.\n",
            "  _warn_prf(average, modifier, msg_start, len(result))\n",
            "/usr/local/lib/python3.7/dist-packages/sklearn/metrics/_classification.py:1318: UndefinedMetricWarning: Precision and F-score are ill-defined and being set to 0.0 in labels with no predicted samples. Use `zero_division` parameter to control this behavior.\n",
            "  _warn_prf(average, modifier, msg_start, len(result))\n",
            "/usr/local/lib/python3.7/dist-packages/sklearn/metrics/_classification.py:1318: UndefinedMetricWarning: Recall and F-score are ill-defined and being set to 0.0 in labels with no true samples. Use `zero_division` parameter to control this behavior.\n",
            "  _warn_prf(average, modifier, msg_start, len(result))\n",
            "/usr/local/lib/python3.7/dist-packages/sklearn/metrics/_classification.py:1318: UndefinedMetricWarning: Precision and F-score are ill-defined and being set to 0.0 in labels with no predicted samples. Use `zero_division` parameter to control this behavior.\n",
            "  _warn_prf(average, modifier, msg_start, len(result))\n",
            "/usr/local/lib/python3.7/dist-packages/sklearn/metrics/_classification.py:1318: UndefinedMetricWarning: Recall and F-score are ill-defined and being set to 0.0 in labels with no true samples. Use `zero_division` parameter to control this behavior.\n",
            "  _warn_prf(average, modifier, msg_start, len(result))\n",
            "/usr/local/lib/python3.7/dist-packages/ipykernel_launcher.py:10: VisibleDeprecationWarning: Creating an ndarray from ragged nested sequences (which is a list-or-tuple of lists-or-tuples-or ndarrays with different lengths or shapes) is deprecated. If you meant to do this, you must specify 'dtype=object' when creating the ndarray.\n",
            "  # Remove the CWD from sys.path while we load stuff.\n"
          ]
        }
      ]
    },
    {
      "cell_type": "code",
      "source": [
        "output_file_path = os.path.join(base_path, \"Models/astd_bi_LSTM_CNN_comb_60.h5\")\n",
        "model.save(output_file_path)"
      ],
      "metadata": {
        "id": "u3xbEV6rn3RF"
      },
      "execution_count": null,
      "outputs": []
    },
    {
      "cell_type": "markdown",
      "metadata": {
        "id": "ka8mFoDiLsMu"
      },
      "source": [
        "# 4.4 Transformer\n",
        "\n"
      ]
    },
    {
      "cell_type": "markdown",
      "metadata": {
        "id": "lhUpf0VtnM2N"
      },
      "source": [
        "##Preparing Data for Transformer"
      ]
    },
    {
      "cell_type": "code",
      "source": [
        "max = max1 if max1>max2 else max2 "
      ],
      "metadata": {
        "id": "pgds99TUwNAU"
      },
      "execution_count": null,
      "outputs": []
    },
    {
      "cell_type": "code",
      "execution_count": null,
      "metadata": {
        "colab": {
          "base_uri": "https://localhost:8080/",
          "height": 284,
          "referenced_widgets": [
            "4222b8442e0f4b58b2251635359bd2d7",
            "604f3192eedf4a86b9aeff1594ee0b47",
            "b821c5b478a94d388a1500aeace703a3",
            "ce42763f6e044802992d6c284595faab",
            "0c8f9ebccc434c1bbbdfce387b2d74e1",
            "3681d9da51314649b9883c9c1ac00b88",
            "279a280729af4eecb50b291bd01c42d5",
            "b4ee06cd71c143baaceb529477765346",
            "75a561fa869f49348d0a42cbe2541a85",
            "1c493fade50c4534baea081d6fcc0568",
            "5519c5a830664ca1abd6e28de5221b0d",
            "0777194ce4ea4774add79c33e5d1424a",
            "c079021b19d0482d8f81415fbbc2ce11",
            "5b7d5a1cc8084143bb712dbe9a749e35",
            "e0a025d0aa5a4ec0bf6d3831de4acb4f",
            "7cdd366ca61d453dab3dd7e59bb66502",
            "a60526dc78204234a111a431fa9a656d",
            "09a84983794848fc9e5da217af230c39",
            "0a3306446e0541acac044d7047dc0afb",
            "52d6d74961ce49a5af8be7060560796c",
            "9ee70e5d69b6438785f72cf432cd0920",
            "8dbc8b01896142f6a6de2f38c522a2cb",
            "7773cda5b98a4af2b336a96b0efdd844",
            "13ea8f7d5a8948b596e106afb68f3a03",
            "8dc090b2da5b4d8f91a608364aa4ecab",
            "0c3f3b0d05324febb04ed69dfa93203b",
            "f38e6f0505614701865b405107f4e885",
            "68a5ed66ded241d8b5622f8c4a01fb6b",
            "7a4890ca0f3e4dc3a51e5e580150636f",
            "db0977c13d34410d9460a51022187ae8",
            "27cafab260034d0db3cf85cd767ae2a7",
            "dd87c8062fa4415893e5e227ff8dfb7a",
            "8d6eee4a102f4169957f0a13a7a54b8f",
            "5e3feef8051d445a944dc4db94998934",
            "957ce1dd701b40a2aa341094848acc25",
            "b23b2693847447c2b6dfdf82eb1f7cdb",
            "19a02dc14c764084bf26f382ff0f63b1",
            "4771919880b74a8a8a2adb3558983175",
            "75592d5a23694ff29b1d9651ce89d8c9",
            "57235f6df8ee4bf9b706c0e0bcfbfa43",
            "651b338b0f6b46abb23621ce555fe4d5",
            "49ab9d6a994748369462206c514388aa",
            "5fc1e6a4ed654adbbab1f8d55863b192",
            "e56ce990b6de481d897c89f44be971ec",
            "32fd1bfa7c8f435da5efe2e1ddb6f33b",
            "fa1a4e4a6f674d8cb5ea621b5d81192d",
            "b3cd158cf2354bd39575c0905b9adc39",
            "dc8176161d59416da9fc28724435086c",
            "24a2a78e3fa5492cba10ce683316d208",
            "95cbe7602559473faf89002e2774528b",
            "d57d2ca64bc64a85818180fff8a525fa",
            "6042367436ac4ed5b0eb1150197cabd2",
            "8a65e5940af24dc591bd1ea5ba0f5b02",
            "f335e899238a4b4294892203aff2d258",
            "0b9c2dfe99a74cb6b92d45beb7727235"
          ]
        },
        "id": "TyJu_OmLMG03",
        "outputId": "78b932c1-dd25-4716-ae21-51e4322c10fd"
      },
      "outputs": [
        {
          "output_type": "display_data",
          "data": {
            "text/plain": [
              "Downloading:   0%|          | 0.00/62.0 [00:00<?, ?B/s]"
            ],
            "application/vnd.jupyter.widget-view+json": {
              "version_major": 2,
              "version_minor": 0,
              "model_id": "4222b8442e0f4b58b2251635359bd2d7"
            }
          },
          "metadata": {}
        },
        {
          "output_type": "display_data",
          "data": {
            "text/plain": [
              "Downloading:   0%|          | 0.00/491 [00:00<?, ?B/s]"
            ],
            "application/vnd.jupyter.widget-view+json": {
              "version_major": 2,
              "version_minor": 0,
              "model_id": "0777194ce4ea4774add79c33e5d1424a"
            }
          },
          "metadata": {}
        },
        {
          "output_type": "display_data",
          "data": {
            "text/plain": [
              "Downloading:   0%|          | 0.00/326k [00:00<?, ?B/s]"
            ],
            "application/vnd.jupyter.widget-view+json": {
              "version_major": 2,
              "version_minor": 0,
              "model_id": "7773cda5b98a4af2b336a96b0efdd844"
            }
          },
          "metadata": {}
        },
        {
          "output_type": "display_data",
          "data": {
            "text/plain": [
              "Downloading:   0%|          | 0.00/112 [00:00<?, ?B/s]"
            ],
            "application/vnd.jupyter.widget-view+json": {
              "version_major": 2,
              "version_minor": 0,
              "model_id": "5e3feef8051d445a944dc4db94998934"
            }
          },
          "metadata": {}
        },
        {
          "output_type": "display_data",
          "data": {
            "text/plain": [
              "Downloading:   0%|          | 0.00/520M [00:00<?, ?B/s]"
            ],
            "application/vnd.jupyter.widget-view+json": {
              "version_major": 2,
              "version_minor": 0,
              "model_id": "32fd1bfa7c8f435da5efe2e1ddb6f33b"
            }
          },
          "metadata": {}
        },
        {
          "output_type": "stream",
          "name": "stderr",
          "text": [
            "Some layers from the model checkpoint at asafaya/bert-base-arabic were not used when initializing TFBertModel: ['mlm___cls']\n",
            "- This IS expected if you are initializing TFBertModel from the checkpoint of a model trained on another task or with another architecture (e.g. initializing a BertForSequenceClassification model from a BertForPreTraining model).\n",
            "- This IS NOT expected if you are initializing TFBertModel from the checkpoint of a model that you expect to be exactly identical (initializing a BertForSequenceClassification model from a BertForSequenceClassification model).\n",
            "All the layers of TFBertModel were initialized from the model checkpoint at asafaya/bert-base-arabic.\n",
            "If your task is similar to the task the model of the checkpoint was trained on, you can already use TFBertModel for predictions without further training.\n"
          ]
        }
      ],
      "source": [
        "from transformers import AutoTokenizer, TFAutoModel, TFAutoModelForSequenceClassification\n",
        "#base or mini\n",
        "tokenizer = AutoTokenizer.from_pretrained(\"asafaya/bert-base-arabic\")\n",
        "bert_model = TFAutoModel.from_pretrained(\"asafaya/bert-base-arabic\")\n",
        "#bert_model = TFAutoModelForSequenceClassification.from_pretrained(\"asafaya/bert-base-arabic\", num_labels=3)"
      ]
    },
    {
      "cell_type": "code",
      "execution_count": null,
      "metadata": {
        "id": "zUQnOXi6MHkC"
      },
      "outputs": [],
      "source": [
        "tune_tweets = tokenizer(text=tune['tweet'].tolist(),\n",
        "                         is_split_into_words=True,\n",
        "                         add_special_tokens=True,\n",
        "                         max_length=max,\n",
        "                         truncation=True,\n",
        "                         padding='max_length',\n",
        "                         return_tensors='tf',\n",
        "                         return_token_type_ids=False,\n",
        "                         return_attention_mask=True,\n",
        "                         verbose=True)\n",
        "\n",
        "train_tweets = tokenizer(text=train['tweet'].tolist(),\n",
        "                         is_split_into_words=True,\n",
        "                         add_special_tokens=True,\n",
        "                         max_length=max,\n",
        "                         truncation=True,\n",
        "                         padding='max_length',\n",
        "                         return_tensors='tf',\n",
        "                         return_token_type_ids=False,\n",
        "                         return_attention_mask=True,\n",
        "                         verbose=True)\n",
        "\n",
        "valid_tweets = tokenizer(text=valid['tweet'].tolist(),\n",
        "                         is_split_into_words=True,\n",
        "                         add_special_tokens=True,\n",
        "                         max_length=max,\n",
        "                         truncation=True,\n",
        "                         padding='max_length',\n",
        "                         return_tensors='tf',\n",
        "                         return_token_type_ids=False,\n",
        "                         return_attention_mask=True,\n",
        "                         verbose=True)\n",
        "\n",
        "test_tweets = tokenizer(text=test['tweet'].tolist(),\n",
        "                         is_split_into_words=True,\n",
        "                         add_special_tokens=True,\n",
        "                         max_length=max,\n",
        "                         truncation=True,\n",
        "                         padding='max_length',\n",
        "                         return_tensors='tf',\n",
        "                         return_token_type_ids=False,\n",
        "                         return_attention_mask=True,\n",
        "                         verbose=True)\n",
        "\n",
        "test_tweets1 = tokenizer(text=test1['tweet'].tolist(),\n",
        "                         is_split_into_words=True,\n",
        "                         add_special_tokens=True,\n",
        "                         max_length=max,\n",
        "                         truncation=True,\n",
        "                         padding='max_length',\n",
        "                         return_tensors='tf',\n",
        "                         return_token_type_ids=False,\n",
        "                         return_attention_mask=True,\n",
        "                         verbose=True)\n",
        "\n",
        "train_sentiments = [sentiment for sentiment in train['scale']]\n",
        "train_sentiments = to_categorical(np.array(train_sentiments), len(sentiments))\n",
        "tune_sentiments = [sentiment for sentiment in tune['scale']]\n",
        "tune_sentiments = to_categorical(np.array(tune_sentiments), len(sentiments))\n",
        "valid_sentiments = [sentiment for sentiment in valid['scale']]\n",
        "valid_sentiments = to_categorical(np.array(valid_sentiments), len(sentiments))\n",
        "test_sentiments = [sentiment for sentiment in test['scale']]\n",
        "test_sentiments = to_categorical(np.array(test_sentiments), len(sentiments))\n",
        "test_sentiments1 = [sentiment for sentiment in test1['scale']]\n",
        "test_sentiments1 = to_categorical(np.array(test_sentiments1), len(sentiments))"
      ]
    },
    {
      "cell_type": "markdown",
      "metadata": {
        "id": "bjuIwqQPnYYn"
      },
      "source": [
        "##Hyperparameter Tuning"
      ]
    },
    {
      "cell_type": "code",
      "execution_count": null,
      "metadata": {
        "id": "LncTZWNKnYYo"
      },
      "outputs": [],
      "source": [
        "def define_transformer_model(hp):\n",
        "  input = Input(shape=(2,max), dtype=tf.int32)\n",
        "  embeddings = bert_model(input_ids=tf.convert_to_tensor(input[:,0],dtype=tf.int32), attention_mask=tf.convert_to_tensor(input[:,1], dtype=tf.int32))[0]\n",
        "  embeddings=Flatten()(embeddings)\n",
        "\n",
        "  out = Dropout((hp.Choice('dropout', [0.5, 0.8])))(embeddings)\n",
        "\n",
        "  out = Dense(hp.Choice('dense_hidden_units2', [8, 128]),\n",
        "                    activation=hp.Choice('activation', ['elu', 'relu']),\n",
        "                    kernel_initializer=hp.Choice('init' , ['uniform', 'orthogonal', 'random_uniform']))(out)\n",
        "\n",
        "  out = Dropout((hp.Choice('dropout', [0.5, 0.8])))(embeddings)\n",
        "  \n",
        "  output = Dense(len(sentiments), kernel_initializer=hp.Choice('init' , ['uniform', 'orthogonal', 'random_uniform']),\n",
        "                  activation='softmax', activity_regularizer=regularizers.l2(hp.Choice('l2', [0.01, 0.001])))(out)\n",
        "  \n",
        "  model = tf.keras.Model(inputs=input, outputs=output)\n",
        "  model.layers[1].trainable=True\n",
        "\n",
        "  opt = tf.keras.optimizers.Adam(\n",
        "      clipnorm=hp.Choice('clipnorm', [1,3,5]),\n",
        "      learning_rate=hp.Choice('lr', [5e-05,5e-06,5e-04,5e-03]),\n",
        "      name='Adam')\n",
        "  loss = tf.keras.losses.CategoricalCrossentropy()\n",
        "  model.compile(loss=loss,\n",
        "                optimizer=opt,\n",
        "                metrics=['accuracy'])\n",
        "  return model\n",
        "\n",
        "\n",
        "  "
      ]
    },
    {
      "cell_type": "code",
      "execution_count": null,
      "metadata": {
        "id": "6vlaqY15NTww"
      },
      "outputs": [],
      "source": [
        "combi_input = np.stack([ tune_tweets['input_ids'], tune_tweets['attention_mask'] ], axis=1)"
      ]
    },
    {
      "cell_type": "code",
      "source": [
        "tuner = kt.Hyperband(\n",
        "    define_transformer_model,\n",
        "    objective='val_categorical_accuracy',\n",
        "    max_epochs=10,\n",
        "    hyperband_iterations=1,\n",
        "    overwrite=True)\n",
        "\n",
        "tuner.search(combi_input,\n",
        "             tune_sentiments,\n",
        "             validation_split=0.2,\n",
        "             batch_size=32,\n",
        "             epochs=10,\n",
        "             callbacks=[tf.keras.callbacks.EarlyStopping(patience=3)])"
      ],
      "metadata": {
        "colab": {
          "base_uri": "https://localhost:8080/",
          "height": 765
        },
        "id": "yg8I--1Cvgcq",
        "outputId": "ac83a713-78c7-4527-90c4-560ccbc9f122"
      },
      "execution_count": null,
      "outputs": [
        {
          "output_type": "stream",
          "name": "stdout",
          "text": [
            "Trial 19 Complete [00h 00m 34s]\n",
            "val_accuracy: 0.42105263471603394\n",
            "\n",
            "Best val_accuracy So Far: 0.4736842215061188\n",
            "Total elapsed time: 00h 11m 13s\n",
            "\n",
            "Search: Running Trial #20\n",
            "\n",
            "Value             |Best Value So Far |Hyperparameter\n",
            "0.5               |0.8               |dropout\n",
            "8                 |128               |dense_hidden_units2\n",
            "elu               |relu              |activation\n",
            "uniform           |uniform           |init\n",
            "0.001             |0.01              |l2\n",
            "5                 |1                 |clipnorm\n",
            "0.0005            |5e-06             |lr\n",
            "4                 |2                 |tuner/epochs\n",
            "0                 |0                 |tuner/initial_epoch\n",
            "1                 |2                 |tuner/bracket\n",
            "0                 |0                 |tuner/round\n",
            "\n",
            "Epoch 1/4\n",
            "WARNING:tensorflow:Gradients do not exist for variables ['tf_bert_model_1/bert/pooler/dense/kernel:0', 'tf_bert_model_1/bert/pooler/dense/bias:0'] when minimizing the loss. If you're using `model.compile()`, did you forget to provide a `loss`argument?\n"
          ]
        },
        {
          "output_type": "error",
          "ename": "KeyboardInterrupt",
          "evalue": "ignored",
          "traceback": [
            "\u001b[0;31m---------------------------------------------------------------------------\u001b[0m",
            "\u001b[0;31mKeyboardInterrupt\u001b[0m                         Traceback (most recent call last)",
            "\u001b[0;32m<ipython-input-27-012114507967>\u001b[0m in \u001b[0;36m<module>\u001b[0;34m()\u001b[0m\n\u001b[1;32m     11\u001b[0m              \u001b[0mbatch_size\u001b[0m\u001b[0;34m=\u001b[0m\u001b[0;36m32\u001b[0m\u001b[0;34m,\u001b[0m\u001b[0;34m\u001b[0m\u001b[0;34m\u001b[0m\u001b[0m\n\u001b[1;32m     12\u001b[0m              \u001b[0mepochs\u001b[0m\u001b[0;34m=\u001b[0m\u001b[0;36m10\u001b[0m\u001b[0;34m,\u001b[0m\u001b[0;34m\u001b[0m\u001b[0;34m\u001b[0m\u001b[0m\n\u001b[0;32m---> 13\u001b[0;31m              callbacks=[tf.keras.callbacks.EarlyStopping(patience=3)])\n\u001b[0m",
            "\u001b[0;32m/usr/local/lib/python3.7/dist-packages/keras_tuner/engine/base_tuner.py\u001b[0m in \u001b[0;36msearch\u001b[0;34m(self, *fit_args, **fit_kwargs)\u001b[0m\n\u001b[1;32m    177\u001b[0m \u001b[0;34m\u001b[0m\u001b[0m\n\u001b[1;32m    178\u001b[0m             \u001b[0mself\u001b[0m\u001b[0;34m.\u001b[0m\u001b[0mon_trial_begin\u001b[0m\u001b[0;34m(\u001b[0m\u001b[0mtrial\u001b[0m\u001b[0;34m)\u001b[0m\u001b[0;34m\u001b[0m\u001b[0;34m\u001b[0m\u001b[0m\n\u001b[0;32m--> 179\u001b[0;31m             \u001b[0mresults\u001b[0m \u001b[0;34m=\u001b[0m \u001b[0mself\u001b[0m\u001b[0;34m.\u001b[0m\u001b[0mrun_trial\u001b[0m\u001b[0;34m(\u001b[0m\u001b[0mtrial\u001b[0m\u001b[0;34m,\u001b[0m \u001b[0;34m*\u001b[0m\u001b[0mfit_args\u001b[0m\u001b[0;34m,\u001b[0m \u001b[0;34m**\u001b[0m\u001b[0mfit_kwargs\u001b[0m\u001b[0;34m)\u001b[0m\u001b[0;34m\u001b[0m\u001b[0;34m\u001b[0m\u001b[0m\n\u001b[0m\u001b[1;32m    180\u001b[0m             \u001b[0;31m# `results` is None indicates user updated oracle in `run_trial()`.\u001b[0m\u001b[0;34m\u001b[0m\u001b[0;34m\u001b[0m\u001b[0;34m\u001b[0m\u001b[0m\n\u001b[1;32m    181\u001b[0m             \u001b[0;32mif\u001b[0m \u001b[0mresults\u001b[0m \u001b[0;32mis\u001b[0m \u001b[0;32mNone\u001b[0m\u001b[0;34m:\u001b[0m\u001b[0;34m\u001b[0m\u001b[0;34m\u001b[0m\u001b[0m\n",
            "\u001b[0;32m/usr/local/lib/python3.7/dist-packages/keras_tuner/tuners/hyperband.py\u001b[0m in \u001b[0;36mrun_trial\u001b[0;34m(self, trial, *fit_args, **fit_kwargs)\u001b[0m\n\u001b[1;32m    382\u001b[0m             \u001b[0mfit_kwargs\u001b[0m\u001b[0;34m[\u001b[0m\u001b[0;34m\"epochs\"\u001b[0m\u001b[0;34m]\u001b[0m \u001b[0;34m=\u001b[0m \u001b[0mhp\u001b[0m\u001b[0;34m.\u001b[0m\u001b[0mvalues\u001b[0m\u001b[0;34m[\u001b[0m\u001b[0;34m\"tuner/epochs\"\u001b[0m\u001b[0;34m]\u001b[0m\u001b[0;34m\u001b[0m\u001b[0;34m\u001b[0m\u001b[0m\n\u001b[1;32m    383\u001b[0m             \u001b[0mfit_kwargs\u001b[0m\u001b[0;34m[\u001b[0m\u001b[0;34m\"initial_epoch\"\u001b[0m\u001b[0;34m]\u001b[0m \u001b[0;34m=\u001b[0m \u001b[0mhp\u001b[0m\u001b[0;34m.\u001b[0m\u001b[0mvalues\u001b[0m\u001b[0;34m[\u001b[0m\u001b[0;34m\"tuner/initial_epoch\"\u001b[0m\u001b[0;34m]\u001b[0m\u001b[0;34m\u001b[0m\u001b[0;34m\u001b[0m\u001b[0m\n\u001b[0;32m--> 384\u001b[0;31m         \u001b[0;32mreturn\u001b[0m \u001b[0msuper\u001b[0m\u001b[0;34m(\u001b[0m\u001b[0mHyperband\u001b[0m\u001b[0;34m,\u001b[0m \u001b[0mself\u001b[0m\u001b[0;34m)\u001b[0m\u001b[0;34m.\u001b[0m\u001b[0mrun_trial\u001b[0m\u001b[0;34m(\u001b[0m\u001b[0mtrial\u001b[0m\u001b[0;34m,\u001b[0m \u001b[0;34m*\u001b[0m\u001b[0mfit_args\u001b[0m\u001b[0;34m,\u001b[0m \u001b[0;34m**\u001b[0m\u001b[0mfit_kwargs\u001b[0m\u001b[0;34m)\u001b[0m\u001b[0;34m\u001b[0m\u001b[0;34m\u001b[0m\u001b[0m\n\u001b[0m\u001b[1;32m    385\u001b[0m \u001b[0;34m\u001b[0m\u001b[0m\n\u001b[1;32m    386\u001b[0m     \u001b[0;32mdef\u001b[0m \u001b[0m_build_model\u001b[0m\u001b[0;34m(\u001b[0m\u001b[0mself\u001b[0m\u001b[0;34m,\u001b[0m \u001b[0mhp\u001b[0m\u001b[0;34m)\u001b[0m\u001b[0;34m:\u001b[0m\u001b[0;34m\u001b[0m\u001b[0;34m\u001b[0m\u001b[0m\n",
            "\u001b[0;32m/usr/local/lib/python3.7/dist-packages/keras_tuner/engine/tuner.py\u001b[0m in \u001b[0;36mrun_trial\u001b[0;34m(self, trial, *args, **kwargs)\u001b[0m\n\u001b[1;32m    292\u001b[0m             \u001b[0mcallbacks\u001b[0m\u001b[0;34m.\u001b[0m\u001b[0mappend\u001b[0m\u001b[0;34m(\u001b[0m\u001b[0mmodel_checkpoint\u001b[0m\u001b[0;34m)\u001b[0m\u001b[0;34m\u001b[0m\u001b[0;34m\u001b[0m\u001b[0m\n\u001b[1;32m    293\u001b[0m             \u001b[0mcopied_kwargs\u001b[0m\u001b[0;34m[\u001b[0m\u001b[0;34m\"callbacks\"\u001b[0m\u001b[0;34m]\u001b[0m \u001b[0;34m=\u001b[0m \u001b[0mcallbacks\u001b[0m\u001b[0;34m\u001b[0m\u001b[0;34m\u001b[0m\u001b[0m\n\u001b[0;32m--> 294\u001b[0;31m             \u001b[0mobj_value\u001b[0m \u001b[0;34m=\u001b[0m \u001b[0mself\u001b[0m\u001b[0;34m.\u001b[0m\u001b[0m_build_and_fit_model\u001b[0m\u001b[0;34m(\u001b[0m\u001b[0mtrial\u001b[0m\u001b[0;34m,\u001b[0m \u001b[0;34m*\u001b[0m\u001b[0margs\u001b[0m\u001b[0;34m,\u001b[0m \u001b[0;34m**\u001b[0m\u001b[0mcopied_kwargs\u001b[0m\u001b[0;34m)\u001b[0m\u001b[0;34m\u001b[0m\u001b[0;34m\u001b[0m\u001b[0m\n\u001b[0m\u001b[1;32m    295\u001b[0m \u001b[0;34m\u001b[0m\u001b[0m\n\u001b[1;32m    296\u001b[0m             \u001b[0mhistories\u001b[0m\u001b[0;34m.\u001b[0m\u001b[0mappend\u001b[0m\u001b[0;34m(\u001b[0m\u001b[0mobj_value\u001b[0m\u001b[0;34m)\u001b[0m\u001b[0;34m\u001b[0m\u001b[0;34m\u001b[0m\u001b[0m\n",
            "\u001b[0;32m/usr/local/lib/python3.7/dist-packages/keras_tuner/engine/tuner.py\u001b[0m in \u001b[0;36m_build_and_fit_model\u001b[0;34m(self, trial, *args, **kwargs)\u001b[0m\n\u001b[1;32m    220\u001b[0m         \u001b[0mhp\u001b[0m \u001b[0;34m=\u001b[0m \u001b[0mtrial\u001b[0m\u001b[0;34m.\u001b[0m\u001b[0mhyperparameters\u001b[0m\u001b[0;34m\u001b[0m\u001b[0;34m\u001b[0m\u001b[0m\n\u001b[1;32m    221\u001b[0m         \u001b[0mmodel\u001b[0m \u001b[0;34m=\u001b[0m \u001b[0mself\u001b[0m\u001b[0;34m.\u001b[0m\u001b[0m_try_build\u001b[0m\u001b[0;34m(\u001b[0m\u001b[0mhp\u001b[0m\u001b[0;34m)\u001b[0m\u001b[0;34m\u001b[0m\u001b[0;34m\u001b[0m\u001b[0m\n\u001b[0;32m--> 222\u001b[0;31m         \u001b[0mresults\u001b[0m \u001b[0;34m=\u001b[0m \u001b[0mself\u001b[0m\u001b[0;34m.\u001b[0m\u001b[0mhypermodel\u001b[0m\u001b[0;34m.\u001b[0m\u001b[0mfit\u001b[0m\u001b[0;34m(\u001b[0m\u001b[0mhp\u001b[0m\u001b[0;34m,\u001b[0m \u001b[0mmodel\u001b[0m\u001b[0;34m,\u001b[0m \u001b[0;34m*\u001b[0m\u001b[0margs\u001b[0m\u001b[0;34m,\u001b[0m \u001b[0;34m**\u001b[0m\u001b[0mkwargs\u001b[0m\u001b[0;34m)\u001b[0m\u001b[0;34m\u001b[0m\u001b[0;34m\u001b[0m\u001b[0m\n\u001b[0m\u001b[1;32m    223\u001b[0m         return tuner_utils.convert_to_metrics_dict(\n\u001b[1;32m    224\u001b[0m             \u001b[0mresults\u001b[0m\u001b[0;34m,\u001b[0m \u001b[0mself\u001b[0m\u001b[0;34m.\u001b[0m\u001b[0moracle\u001b[0m\u001b[0;34m.\u001b[0m\u001b[0mobjective\u001b[0m\u001b[0;34m,\u001b[0m \u001b[0;34m\"HyperModel.fit()\"\u001b[0m\u001b[0;34m\u001b[0m\u001b[0;34m\u001b[0m\u001b[0m\n",
            "\u001b[0;32m/usr/local/lib/python3.7/dist-packages/keras_tuner/engine/hypermodel.py\u001b[0m in \u001b[0;36mfit\u001b[0;34m(self, hp, model, *args, **kwargs)\u001b[0m\n\u001b[1;32m    135\u001b[0m             \u001b[0mIf\u001b[0m \u001b[0;32mreturn\u001b[0m \u001b[0ma\u001b[0m \u001b[0mfloat\u001b[0m\u001b[0;34m,\u001b[0m \u001b[0mit\u001b[0m \u001b[0mshould\u001b[0m \u001b[0mbe\u001b[0m \u001b[0mthe\u001b[0m\u001b[0;31m \u001b[0m\u001b[0;31m`\u001b[0m\u001b[0mobjective\u001b[0m\u001b[0;31m`\u001b[0m \u001b[0mvalue\u001b[0m\u001b[0;34m.\u001b[0m\u001b[0;34m\u001b[0m\u001b[0;34m\u001b[0m\u001b[0m\n\u001b[1;32m    136\u001b[0m         \"\"\"\n\u001b[0;32m--> 137\u001b[0;31m         \u001b[0;32mreturn\u001b[0m \u001b[0mmodel\u001b[0m\u001b[0;34m.\u001b[0m\u001b[0mfit\u001b[0m\u001b[0;34m(\u001b[0m\u001b[0;34m*\u001b[0m\u001b[0margs\u001b[0m\u001b[0;34m,\u001b[0m \u001b[0;34m**\u001b[0m\u001b[0mkwargs\u001b[0m\u001b[0;34m)\u001b[0m\u001b[0;34m\u001b[0m\u001b[0;34m\u001b[0m\u001b[0m\n\u001b[0m\u001b[1;32m    138\u001b[0m \u001b[0;34m\u001b[0m\u001b[0m\n\u001b[1;32m    139\u001b[0m \u001b[0;34m\u001b[0m\u001b[0m\n",
            "\u001b[0;32m/usr/local/lib/python3.7/dist-packages/keras/utils/traceback_utils.py\u001b[0m in \u001b[0;36merror_handler\u001b[0;34m(*args, **kwargs)\u001b[0m\n\u001b[1;32m     62\u001b[0m     \u001b[0mfiltered_tb\u001b[0m \u001b[0;34m=\u001b[0m \u001b[0;32mNone\u001b[0m\u001b[0;34m\u001b[0m\u001b[0;34m\u001b[0m\u001b[0m\n\u001b[1;32m     63\u001b[0m     \u001b[0;32mtry\u001b[0m\u001b[0;34m:\u001b[0m\u001b[0;34m\u001b[0m\u001b[0;34m\u001b[0m\u001b[0m\n\u001b[0;32m---> 64\u001b[0;31m       \u001b[0;32mreturn\u001b[0m \u001b[0mfn\u001b[0m\u001b[0;34m(\u001b[0m\u001b[0;34m*\u001b[0m\u001b[0margs\u001b[0m\u001b[0;34m,\u001b[0m \u001b[0;34m**\u001b[0m\u001b[0mkwargs\u001b[0m\u001b[0;34m)\u001b[0m\u001b[0;34m\u001b[0m\u001b[0;34m\u001b[0m\u001b[0m\n\u001b[0m\u001b[1;32m     65\u001b[0m     \u001b[0;32mexcept\u001b[0m \u001b[0mException\u001b[0m \u001b[0;32mas\u001b[0m \u001b[0me\u001b[0m\u001b[0;34m:\u001b[0m  \u001b[0;31m# pylint: disable=broad-except\u001b[0m\u001b[0;34m\u001b[0m\u001b[0;34m\u001b[0m\u001b[0m\n\u001b[1;32m     66\u001b[0m       \u001b[0mfiltered_tb\u001b[0m \u001b[0;34m=\u001b[0m \u001b[0m_process_traceback_frames\u001b[0m\u001b[0;34m(\u001b[0m\u001b[0me\u001b[0m\u001b[0;34m.\u001b[0m\u001b[0m__traceback__\u001b[0m\u001b[0;34m)\u001b[0m\u001b[0;34m\u001b[0m\u001b[0;34m\u001b[0m\u001b[0m\n",
            "\u001b[0;32m/usr/local/lib/python3.7/dist-packages/keras/engine/training.py\u001b[0m in \u001b[0;36mfit\u001b[0;34m(self, x, y, batch_size, epochs, verbose, callbacks, validation_split, validation_data, shuffle, class_weight, sample_weight, initial_epoch, steps_per_epoch, validation_steps, validation_batch_size, validation_freq, max_queue_size, workers, use_multiprocessing)\u001b[0m\n\u001b[1;32m   1382\u001b[0m                 _r=1):\n\u001b[1;32m   1383\u001b[0m               \u001b[0mcallbacks\u001b[0m\u001b[0;34m.\u001b[0m\u001b[0mon_train_batch_begin\u001b[0m\u001b[0;34m(\u001b[0m\u001b[0mstep\u001b[0m\u001b[0;34m)\u001b[0m\u001b[0;34m\u001b[0m\u001b[0;34m\u001b[0m\u001b[0m\n\u001b[0;32m-> 1384\u001b[0;31m               \u001b[0mtmp_logs\u001b[0m \u001b[0;34m=\u001b[0m \u001b[0mself\u001b[0m\u001b[0;34m.\u001b[0m\u001b[0mtrain_function\u001b[0m\u001b[0;34m(\u001b[0m\u001b[0miterator\u001b[0m\u001b[0;34m)\u001b[0m\u001b[0;34m\u001b[0m\u001b[0;34m\u001b[0m\u001b[0m\n\u001b[0m\u001b[1;32m   1385\u001b[0m               \u001b[0;32mif\u001b[0m \u001b[0mdata_handler\u001b[0m\u001b[0;34m.\u001b[0m\u001b[0mshould_sync\u001b[0m\u001b[0;34m:\u001b[0m\u001b[0;34m\u001b[0m\u001b[0;34m\u001b[0m\u001b[0m\n\u001b[1;32m   1386\u001b[0m                 \u001b[0mcontext\u001b[0m\u001b[0;34m.\u001b[0m\u001b[0masync_wait\u001b[0m\u001b[0;34m(\u001b[0m\u001b[0;34m)\u001b[0m\u001b[0;34m\u001b[0m\u001b[0;34m\u001b[0m\u001b[0m\n",
            "\u001b[0;32m/usr/local/lib/python3.7/dist-packages/tensorflow/python/util/traceback_utils.py\u001b[0m in \u001b[0;36merror_handler\u001b[0;34m(*args, **kwargs)\u001b[0m\n\u001b[1;32m    148\u001b[0m     \u001b[0mfiltered_tb\u001b[0m \u001b[0;34m=\u001b[0m \u001b[0;32mNone\u001b[0m\u001b[0;34m\u001b[0m\u001b[0;34m\u001b[0m\u001b[0m\n\u001b[1;32m    149\u001b[0m     \u001b[0;32mtry\u001b[0m\u001b[0;34m:\u001b[0m\u001b[0;34m\u001b[0m\u001b[0;34m\u001b[0m\u001b[0m\n\u001b[0;32m--> 150\u001b[0;31m       \u001b[0;32mreturn\u001b[0m \u001b[0mfn\u001b[0m\u001b[0;34m(\u001b[0m\u001b[0;34m*\u001b[0m\u001b[0margs\u001b[0m\u001b[0;34m,\u001b[0m \u001b[0;34m**\u001b[0m\u001b[0mkwargs\u001b[0m\u001b[0;34m)\u001b[0m\u001b[0;34m\u001b[0m\u001b[0;34m\u001b[0m\u001b[0m\n\u001b[0m\u001b[1;32m    151\u001b[0m     \u001b[0;32mexcept\u001b[0m \u001b[0mException\u001b[0m \u001b[0;32mas\u001b[0m \u001b[0me\u001b[0m\u001b[0;34m:\u001b[0m\u001b[0;34m\u001b[0m\u001b[0;34m\u001b[0m\u001b[0m\n\u001b[1;32m    152\u001b[0m       \u001b[0mfiltered_tb\u001b[0m \u001b[0;34m=\u001b[0m \u001b[0m_process_traceback_frames\u001b[0m\u001b[0;34m(\u001b[0m\u001b[0me\u001b[0m\u001b[0;34m.\u001b[0m\u001b[0m__traceback__\u001b[0m\u001b[0;34m)\u001b[0m\u001b[0;34m\u001b[0m\u001b[0;34m\u001b[0m\u001b[0m\n",
            "\u001b[0;32m/usr/local/lib/python3.7/dist-packages/tensorflow/python/eager/def_function.py\u001b[0m in \u001b[0;36m__call__\u001b[0;34m(self, *args, **kwds)\u001b[0m\n\u001b[1;32m    913\u001b[0m \u001b[0;34m\u001b[0m\u001b[0m\n\u001b[1;32m    914\u001b[0m       \u001b[0;32mwith\u001b[0m \u001b[0mOptionalXlaContext\u001b[0m\u001b[0;34m(\u001b[0m\u001b[0mself\u001b[0m\u001b[0;34m.\u001b[0m\u001b[0m_jit_compile\u001b[0m\u001b[0;34m)\u001b[0m\u001b[0;34m:\u001b[0m\u001b[0;34m\u001b[0m\u001b[0;34m\u001b[0m\u001b[0m\n\u001b[0;32m--> 915\u001b[0;31m         \u001b[0mresult\u001b[0m \u001b[0;34m=\u001b[0m \u001b[0mself\u001b[0m\u001b[0;34m.\u001b[0m\u001b[0m_call\u001b[0m\u001b[0;34m(\u001b[0m\u001b[0;34m*\u001b[0m\u001b[0margs\u001b[0m\u001b[0;34m,\u001b[0m \u001b[0;34m**\u001b[0m\u001b[0mkwds\u001b[0m\u001b[0;34m)\u001b[0m\u001b[0;34m\u001b[0m\u001b[0;34m\u001b[0m\u001b[0m\n\u001b[0m\u001b[1;32m    916\u001b[0m \u001b[0;34m\u001b[0m\u001b[0m\n\u001b[1;32m    917\u001b[0m       \u001b[0mnew_tracing_count\u001b[0m \u001b[0;34m=\u001b[0m \u001b[0mself\u001b[0m\u001b[0;34m.\u001b[0m\u001b[0mexperimental_get_tracing_count\u001b[0m\u001b[0;34m(\u001b[0m\u001b[0;34m)\u001b[0m\u001b[0;34m\u001b[0m\u001b[0;34m\u001b[0m\u001b[0m\n",
            "\u001b[0;32m/usr/local/lib/python3.7/dist-packages/tensorflow/python/eager/def_function.py\u001b[0m in \u001b[0;36m_call\u001b[0;34m(self, *args, **kwds)\u001b[0m\n\u001b[1;32m    978\u001b[0m         \u001b[0;31m# Lifting succeeded, so variables are initialized and we can run the\u001b[0m\u001b[0;34m\u001b[0m\u001b[0;34m\u001b[0m\u001b[0;34m\u001b[0m\u001b[0m\n\u001b[1;32m    979\u001b[0m         \u001b[0;31m# stateless function.\u001b[0m\u001b[0;34m\u001b[0m\u001b[0;34m\u001b[0m\u001b[0;34m\u001b[0m\u001b[0m\n\u001b[0;32m--> 980\u001b[0;31m         \u001b[0;32mreturn\u001b[0m \u001b[0mself\u001b[0m\u001b[0;34m.\u001b[0m\u001b[0m_stateless_fn\u001b[0m\u001b[0;34m(\u001b[0m\u001b[0;34m*\u001b[0m\u001b[0margs\u001b[0m\u001b[0;34m,\u001b[0m \u001b[0;34m**\u001b[0m\u001b[0mkwds\u001b[0m\u001b[0;34m)\u001b[0m\u001b[0;34m\u001b[0m\u001b[0;34m\u001b[0m\u001b[0m\n\u001b[0m\u001b[1;32m    981\u001b[0m     \u001b[0;32melse\u001b[0m\u001b[0;34m:\u001b[0m\u001b[0;34m\u001b[0m\u001b[0;34m\u001b[0m\u001b[0m\n\u001b[1;32m    982\u001b[0m       \u001b[0m_\u001b[0m\u001b[0;34m,\u001b[0m \u001b[0m_\u001b[0m\u001b[0;34m,\u001b[0m \u001b[0m_\u001b[0m\u001b[0;34m,\u001b[0m \u001b[0mfiltered_flat_args\u001b[0m \u001b[0;34m=\u001b[0m\u001b[0;31m \u001b[0m\u001b[0;31m\\\u001b[0m\u001b[0;34m\u001b[0m\u001b[0;34m\u001b[0m\u001b[0m\n",
            "\u001b[0;32m/usr/local/lib/python3.7/dist-packages/tensorflow/python/eager/function.py\u001b[0m in \u001b[0;36m__call__\u001b[0;34m(self, *args, **kwargs)\u001b[0m\n\u001b[1;32m   2953\u001b[0m     \u001b[0;32mwith\u001b[0m \u001b[0mself\u001b[0m\u001b[0;34m.\u001b[0m\u001b[0m_lock\u001b[0m\u001b[0;34m:\u001b[0m\u001b[0;34m\u001b[0m\u001b[0;34m\u001b[0m\u001b[0m\n\u001b[1;32m   2954\u001b[0m       (graph_function,\n\u001b[0;32m-> 2955\u001b[0;31m        filtered_flat_args) = self._maybe_define_function(args, kwargs)\n\u001b[0m\u001b[1;32m   2956\u001b[0m     return graph_function._call_flat(\n\u001b[1;32m   2957\u001b[0m         filtered_flat_args, captured_inputs=graph_function.captured_inputs)  # pylint: disable=protected-access\n",
            "\u001b[0;32m/usr/local/lib/python3.7/dist-packages/tensorflow/python/eager/function.py\u001b[0m in \u001b[0;36m_maybe_define_function\u001b[0;34m(self, args, kwargs)\u001b[0m\n\u001b[1;32m   3290\u001b[0m \u001b[0;34m\u001b[0m\u001b[0m\n\u001b[1;32m   3291\u001b[0m           \u001b[0mself\u001b[0m\u001b[0;34m.\u001b[0m\u001b[0m_function_cache\u001b[0m\u001b[0;34m.\u001b[0m\u001b[0madd_call_context\u001b[0m\u001b[0;34m(\u001b[0m\u001b[0mcache_key\u001b[0m\u001b[0;34m.\u001b[0m\u001b[0mcall_context\u001b[0m\u001b[0;34m)\u001b[0m\u001b[0;34m\u001b[0m\u001b[0;34m\u001b[0m\u001b[0m\n\u001b[0;32m-> 3292\u001b[0;31m           \u001b[0mgraph_function\u001b[0m \u001b[0;34m=\u001b[0m \u001b[0mself\u001b[0m\u001b[0;34m.\u001b[0m\u001b[0m_create_graph_function\u001b[0m\u001b[0;34m(\u001b[0m\u001b[0margs\u001b[0m\u001b[0;34m,\u001b[0m \u001b[0mkwargs\u001b[0m\u001b[0;34m)\u001b[0m\u001b[0;34m\u001b[0m\u001b[0;34m\u001b[0m\u001b[0m\n\u001b[0m\u001b[1;32m   3293\u001b[0m           self._function_cache.add(cache_key, cache_key_deletion_observer,\n\u001b[1;32m   3294\u001b[0m                                    graph_function)\n",
            "\u001b[0;32m/usr/local/lib/python3.7/dist-packages/tensorflow/python/eager/function.py\u001b[0m in \u001b[0;36m_create_graph_function\u001b[0;34m(self, args, kwargs, override_flat_arg_shapes)\u001b[0m\n\u001b[1;32m   3138\u001b[0m             \u001b[0marg_names\u001b[0m\u001b[0;34m=\u001b[0m\u001b[0marg_names\u001b[0m\u001b[0;34m,\u001b[0m\u001b[0;34m\u001b[0m\u001b[0;34m\u001b[0m\u001b[0m\n\u001b[1;32m   3139\u001b[0m             \u001b[0moverride_flat_arg_shapes\u001b[0m\u001b[0;34m=\u001b[0m\u001b[0moverride_flat_arg_shapes\u001b[0m\u001b[0;34m,\u001b[0m\u001b[0;34m\u001b[0m\u001b[0;34m\u001b[0m\u001b[0m\n\u001b[0;32m-> 3140\u001b[0;31m             capture_by_value=self._capture_by_value),\n\u001b[0m\u001b[1;32m   3141\u001b[0m         \u001b[0mself\u001b[0m\u001b[0;34m.\u001b[0m\u001b[0m_function_attributes\u001b[0m\u001b[0;34m,\u001b[0m\u001b[0;34m\u001b[0m\u001b[0;34m\u001b[0m\u001b[0m\n\u001b[1;32m   3142\u001b[0m         \u001b[0mfunction_spec\u001b[0m\u001b[0;34m=\u001b[0m\u001b[0mself\u001b[0m\u001b[0;34m.\u001b[0m\u001b[0mfunction_spec\u001b[0m\u001b[0;34m,\u001b[0m\u001b[0;34m\u001b[0m\u001b[0;34m\u001b[0m\u001b[0m\n",
            "\u001b[0;32m/usr/local/lib/python3.7/dist-packages/tensorflow/python/framework/func_graph.py\u001b[0m in \u001b[0;36mfunc_graph_from_py_func\u001b[0;34m(name, python_func, args, kwargs, signature, func_graph, autograph, autograph_options, add_control_dependencies, arg_names, op_return_value, collections, capture_by_value, override_flat_arg_shapes, acd_record_initial_resource_uses)\u001b[0m\n\u001b[1;32m   1159\u001b[0m         \u001b[0m_\u001b[0m\u001b[0;34m,\u001b[0m \u001b[0moriginal_func\u001b[0m \u001b[0;34m=\u001b[0m \u001b[0mtf_decorator\u001b[0m\u001b[0;34m.\u001b[0m\u001b[0munwrap\u001b[0m\u001b[0;34m(\u001b[0m\u001b[0mpython_func\u001b[0m\u001b[0;34m)\u001b[0m\u001b[0;34m\u001b[0m\u001b[0;34m\u001b[0m\u001b[0m\n\u001b[1;32m   1160\u001b[0m \u001b[0;34m\u001b[0m\u001b[0m\n\u001b[0;32m-> 1161\u001b[0;31m       \u001b[0mfunc_outputs\u001b[0m \u001b[0;34m=\u001b[0m \u001b[0mpython_func\u001b[0m\u001b[0;34m(\u001b[0m\u001b[0;34m*\u001b[0m\u001b[0mfunc_args\u001b[0m\u001b[0;34m,\u001b[0m \u001b[0;34m**\u001b[0m\u001b[0mfunc_kwargs\u001b[0m\u001b[0;34m)\u001b[0m\u001b[0;34m\u001b[0m\u001b[0;34m\u001b[0m\u001b[0m\n\u001b[0m\u001b[1;32m   1162\u001b[0m \u001b[0;34m\u001b[0m\u001b[0m\n\u001b[1;32m   1163\u001b[0m       \u001b[0;31m# invariant: `func_outputs` contains only Tensors, CompositeTensors,\u001b[0m\u001b[0;34m\u001b[0m\u001b[0;34m\u001b[0m\u001b[0;34m\u001b[0m\u001b[0m\n",
            "\u001b[0;32m/usr/local/lib/python3.7/dist-packages/tensorflow/python/eager/def_function.py\u001b[0m in \u001b[0;36mwrapped_fn\u001b[0;34m(*args, **kwds)\u001b[0m\n\u001b[1;32m    675\u001b[0m         \u001b[0;31m# the function a weak reference to itself to avoid a reference cycle.\u001b[0m\u001b[0;34m\u001b[0m\u001b[0;34m\u001b[0m\u001b[0;34m\u001b[0m\u001b[0m\n\u001b[1;32m    676\u001b[0m         \u001b[0;32mwith\u001b[0m \u001b[0mOptionalXlaContext\u001b[0m\u001b[0;34m(\u001b[0m\u001b[0mcompile_with_xla\u001b[0m\u001b[0;34m)\u001b[0m\u001b[0;34m:\u001b[0m\u001b[0;34m\u001b[0m\u001b[0;34m\u001b[0m\u001b[0m\n\u001b[0;32m--> 677\u001b[0;31m           \u001b[0mout\u001b[0m \u001b[0;34m=\u001b[0m \u001b[0mweak_wrapped_fn\u001b[0m\u001b[0;34m(\u001b[0m\u001b[0;34m)\u001b[0m\u001b[0;34m.\u001b[0m\u001b[0m__wrapped__\u001b[0m\u001b[0;34m(\u001b[0m\u001b[0;34m*\u001b[0m\u001b[0margs\u001b[0m\u001b[0;34m,\u001b[0m \u001b[0;34m**\u001b[0m\u001b[0mkwds\u001b[0m\u001b[0;34m)\u001b[0m\u001b[0;34m\u001b[0m\u001b[0;34m\u001b[0m\u001b[0m\n\u001b[0m\u001b[1;32m    678\u001b[0m         \u001b[0;32mreturn\u001b[0m \u001b[0mout\u001b[0m\u001b[0;34m\u001b[0m\u001b[0;34m\u001b[0m\u001b[0m\n\u001b[1;32m    679\u001b[0m \u001b[0;34m\u001b[0m\u001b[0m\n",
            "\u001b[0;32m/usr/local/lib/python3.7/dist-packages/tensorflow/python/framework/func_graph.py\u001b[0m in \u001b[0;36mautograph_handler\u001b[0;34m(*args, **kwargs)\u001b[0m\n\u001b[1;32m   1141\u001b[0m                     \u001b[0mrecursive\u001b[0m\u001b[0;34m=\u001b[0m\u001b[0;32mTrue\u001b[0m\u001b[0;34m,\u001b[0m\u001b[0;34m\u001b[0m\u001b[0;34m\u001b[0m\u001b[0m\n\u001b[1;32m   1142\u001b[0m                     \u001b[0moptional_features\u001b[0m\u001b[0;34m=\u001b[0m\u001b[0mautograph_options\u001b[0m\u001b[0;34m,\u001b[0m\u001b[0;34m\u001b[0m\u001b[0;34m\u001b[0m\u001b[0m\n\u001b[0;32m-> 1143\u001b[0;31m                     \u001b[0muser_requested\u001b[0m\u001b[0;34m=\u001b[0m\u001b[0;32mTrue\u001b[0m\u001b[0;34m,\u001b[0m\u001b[0;34m\u001b[0m\u001b[0;34m\u001b[0m\u001b[0m\n\u001b[0m\u001b[1;32m   1144\u001b[0m                 ))\n\u001b[1;32m   1145\u001b[0m           \u001b[0;32mexcept\u001b[0m \u001b[0mException\u001b[0m \u001b[0;32mas\u001b[0m \u001b[0me\u001b[0m\u001b[0;34m:\u001b[0m  \u001b[0;31m# pylint:disable=broad-except\u001b[0m\u001b[0;34m\u001b[0m\u001b[0;34m\u001b[0m\u001b[0m\n",
            "\u001b[0;32m/usr/local/lib/python3.7/dist-packages/tensorflow/python/autograph/impl/api.py\u001b[0m in \u001b[0;36mconverted_call\u001b[0;34m(f, args, kwargs, caller_fn_scope, options)\u001b[0m\n\u001b[1;32m    437\u001b[0m     \u001b[0;32mtry\u001b[0m\u001b[0;34m:\u001b[0m\u001b[0;34m\u001b[0m\u001b[0;34m\u001b[0m\u001b[0m\n\u001b[1;32m    438\u001b[0m       \u001b[0;32mif\u001b[0m \u001b[0mkwargs\u001b[0m \u001b[0;32mis\u001b[0m \u001b[0;32mnot\u001b[0m \u001b[0;32mNone\u001b[0m\u001b[0;34m:\u001b[0m\u001b[0;34m\u001b[0m\u001b[0;34m\u001b[0m\u001b[0m\n\u001b[0;32m--> 439\u001b[0;31m         \u001b[0mresult\u001b[0m \u001b[0;34m=\u001b[0m \u001b[0mconverted_f\u001b[0m\u001b[0;34m(\u001b[0m\u001b[0;34m*\u001b[0m\u001b[0meffective_args\u001b[0m\u001b[0;34m,\u001b[0m \u001b[0;34m**\u001b[0m\u001b[0mkwargs\u001b[0m\u001b[0;34m)\u001b[0m\u001b[0;34m\u001b[0m\u001b[0;34m\u001b[0m\u001b[0m\n\u001b[0m\u001b[1;32m    440\u001b[0m       \u001b[0;32melse\u001b[0m\u001b[0;34m:\u001b[0m\u001b[0;34m\u001b[0m\u001b[0;34m\u001b[0m\u001b[0m\n\u001b[1;32m    441\u001b[0m         \u001b[0mresult\u001b[0m \u001b[0;34m=\u001b[0m \u001b[0mconverted_f\u001b[0m\u001b[0;34m(\u001b[0m\u001b[0;34m*\u001b[0m\u001b[0meffective_args\u001b[0m\u001b[0;34m)\u001b[0m\u001b[0;34m\u001b[0m\u001b[0;34m\u001b[0m\u001b[0m\n",
            "\u001b[0;32m/usr/local/lib/python3.7/dist-packages/keras/engine/training.py\u001b[0m in \u001b[0;36mtf__train_function\u001b[0;34m(iterator)\u001b[0m\n\u001b[1;32m     13\u001b[0m                 \u001b[0;32mtry\u001b[0m\u001b[0;34m:\u001b[0m\u001b[0;34m\u001b[0m\u001b[0;34m\u001b[0m\u001b[0m\n\u001b[1;32m     14\u001b[0m                     \u001b[0mdo_return\u001b[0m \u001b[0;34m=\u001b[0m \u001b[0;32mTrue\u001b[0m\u001b[0;34m\u001b[0m\u001b[0;34m\u001b[0m\u001b[0m\n\u001b[0;32m---> 15\u001b[0;31m                     \u001b[0mretval_\u001b[0m \u001b[0;34m=\u001b[0m \u001b[0mag__\u001b[0m\u001b[0;34m.\u001b[0m\u001b[0mconverted_call\u001b[0m\u001b[0;34m(\u001b[0m\u001b[0mag__\u001b[0m\u001b[0;34m.\u001b[0m\u001b[0mld\u001b[0m\u001b[0;34m(\u001b[0m\u001b[0mstep_function\u001b[0m\u001b[0;34m)\u001b[0m\u001b[0;34m,\u001b[0m \u001b[0;34m(\u001b[0m\u001b[0mag__\u001b[0m\u001b[0;34m.\u001b[0m\u001b[0mld\u001b[0m\u001b[0;34m(\u001b[0m\u001b[0mself\u001b[0m\u001b[0;34m)\u001b[0m\u001b[0;34m,\u001b[0m \u001b[0mag__\u001b[0m\u001b[0;34m.\u001b[0m\u001b[0mld\u001b[0m\u001b[0;34m(\u001b[0m\u001b[0miterator\u001b[0m\u001b[0;34m)\u001b[0m\u001b[0;34m)\u001b[0m\u001b[0;34m,\u001b[0m \u001b[0;32mNone\u001b[0m\u001b[0;34m,\u001b[0m \u001b[0mfscope\u001b[0m\u001b[0;34m)\u001b[0m\u001b[0;34m\u001b[0m\u001b[0;34m\u001b[0m\u001b[0m\n\u001b[0m\u001b[1;32m     16\u001b[0m                 \u001b[0;32mexcept\u001b[0m\u001b[0;34m:\u001b[0m\u001b[0;34m\u001b[0m\u001b[0;34m\u001b[0m\u001b[0m\n\u001b[1;32m     17\u001b[0m                     \u001b[0mdo_return\u001b[0m \u001b[0;34m=\u001b[0m \u001b[0;32mFalse\u001b[0m\u001b[0;34m\u001b[0m\u001b[0;34m\u001b[0m\u001b[0m\n",
            "\u001b[0;32m/usr/local/lib/python3.7/dist-packages/tensorflow/python/autograph/impl/api.py\u001b[0m in \u001b[0;36mconverted_call\u001b[0;34m(f, args, kwargs, caller_fn_scope, options)\u001b[0m\n\u001b[1;32m    329\u001b[0m   \u001b[0;32mif\u001b[0m \u001b[0mconversion\u001b[0m\u001b[0;34m.\u001b[0m\u001b[0mis_in_allowlist_cache\u001b[0m\u001b[0;34m(\u001b[0m\u001b[0mf\u001b[0m\u001b[0;34m,\u001b[0m \u001b[0moptions\u001b[0m\u001b[0;34m)\u001b[0m\u001b[0;34m:\u001b[0m\u001b[0;34m\u001b[0m\u001b[0;34m\u001b[0m\u001b[0m\n\u001b[1;32m    330\u001b[0m     \u001b[0mlogging\u001b[0m\u001b[0;34m.\u001b[0m\u001b[0mlog\u001b[0m\u001b[0;34m(\u001b[0m\u001b[0;36m2\u001b[0m\u001b[0;34m,\u001b[0m \u001b[0;34m'Allowlisted %s: from cache'\u001b[0m\u001b[0;34m,\u001b[0m \u001b[0mf\u001b[0m\u001b[0;34m)\u001b[0m\u001b[0;34m\u001b[0m\u001b[0;34m\u001b[0m\u001b[0m\n\u001b[0;32m--> 331\u001b[0;31m     \u001b[0;32mreturn\u001b[0m \u001b[0m_call_unconverted\u001b[0m\u001b[0;34m(\u001b[0m\u001b[0mf\u001b[0m\u001b[0;34m,\u001b[0m \u001b[0margs\u001b[0m\u001b[0;34m,\u001b[0m \u001b[0mkwargs\u001b[0m\u001b[0;34m,\u001b[0m \u001b[0moptions\u001b[0m\u001b[0;34m,\u001b[0m \u001b[0;32mFalse\u001b[0m\u001b[0;34m)\u001b[0m\u001b[0;34m\u001b[0m\u001b[0;34m\u001b[0m\u001b[0m\n\u001b[0m\u001b[1;32m    332\u001b[0m \u001b[0;34m\u001b[0m\u001b[0m\n\u001b[1;32m    333\u001b[0m   \u001b[0;32mif\u001b[0m \u001b[0mag_ctx\u001b[0m\u001b[0;34m.\u001b[0m\u001b[0mcontrol_status_ctx\u001b[0m\u001b[0;34m(\u001b[0m\u001b[0;34m)\u001b[0m\u001b[0;34m.\u001b[0m\u001b[0mstatus\u001b[0m \u001b[0;34m==\u001b[0m \u001b[0mag_ctx\u001b[0m\u001b[0;34m.\u001b[0m\u001b[0mStatus\u001b[0m\u001b[0;34m.\u001b[0m\u001b[0mDISABLED\u001b[0m\u001b[0;34m:\u001b[0m\u001b[0;34m\u001b[0m\u001b[0;34m\u001b[0m\u001b[0m\n",
            "\u001b[0;32m/usr/local/lib/python3.7/dist-packages/tensorflow/python/autograph/impl/api.py\u001b[0m in \u001b[0;36m_call_unconverted\u001b[0;34m(f, args, kwargs, options, update_cache)\u001b[0m\n\u001b[1;32m    457\u001b[0m   \u001b[0;32mif\u001b[0m \u001b[0mkwargs\u001b[0m \u001b[0;32mis\u001b[0m \u001b[0;32mnot\u001b[0m \u001b[0;32mNone\u001b[0m\u001b[0;34m:\u001b[0m\u001b[0;34m\u001b[0m\u001b[0;34m\u001b[0m\u001b[0m\n\u001b[1;32m    458\u001b[0m     \u001b[0;32mreturn\u001b[0m \u001b[0mf\u001b[0m\u001b[0;34m(\u001b[0m\u001b[0;34m*\u001b[0m\u001b[0margs\u001b[0m\u001b[0;34m,\u001b[0m \u001b[0;34m**\u001b[0m\u001b[0mkwargs\u001b[0m\u001b[0;34m)\u001b[0m\u001b[0;34m\u001b[0m\u001b[0;34m\u001b[0m\u001b[0m\n\u001b[0;32m--> 459\u001b[0;31m   \u001b[0;32mreturn\u001b[0m \u001b[0mf\u001b[0m\u001b[0;34m(\u001b[0m\u001b[0;34m*\u001b[0m\u001b[0margs\u001b[0m\u001b[0;34m)\u001b[0m\u001b[0;34m\u001b[0m\u001b[0;34m\u001b[0m\u001b[0m\n\u001b[0m\u001b[1;32m    460\u001b[0m \u001b[0;34m\u001b[0m\u001b[0m\n\u001b[1;32m    461\u001b[0m \u001b[0;34m\u001b[0m\u001b[0m\n",
            "\u001b[0;32m/usr/local/lib/python3.7/dist-packages/keras/engine/training.py\u001b[0m in \u001b[0;36mstep_function\u001b[0;34m(model, iterator)\u001b[0m\n\u001b[1;32m   1008\u001b[0m             run_step, jit_compile=True, experimental_relax_shapes=True)\n\u001b[1;32m   1009\u001b[0m       \u001b[0mdata\u001b[0m \u001b[0;34m=\u001b[0m \u001b[0mnext\u001b[0m\u001b[0;34m(\u001b[0m\u001b[0miterator\u001b[0m\u001b[0;34m)\u001b[0m\u001b[0;34m\u001b[0m\u001b[0;34m\u001b[0m\u001b[0m\n\u001b[0;32m-> 1010\u001b[0;31m       \u001b[0moutputs\u001b[0m \u001b[0;34m=\u001b[0m \u001b[0mmodel\u001b[0m\u001b[0;34m.\u001b[0m\u001b[0mdistribute_strategy\u001b[0m\u001b[0;34m.\u001b[0m\u001b[0mrun\u001b[0m\u001b[0;34m(\u001b[0m\u001b[0mrun_step\u001b[0m\u001b[0;34m,\u001b[0m \u001b[0margs\u001b[0m\u001b[0;34m=\u001b[0m\u001b[0;34m(\u001b[0m\u001b[0mdata\u001b[0m\u001b[0;34m,\u001b[0m\u001b[0;34m)\u001b[0m\u001b[0;34m)\u001b[0m\u001b[0;34m\u001b[0m\u001b[0;34m\u001b[0m\u001b[0m\n\u001b[0m\u001b[1;32m   1011\u001b[0m       outputs = reduce_per_replica(\n\u001b[1;32m   1012\u001b[0m           outputs, self.distribute_strategy, reduction='first')\n",
            "\u001b[0;32m/usr/local/lib/python3.7/dist-packages/tensorflow/python/distribute/distribute_lib.py\u001b[0m in \u001b[0;36mrun\u001b[0;34m(***failed resolving arguments***)\u001b[0m\n\u001b[1;32m   1310\u001b[0m       fn = autograph.tf_convert(\n\u001b[1;32m   1311\u001b[0m           fn, autograph_ctx.control_status_ctx(), convert_by_default=False)\n\u001b[0;32m-> 1312\u001b[0;31m       \u001b[0;32mreturn\u001b[0m \u001b[0mself\u001b[0m\u001b[0;34m.\u001b[0m\u001b[0m_extended\u001b[0m\u001b[0;34m.\u001b[0m\u001b[0mcall_for_each_replica\u001b[0m\u001b[0;34m(\u001b[0m\u001b[0mfn\u001b[0m\u001b[0;34m,\u001b[0m \u001b[0margs\u001b[0m\u001b[0;34m=\u001b[0m\u001b[0margs\u001b[0m\u001b[0;34m,\u001b[0m \u001b[0mkwargs\u001b[0m\u001b[0;34m=\u001b[0m\u001b[0mkwargs\u001b[0m\u001b[0;34m)\u001b[0m\u001b[0;34m\u001b[0m\u001b[0;34m\u001b[0m\u001b[0m\n\u001b[0m\u001b[1;32m   1313\u001b[0m \u001b[0;34m\u001b[0m\u001b[0m\n\u001b[1;32m   1314\u001b[0m   \u001b[0;32mdef\u001b[0m \u001b[0mreduce\u001b[0m\u001b[0;34m(\u001b[0m\u001b[0mself\u001b[0m\u001b[0;34m,\u001b[0m \u001b[0mreduce_op\u001b[0m\u001b[0;34m,\u001b[0m \u001b[0mvalue\u001b[0m\u001b[0;34m,\u001b[0m \u001b[0maxis\u001b[0m\u001b[0;34m)\u001b[0m\u001b[0;34m:\u001b[0m\u001b[0;34m\u001b[0m\u001b[0;34m\u001b[0m\u001b[0m\n",
            "\u001b[0;32m/usr/local/lib/python3.7/dist-packages/tensorflow/python/distribute/distribute_lib.py\u001b[0m in \u001b[0;36mcall_for_each_replica\u001b[0;34m(self, fn, args, kwargs)\u001b[0m\n\u001b[1;32m   2886\u001b[0m       \u001b[0mkwargs\u001b[0m \u001b[0;34m=\u001b[0m \u001b[0;34m{\u001b[0m\u001b[0;34m}\u001b[0m\u001b[0;34m\u001b[0m\u001b[0;34m\u001b[0m\u001b[0m\n\u001b[1;32m   2887\u001b[0m     \u001b[0;32mwith\u001b[0m \u001b[0mself\u001b[0m\u001b[0;34m.\u001b[0m\u001b[0m_container_strategy\u001b[0m\u001b[0;34m(\u001b[0m\u001b[0;34m)\u001b[0m\u001b[0;34m.\u001b[0m\u001b[0mscope\u001b[0m\u001b[0;34m(\u001b[0m\u001b[0;34m)\u001b[0m\u001b[0;34m:\u001b[0m\u001b[0;34m\u001b[0m\u001b[0;34m\u001b[0m\u001b[0m\n\u001b[0;32m-> 2888\u001b[0;31m       \u001b[0;32mreturn\u001b[0m \u001b[0mself\u001b[0m\u001b[0;34m.\u001b[0m\u001b[0m_call_for_each_replica\u001b[0m\u001b[0;34m(\u001b[0m\u001b[0mfn\u001b[0m\u001b[0;34m,\u001b[0m \u001b[0margs\u001b[0m\u001b[0;34m,\u001b[0m \u001b[0mkwargs\u001b[0m\u001b[0;34m)\u001b[0m\u001b[0;34m\u001b[0m\u001b[0;34m\u001b[0m\u001b[0m\n\u001b[0m\u001b[1;32m   2889\u001b[0m \u001b[0;34m\u001b[0m\u001b[0m\n\u001b[1;32m   2890\u001b[0m   \u001b[0;32mdef\u001b[0m \u001b[0m_call_for_each_replica\u001b[0m\u001b[0;34m(\u001b[0m\u001b[0mself\u001b[0m\u001b[0;34m,\u001b[0m \u001b[0mfn\u001b[0m\u001b[0;34m,\u001b[0m \u001b[0margs\u001b[0m\u001b[0;34m,\u001b[0m \u001b[0mkwargs\u001b[0m\u001b[0;34m)\u001b[0m\u001b[0;34m:\u001b[0m\u001b[0;34m\u001b[0m\u001b[0;34m\u001b[0m\u001b[0m\n",
            "\u001b[0;32m/usr/local/lib/python3.7/dist-packages/tensorflow/python/distribute/distribute_lib.py\u001b[0m in \u001b[0;36m_call_for_each_replica\u001b[0;34m(self, fn, args, kwargs)\u001b[0m\n\u001b[1;32m   3687\u001b[0m   \u001b[0;32mdef\u001b[0m \u001b[0m_call_for_each_replica\u001b[0m\u001b[0;34m(\u001b[0m\u001b[0mself\u001b[0m\u001b[0;34m,\u001b[0m \u001b[0mfn\u001b[0m\u001b[0;34m,\u001b[0m \u001b[0margs\u001b[0m\u001b[0;34m,\u001b[0m \u001b[0mkwargs\u001b[0m\u001b[0;34m)\u001b[0m\u001b[0;34m:\u001b[0m\u001b[0;34m\u001b[0m\u001b[0;34m\u001b[0m\u001b[0m\n\u001b[1;32m   3688\u001b[0m     \u001b[0;32mwith\u001b[0m \u001b[0mReplicaContext\u001b[0m\u001b[0;34m(\u001b[0m\u001b[0mself\u001b[0m\u001b[0;34m.\u001b[0m\u001b[0m_container_strategy\u001b[0m\u001b[0;34m(\u001b[0m\u001b[0;34m)\u001b[0m\u001b[0;34m,\u001b[0m \u001b[0mreplica_id_in_sync_group\u001b[0m\u001b[0;34m=\u001b[0m\u001b[0;36m0\u001b[0m\u001b[0;34m)\u001b[0m\u001b[0;34m:\u001b[0m\u001b[0;34m\u001b[0m\u001b[0;34m\u001b[0m\u001b[0m\n\u001b[0;32m-> 3689\u001b[0;31m       \u001b[0;32mreturn\u001b[0m \u001b[0mfn\u001b[0m\u001b[0;34m(\u001b[0m\u001b[0;34m*\u001b[0m\u001b[0margs\u001b[0m\u001b[0;34m,\u001b[0m \u001b[0;34m**\u001b[0m\u001b[0mkwargs\u001b[0m\u001b[0;34m)\u001b[0m\u001b[0;34m\u001b[0m\u001b[0;34m\u001b[0m\u001b[0m\n\u001b[0m\u001b[1;32m   3690\u001b[0m \u001b[0;34m\u001b[0m\u001b[0m\n\u001b[1;32m   3691\u001b[0m   \u001b[0;32mdef\u001b[0m \u001b[0m_reduce_to\u001b[0m\u001b[0;34m(\u001b[0m\u001b[0mself\u001b[0m\u001b[0;34m,\u001b[0m \u001b[0mreduce_op\u001b[0m\u001b[0;34m,\u001b[0m \u001b[0mvalue\u001b[0m\u001b[0;34m,\u001b[0m \u001b[0mdestinations\u001b[0m\u001b[0;34m,\u001b[0m \u001b[0moptions\u001b[0m\u001b[0;34m)\u001b[0m\u001b[0;34m:\u001b[0m\u001b[0;34m\u001b[0m\u001b[0;34m\u001b[0m\u001b[0m\n",
            "\u001b[0;32m/usr/local/lib/python3.7/dist-packages/tensorflow/python/autograph/impl/api.py\u001b[0m in \u001b[0;36mwrapper\u001b[0;34m(*args, **kwargs)\u001b[0m\n\u001b[1;32m    687\u001b[0m       \u001b[0;32mtry\u001b[0m\u001b[0;34m:\u001b[0m\u001b[0;34m\u001b[0m\u001b[0;34m\u001b[0m\u001b[0m\n\u001b[1;32m    688\u001b[0m         \u001b[0;32mwith\u001b[0m \u001b[0mconversion_ctx\u001b[0m\u001b[0;34m:\u001b[0m\u001b[0;34m\u001b[0m\u001b[0;34m\u001b[0m\u001b[0m\n\u001b[0;32m--> 689\u001b[0;31m           \u001b[0;32mreturn\u001b[0m \u001b[0mconverted_call\u001b[0m\u001b[0;34m(\u001b[0m\u001b[0mf\u001b[0m\u001b[0;34m,\u001b[0m \u001b[0margs\u001b[0m\u001b[0;34m,\u001b[0m \u001b[0mkwargs\u001b[0m\u001b[0;34m,\u001b[0m \u001b[0moptions\u001b[0m\u001b[0;34m=\u001b[0m\u001b[0moptions\u001b[0m\u001b[0;34m)\u001b[0m\u001b[0;34m\u001b[0m\u001b[0;34m\u001b[0m\u001b[0m\n\u001b[0m\u001b[1;32m    690\u001b[0m       \u001b[0;32mexcept\u001b[0m \u001b[0mException\u001b[0m \u001b[0;32mas\u001b[0m \u001b[0me\u001b[0m\u001b[0;34m:\u001b[0m  \u001b[0;31m# pylint:disable=broad-except\u001b[0m\u001b[0;34m\u001b[0m\u001b[0;34m\u001b[0m\u001b[0m\n\u001b[1;32m    691\u001b[0m         \u001b[0;32mif\u001b[0m \u001b[0mhasattr\u001b[0m\u001b[0;34m(\u001b[0m\u001b[0me\u001b[0m\u001b[0;34m,\u001b[0m \u001b[0;34m'ag_error_metadata'\u001b[0m\u001b[0;34m)\u001b[0m\u001b[0;34m:\u001b[0m\u001b[0;34m\u001b[0m\u001b[0;34m\u001b[0m\u001b[0m\n",
            "\u001b[0;32m/usr/local/lib/python3.7/dist-packages/tensorflow/python/autograph/impl/api.py\u001b[0m in \u001b[0;36mconverted_call\u001b[0;34m(f, args, kwargs, caller_fn_scope, options)\u001b[0m\n\u001b[1;32m    375\u001b[0m \u001b[0;34m\u001b[0m\u001b[0m\n\u001b[1;32m    376\u001b[0m   \u001b[0;32mif\u001b[0m \u001b[0;32mnot\u001b[0m \u001b[0moptions\u001b[0m\u001b[0;34m.\u001b[0m\u001b[0muser_requested\u001b[0m \u001b[0;32mand\u001b[0m \u001b[0mconversion\u001b[0m\u001b[0;34m.\u001b[0m\u001b[0mis_allowlisted\u001b[0m\u001b[0;34m(\u001b[0m\u001b[0mf\u001b[0m\u001b[0;34m)\u001b[0m\u001b[0;34m:\u001b[0m\u001b[0;34m\u001b[0m\u001b[0;34m\u001b[0m\u001b[0m\n\u001b[0;32m--> 377\u001b[0;31m     \u001b[0;32mreturn\u001b[0m \u001b[0m_call_unconverted\u001b[0m\u001b[0;34m(\u001b[0m\u001b[0mf\u001b[0m\u001b[0;34m,\u001b[0m \u001b[0margs\u001b[0m\u001b[0;34m,\u001b[0m \u001b[0mkwargs\u001b[0m\u001b[0;34m,\u001b[0m \u001b[0moptions\u001b[0m\u001b[0;34m)\u001b[0m\u001b[0;34m\u001b[0m\u001b[0;34m\u001b[0m\u001b[0m\n\u001b[0m\u001b[1;32m    378\u001b[0m \u001b[0;34m\u001b[0m\u001b[0m\n\u001b[1;32m    379\u001b[0m   \u001b[0;31m# internal_convert_user_code is for example turned off when issuing a dynamic\u001b[0m\u001b[0;34m\u001b[0m\u001b[0;34m\u001b[0m\u001b[0;34m\u001b[0m\u001b[0m\n",
            "\u001b[0;32m/usr/local/lib/python3.7/dist-packages/tensorflow/python/autograph/impl/api.py\u001b[0m in \u001b[0;36m_call_unconverted\u001b[0;34m(f, args, kwargs, options, update_cache)\u001b[0m\n\u001b[1;32m    456\u001b[0m \u001b[0;34m\u001b[0m\u001b[0m\n\u001b[1;32m    457\u001b[0m   \u001b[0;32mif\u001b[0m \u001b[0mkwargs\u001b[0m \u001b[0;32mis\u001b[0m \u001b[0;32mnot\u001b[0m \u001b[0;32mNone\u001b[0m\u001b[0;34m:\u001b[0m\u001b[0;34m\u001b[0m\u001b[0;34m\u001b[0m\u001b[0m\n\u001b[0;32m--> 458\u001b[0;31m     \u001b[0;32mreturn\u001b[0m \u001b[0mf\u001b[0m\u001b[0;34m(\u001b[0m\u001b[0;34m*\u001b[0m\u001b[0margs\u001b[0m\u001b[0;34m,\u001b[0m \u001b[0;34m**\u001b[0m\u001b[0mkwargs\u001b[0m\u001b[0;34m)\u001b[0m\u001b[0;34m\u001b[0m\u001b[0;34m\u001b[0m\u001b[0m\n\u001b[0m\u001b[1;32m    459\u001b[0m   \u001b[0;32mreturn\u001b[0m \u001b[0mf\u001b[0m\u001b[0;34m(\u001b[0m\u001b[0;34m*\u001b[0m\u001b[0margs\u001b[0m\u001b[0;34m)\u001b[0m\u001b[0;34m\u001b[0m\u001b[0;34m\u001b[0m\u001b[0m\n\u001b[1;32m    460\u001b[0m \u001b[0;34m\u001b[0m\u001b[0m\n",
            "\u001b[0;32m/usr/local/lib/python3.7/dist-packages/keras/engine/training.py\u001b[0m in \u001b[0;36mrun_step\u001b[0;34m(data)\u001b[0m\n\u001b[1;32m    998\u001b[0m \u001b[0;34m\u001b[0m\u001b[0m\n\u001b[1;32m    999\u001b[0m       \u001b[0;32mdef\u001b[0m \u001b[0mrun_step\u001b[0m\u001b[0;34m(\u001b[0m\u001b[0mdata\u001b[0m\u001b[0;34m)\u001b[0m\u001b[0;34m:\u001b[0m\u001b[0;34m\u001b[0m\u001b[0;34m\u001b[0m\u001b[0m\n\u001b[0;32m-> 1000\u001b[0;31m         \u001b[0moutputs\u001b[0m \u001b[0;34m=\u001b[0m \u001b[0mmodel\u001b[0m\u001b[0;34m.\u001b[0m\u001b[0mtrain_step\u001b[0m\u001b[0;34m(\u001b[0m\u001b[0mdata\u001b[0m\u001b[0;34m)\u001b[0m\u001b[0;34m\u001b[0m\u001b[0;34m\u001b[0m\u001b[0m\n\u001b[0m\u001b[1;32m   1001\u001b[0m         \u001b[0;31m# Ensure counter is updated only if `train_step` succeeds.\u001b[0m\u001b[0;34m\u001b[0m\u001b[0;34m\u001b[0m\u001b[0;34m\u001b[0m\u001b[0m\n\u001b[1;32m   1002\u001b[0m         \u001b[0;32mwith\u001b[0m \u001b[0mtf\u001b[0m\u001b[0;34m.\u001b[0m\u001b[0mcontrol_dependencies\u001b[0m\u001b[0;34m(\u001b[0m\u001b[0m_minimum_control_deps\u001b[0m\u001b[0;34m(\u001b[0m\u001b[0moutputs\u001b[0m\u001b[0;34m)\u001b[0m\u001b[0;34m)\u001b[0m\u001b[0;34m:\u001b[0m\u001b[0;34m\u001b[0m\u001b[0;34m\u001b[0m\u001b[0m\n",
            "\u001b[0;32m/usr/local/lib/python3.7/dist-packages/keras/engine/training.py\u001b[0m in \u001b[0;36mtrain_step\u001b[0;34m(self, data)\u001b[0m\n\u001b[1;32m    861\u001b[0m     \u001b[0mself\u001b[0m\u001b[0;34m.\u001b[0m\u001b[0m_validate_target_and_loss\u001b[0m\u001b[0;34m(\u001b[0m\u001b[0my\u001b[0m\u001b[0;34m,\u001b[0m \u001b[0mloss\u001b[0m\u001b[0;34m)\u001b[0m\u001b[0;34m\u001b[0m\u001b[0;34m\u001b[0m\u001b[0m\n\u001b[1;32m    862\u001b[0m     \u001b[0;31m# Run backwards pass.\u001b[0m\u001b[0;34m\u001b[0m\u001b[0;34m\u001b[0m\u001b[0;34m\u001b[0m\u001b[0m\n\u001b[0;32m--> 863\u001b[0;31m     \u001b[0mself\u001b[0m\u001b[0;34m.\u001b[0m\u001b[0moptimizer\u001b[0m\u001b[0;34m.\u001b[0m\u001b[0mminimize\u001b[0m\u001b[0;34m(\u001b[0m\u001b[0mloss\u001b[0m\u001b[0;34m,\u001b[0m \u001b[0mself\u001b[0m\u001b[0;34m.\u001b[0m\u001b[0mtrainable_variables\u001b[0m\u001b[0;34m,\u001b[0m \u001b[0mtape\u001b[0m\u001b[0;34m=\u001b[0m\u001b[0mtape\u001b[0m\u001b[0;34m)\u001b[0m\u001b[0;34m\u001b[0m\u001b[0;34m\u001b[0m\u001b[0m\n\u001b[0m\u001b[1;32m    864\u001b[0m     \u001b[0;32mreturn\u001b[0m \u001b[0mself\u001b[0m\u001b[0;34m.\u001b[0m\u001b[0mcompute_metrics\u001b[0m\u001b[0;34m(\u001b[0m\u001b[0mx\u001b[0m\u001b[0;34m,\u001b[0m \u001b[0my\u001b[0m\u001b[0;34m,\u001b[0m \u001b[0my_pred\u001b[0m\u001b[0;34m,\u001b[0m \u001b[0msample_weight\u001b[0m\u001b[0;34m)\u001b[0m\u001b[0;34m\u001b[0m\u001b[0;34m\u001b[0m\u001b[0m\n\u001b[1;32m    865\u001b[0m \u001b[0;34m\u001b[0m\u001b[0m\n",
            "\u001b[0;32m/usr/local/lib/python3.7/dist-packages/keras/optimizer_v2/optimizer_v2.py\u001b[0m in \u001b[0;36mminimize\u001b[0;34m(self, loss, var_list, grad_loss, name, tape)\u001b[0m\n\u001b[1;32m    529\u001b[0m     \"\"\"\n\u001b[1;32m    530\u001b[0m     grads_and_vars = self._compute_gradients(\n\u001b[0;32m--> 531\u001b[0;31m         loss, var_list=var_list, grad_loss=grad_loss, tape=tape)\n\u001b[0m\u001b[1;32m    532\u001b[0m     \u001b[0;32mreturn\u001b[0m \u001b[0mself\u001b[0m\u001b[0;34m.\u001b[0m\u001b[0mapply_gradients\u001b[0m\u001b[0;34m(\u001b[0m\u001b[0mgrads_and_vars\u001b[0m\u001b[0;34m,\u001b[0m \u001b[0mname\u001b[0m\u001b[0;34m=\u001b[0m\u001b[0mname\u001b[0m\u001b[0;34m)\u001b[0m\u001b[0;34m\u001b[0m\u001b[0;34m\u001b[0m\u001b[0m\n\u001b[1;32m    533\u001b[0m \u001b[0;34m\u001b[0m\u001b[0m\n",
            "\u001b[0;32m/usr/local/lib/python3.7/dist-packages/keras/optimizer_v2/optimizer_v2.py\u001b[0m in \u001b[0;36m_compute_gradients\u001b[0;34m(self, loss, var_list, grad_loss, tape)\u001b[0m\n\u001b[1;32m    581\u001b[0m     \u001b[0mvar_list\u001b[0m \u001b[0;34m=\u001b[0m \u001b[0mtf\u001b[0m\u001b[0;34m.\u001b[0m\u001b[0mnest\u001b[0m\u001b[0;34m.\u001b[0m\u001b[0mflatten\u001b[0m\u001b[0;34m(\u001b[0m\u001b[0mvar_list\u001b[0m\u001b[0;34m)\u001b[0m\u001b[0;34m\u001b[0m\u001b[0;34m\u001b[0m\u001b[0m\n\u001b[1;32m    582\u001b[0m     \u001b[0;32mwith\u001b[0m \u001b[0mtf\u001b[0m\u001b[0;34m.\u001b[0m\u001b[0mname_scope\u001b[0m\u001b[0;34m(\u001b[0m\u001b[0mself\u001b[0m\u001b[0;34m.\u001b[0m\u001b[0m_name\u001b[0m \u001b[0;34m+\u001b[0m \u001b[0;34m\"/gradients\"\u001b[0m\u001b[0;34m)\u001b[0m\u001b[0;34m:\u001b[0m\u001b[0;34m\u001b[0m\u001b[0;34m\u001b[0m\u001b[0m\n\u001b[0;32m--> 583\u001b[0;31m       \u001b[0mgrads_and_vars\u001b[0m \u001b[0;34m=\u001b[0m \u001b[0mself\u001b[0m\u001b[0;34m.\u001b[0m\u001b[0m_get_gradients\u001b[0m\u001b[0;34m(\u001b[0m\u001b[0mtape\u001b[0m\u001b[0;34m,\u001b[0m \u001b[0mloss\u001b[0m\u001b[0;34m,\u001b[0m \u001b[0mvar_list\u001b[0m\u001b[0;34m,\u001b[0m \u001b[0mgrad_loss\u001b[0m\u001b[0;34m)\u001b[0m\u001b[0;34m\u001b[0m\u001b[0;34m\u001b[0m\u001b[0m\n\u001b[0m\u001b[1;32m    584\u001b[0m \u001b[0;34m\u001b[0m\u001b[0m\n\u001b[1;32m    585\u001b[0m     self._assert_valid_dtypes([\n",
            "\u001b[0;32m/usr/local/lib/python3.7/dist-packages/keras/optimizer_v2/optimizer_v2.py\u001b[0m in \u001b[0;36m_get_gradients\u001b[0;34m(self, tape, loss, var_list, grad_loss)\u001b[0m\n\u001b[1;32m    462\u001b[0m   \u001b[0;32mdef\u001b[0m \u001b[0m_get_gradients\u001b[0m\u001b[0;34m(\u001b[0m\u001b[0mself\u001b[0m\u001b[0;34m,\u001b[0m \u001b[0mtape\u001b[0m\u001b[0;34m,\u001b[0m \u001b[0mloss\u001b[0m\u001b[0;34m,\u001b[0m \u001b[0mvar_list\u001b[0m\u001b[0;34m,\u001b[0m \u001b[0mgrad_loss\u001b[0m\u001b[0;34m=\u001b[0m\u001b[0;32mNone\u001b[0m\u001b[0;34m)\u001b[0m\u001b[0;34m:\u001b[0m\u001b[0;34m\u001b[0m\u001b[0;34m\u001b[0m\u001b[0m\n\u001b[1;32m    463\u001b[0m     \u001b[0;34m\"\"\"Called in `minimize` to compute gradients from loss.\"\"\"\u001b[0m\u001b[0;34m\u001b[0m\u001b[0;34m\u001b[0m\u001b[0m\n\u001b[0;32m--> 464\u001b[0;31m     \u001b[0mgrads\u001b[0m \u001b[0;34m=\u001b[0m \u001b[0mtape\u001b[0m\u001b[0;34m.\u001b[0m\u001b[0mgradient\u001b[0m\u001b[0;34m(\u001b[0m\u001b[0mloss\u001b[0m\u001b[0;34m,\u001b[0m \u001b[0mvar_list\u001b[0m\u001b[0;34m,\u001b[0m \u001b[0mgrad_loss\u001b[0m\u001b[0;34m)\u001b[0m\u001b[0;34m\u001b[0m\u001b[0;34m\u001b[0m\u001b[0m\n\u001b[0m\u001b[1;32m    465\u001b[0m     \u001b[0;32mreturn\u001b[0m \u001b[0mlist\u001b[0m\u001b[0;34m(\u001b[0m\u001b[0mzip\u001b[0m\u001b[0;34m(\u001b[0m\u001b[0mgrads\u001b[0m\u001b[0;34m,\u001b[0m \u001b[0mvar_list\u001b[0m\u001b[0;34m)\u001b[0m\u001b[0;34m)\u001b[0m\u001b[0;34m\u001b[0m\u001b[0;34m\u001b[0m\u001b[0m\n\u001b[1;32m    466\u001b[0m \u001b[0;34m\u001b[0m\u001b[0m\n",
            "\u001b[0;32m/usr/local/lib/python3.7/dist-packages/tensorflow/python/eager/backprop.py\u001b[0m in \u001b[0;36mgradient\u001b[0;34m(self, target, sources, output_gradients, unconnected_gradients)\u001b[0m\n\u001b[1;32m   1085\u001b[0m         \u001b[0moutput_gradients\u001b[0m\u001b[0;34m=\u001b[0m\u001b[0moutput_gradients\u001b[0m\u001b[0;34m,\u001b[0m\u001b[0;34m\u001b[0m\u001b[0;34m\u001b[0m\u001b[0m\n\u001b[1;32m   1086\u001b[0m         \u001b[0msources_raw\u001b[0m\u001b[0;34m=\u001b[0m\u001b[0mflat_sources_raw\u001b[0m\u001b[0;34m,\u001b[0m\u001b[0;34m\u001b[0m\u001b[0;34m\u001b[0m\u001b[0m\n\u001b[0;32m-> 1087\u001b[0;31m         unconnected_gradients=unconnected_gradients)\n\u001b[0m\u001b[1;32m   1088\u001b[0m \u001b[0;34m\u001b[0m\u001b[0m\n\u001b[1;32m   1089\u001b[0m     \u001b[0;32mif\u001b[0m \u001b[0;32mnot\u001b[0m \u001b[0mself\u001b[0m\u001b[0;34m.\u001b[0m\u001b[0m_persistent\u001b[0m\u001b[0;34m:\u001b[0m\u001b[0;34m\u001b[0m\u001b[0;34m\u001b[0m\u001b[0m\n",
            "\u001b[0;32m/usr/local/lib/python3.7/dist-packages/tensorflow/python/eager/imperative_grad.py\u001b[0m in \u001b[0;36mimperative_grad\u001b[0;34m(tape, target, sources, output_gradients, sources_raw, unconnected_gradients)\u001b[0m\n\u001b[1;32m     71\u001b[0m       \u001b[0moutput_gradients\u001b[0m\u001b[0;34m,\u001b[0m\u001b[0;34m\u001b[0m\u001b[0;34m\u001b[0m\u001b[0m\n\u001b[1;32m     72\u001b[0m       \u001b[0msources_raw\u001b[0m\u001b[0;34m,\u001b[0m\u001b[0;34m\u001b[0m\u001b[0;34m\u001b[0m\u001b[0m\n\u001b[0;32m---> 73\u001b[0;31m       compat.as_str(unconnected_gradients.value))\n\u001b[0m",
            "\u001b[0;32m/usr/local/lib/python3.7/dist-packages/tensorflow/python/eager/backprop.py\u001b[0m in \u001b[0;36m_gradient_function\u001b[0;34m(op_name, attr_tuple, num_inputs, inputs, outputs, out_grads, skip_input_indices, forward_pass_name_scope)\u001b[0m\n\u001b[1;32m    154\u001b[0m       \u001b[0mgradient_name_scope\u001b[0m \u001b[0;34m+=\u001b[0m \u001b[0mforward_pass_name_scope\u001b[0m \u001b[0;34m+\u001b[0m \u001b[0;34m\"/\"\u001b[0m\u001b[0;34m\u001b[0m\u001b[0;34m\u001b[0m\u001b[0m\n\u001b[1;32m    155\u001b[0m     \u001b[0;32mwith\u001b[0m \u001b[0mops\u001b[0m\u001b[0;34m.\u001b[0m\u001b[0mname_scope\u001b[0m\u001b[0;34m(\u001b[0m\u001b[0mgradient_name_scope\u001b[0m\u001b[0;34m)\u001b[0m\u001b[0;34m:\u001b[0m\u001b[0;34m\u001b[0m\u001b[0;34m\u001b[0m\u001b[0m\n\u001b[0;32m--> 156\u001b[0;31m       \u001b[0;32mreturn\u001b[0m \u001b[0mgrad_fn\u001b[0m\u001b[0;34m(\u001b[0m\u001b[0mmock_op\u001b[0m\u001b[0;34m,\u001b[0m \u001b[0;34m*\u001b[0m\u001b[0mout_grads\u001b[0m\u001b[0;34m)\u001b[0m\u001b[0;34m\u001b[0m\u001b[0;34m\u001b[0m\u001b[0m\n\u001b[0m\u001b[1;32m    157\u001b[0m   \u001b[0;32melse\u001b[0m\u001b[0;34m:\u001b[0m\u001b[0;34m\u001b[0m\u001b[0;34m\u001b[0m\u001b[0m\n\u001b[1;32m    158\u001b[0m     \u001b[0;32mreturn\u001b[0m \u001b[0mgrad_fn\u001b[0m\u001b[0;34m(\u001b[0m\u001b[0mmock_op\u001b[0m\u001b[0;34m,\u001b[0m \u001b[0;34m*\u001b[0m\u001b[0mout_grads\u001b[0m\u001b[0;34m)\u001b[0m\u001b[0;34m\u001b[0m\u001b[0;34m\u001b[0m\u001b[0m\n",
            "\u001b[0;32m/usr/local/lib/python3.7/dist-packages/tensorflow/python/ops/array_grad.py\u001b[0m in \u001b[0;36m_TransposeGrad\u001b[0;34m(op, grad)\u001b[0m\n\u001b[1;32m    818\u001b[0m   \u001b[0;34m\"\"\"Returns unshuffle(grad).\"\"\"\u001b[0m\u001b[0;34m\u001b[0m\u001b[0;34m\u001b[0m\u001b[0m\n\u001b[1;32m    819\u001b[0m   \u001b[0mp\u001b[0m \u001b[0;34m=\u001b[0m \u001b[0mop\u001b[0m\u001b[0;34m.\u001b[0m\u001b[0minputs\u001b[0m\u001b[0;34m[\u001b[0m\u001b[0;36m1\u001b[0m\u001b[0;34m]\u001b[0m\u001b[0;34m\u001b[0m\u001b[0;34m\u001b[0m\u001b[0m\n\u001b[0;32m--> 820\u001b[0;31m   \u001b[0;32mreturn\u001b[0m \u001b[0;34m[\u001b[0m\u001b[0marray_ops\u001b[0m\u001b[0;34m.\u001b[0m\u001b[0mtranspose\u001b[0m\u001b[0;34m(\u001b[0m\u001b[0mgrad\u001b[0m\u001b[0;34m,\u001b[0m \u001b[0marray_ops\u001b[0m\u001b[0;34m.\u001b[0m\u001b[0minvert_permutation\u001b[0m\u001b[0;34m(\u001b[0m\u001b[0mp\u001b[0m\u001b[0;34m)\u001b[0m\u001b[0;34m)\u001b[0m\u001b[0;34m,\u001b[0m \u001b[0;32mNone\u001b[0m\u001b[0;34m]\u001b[0m\u001b[0;34m\u001b[0m\u001b[0;34m\u001b[0m\u001b[0m\n\u001b[0m\u001b[1;32m    821\u001b[0m \u001b[0;34m\u001b[0m\u001b[0m\n\u001b[1;32m    822\u001b[0m \u001b[0;34m\u001b[0m\u001b[0m\n",
            "\u001b[0;32m/usr/local/lib/python3.7/dist-packages/tensorflow/python/util/traceback_utils.py\u001b[0m in \u001b[0;36merror_handler\u001b[0;34m(*args, **kwargs)\u001b[0m\n\u001b[1;32m    148\u001b[0m     \u001b[0mfiltered_tb\u001b[0m \u001b[0;34m=\u001b[0m \u001b[0;32mNone\u001b[0m\u001b[0;34m\u001b[0m\u001b[0;34m\u001b[0m\u001b[0m\n\u001b[1;32m    149\u001b[0m     \u001b[0;32mtry\u001b[0m\u001b[0;34m:\u001b[0m\u001b[0;34m\u001b[0m\u001b[0;34m\u001b[0m\u001b[0m\n\u001b[0;32m--> 150\u001b[0;31m       \u001b[0;32mreturn\u001b[0m \u001b[0mfn\u001b[0m\u001b[0;34m(\u001b[0m\u001b[0;34m*\u001b[0m\u001b[0margs\u001b[0m\u001b[0;34m,\u001b[0m \u001b[0;34m**\u001b[0m\u001b[0mkwargs\u001b[0m\u001b[0;34m)\u001b[0m\u001b[0;34m\u001b[0m\u001b[0;34m\u001b[0m\u001b[0m\n\u001b[0m\u001b[1;32m    151\u001b[0m     \u001b[0;32mexcept\u001b[0m \u001b[0mException\u001b[0m \u001b[0;32mas\u001b[0m \u001b[0me\u001b[0m\u001b[0;34m:\u001b[0m\u001b[0;34m\u001b[0m\u001b[0;34m\u001b[0m\u001b[0m\n\u001b[1;32m    152\u001b[0m       \u001b[0mfiltered_tb\u001b[0m \u001b[0;34m=\u001b[0m \u001b[0m_process_traceback_frames\u001b[0m\u001b[0;34m(\u001b[0m\u001b[0me\u001b[0m\u001b[0;34m.\u001b[0m\u001b[0m__traceback__\u001b[0m\u001b[0;34m)\u001b[0m\u001b[0;34m\u001b[0m\u001b[0;34m\u001b[0m\u001b[0m\n",
            "\u001b[0;32m/usr/local/lib/python3.7/dist-packages/tensorflow/python/util/dispatch.py\u001b[0m in \u001b[0;36mop_dispatch_handler\u001b[0;34m(*args, **kwargs)\u001b[0m\n\u001b[1;32m   1080\u001b[0m       \u001b[0;31m# Fallback dispatch system (dispatch v1):\u001b[0m\u001b[0;34m\u001b[0m\u001b[0;34m\u001b[0m\u001b[0;34m\u001b[0m\u001b[0m\n\u001b[1;32m   1081\u001b[0m       \u001b[0;32mtry\u001b[0m\u001b[0;34m:\u001b[0m\u001b[0;34m\u001b[0m\u001b[0;34m\u001b[0m\u001b[0m\n\u001b[0;32m-> 1082\u001b[0;31m         \u001b[0;32mreturn\u001b[0m \u001b[0mdispatch_target\u001b[0m\u001b[0;34m(\u001b[0m\u001b[0;34m*\u001b[0m\u001b[0margs\u001b[0m\u001b[0;34m,\u001b[0m \u001b[0;34m**\u001b[0m\u001b[0mkwargs\u001b[0m\u001b[0;34m)\u001b[0m\u001b[0;34m\u001b[0m\u001b[0;34m\u001b[0m\u001b[0m\n\u001b[0m\u001b[1;32m   1083\u001b[0m       \u001b[0;32mexcept\u001b[0m \u001b[0;34m(\u001b[0m\u001b[0mTypeError\u001b[0m\u001b[0;34m,\u001b[0m \u001b[0mValueError\u001b[0m\u001b[0;34m)\u001b[0m\u001b[0;34m:\u001b[0m\u001b[0;34m\u001b[0m\u001b[0;34m\u001b[0m\u001b[0m\n\u001b[1;32m   1084\u001b[0m         \u001b[0;31m# Note: convert_to_eager_tensor currently raises a ValueError, not a\u001b[0m\u001b[0;34m\u001b[0m\u001b[0;34m\u001b[0m\u001b[0;34m\u001b[0m\u001b[0m\n",
            "\u001b[0;32m/usr/local/lib/python3.7/dist-packages/tensorflow/python/ops/array_ops.py\u001b[0m in \u001b[0;36mtranspose\u001b[0;34m(a, perm, name, conjugate)\u001b[0m\n\u001b[1;32m   2320\u001b[0m \u001b[0;34m\u001b[0m\u001b[0m\n\u001b[1;32m   2321\u001b[0m     \u001b[0;32mif\u001b[0m \u001b[0mperm\u001b[0m \u001b[0;32mis\u001b[0m \u001b[0;32mnot\u001b[0m \u001b[0;32mNone\u001b[0m\u001b[0;34m:\u001b[0m\u001b[0;34m\u001b[0m\u001b[0;34m\u001b[0m\u001b[0m\n\u001b[0;32m-> 2322\u001b[0;31m       \u001b[0;32mreturn\u001b[0m \u001b[0mtranspose_fn\u001b[0m\u001b[0;34m(\u001b[0m\u001b[0ma\u001b[0m\u001b[0;34m,\u001b[0m \u001b[0mperm\u001b[0m\u001b[0;34m,\u001b[0m \u001b[0mname\u001b[0m\u001b[0;34m=\u001b[0m\u001b[0mname\u001b[0m\u001b[0;34m)\u001b[0m\u001b[0;34m\u001b[0m\u001b[0;34m\u001b[0m\u001b[0m\n\u001b[0m\u001b[1;32m   2323\u001b[0m \u001b[0;34m\u001b[0m\u001b[0m\n\u001b[1;32m   2324\u001b[0m     \u001b[0mrank\u001b[0m \u001b[0;34m=\u001b[0m \u001b[0ma\u001b[0m\u001b[0;34m.\u001b[0m\u001b[0mshape\u001b[0m\u001b[0;34m.\u001b[0m\u001b[0mrank\u001b[0m\u001b[0;34m\u001b[0m\u001b[0;34m\u001b[0m\u001b[0m\n",
            "\u001b[0;32m/usr/local/lib/python3.7/dist-packages/tensorflow/python/ops/gen_array_ops.py\u001b[0m in \u001b[0;36mtranspose\u001b[0;34m(x, perm, name)\u001b[0m\n\u001b[1;32m  11883\u001b[0m   \u001b[0;31m# Add nodes to the TensorFlow graph.\u001b[0m\u001b[0;34m\u001b[0m\u001b[0;34m\u001b[0m\u001b[0;34m\u001b[0m\u001b[0m\n\u001b[1;32m  11884\u001b[0m   _, _, _op, _outputs = _op_def_library._apply_op_helper(\n\u001b[0;32m> 11885\u001b[0;31m         \"Transpose\", x=x, perm=perm, name=name)\n\u001b[0m\u001b[1;32m  11886\u001b[0m   \u001b[0m_result\u001b[0m \u001b[0;34m=\u001b[0m \u001b[0m_outputs\u001b[0m\u001b[0;34m[\u001b[0m\u001b[0;34m:\u001b[0m\u001b[0;34m]\u001b[0m\u001b[0;34m\u001b[0m\u001b[0;34m\u001b[0m\u001b[0m\n\u001b[1;32m  11887\u001b[0m   \u001b[0;32mif\u001b[0m \u001b[0m_execute\u001b[0m\u001b[0;34m.\u001b[0m\u001b[0mmust_record_gradient\u001b[0m\u001b[0;34m(\u001b[0m\u001b[0;34m)\u001b[0m\u001b[0;34m:\u001b[0m\u001b[0;34m\u001b[0m\u001b[0;34m\u001b[0m\u001b[0m\n",
            "\u001b[0;32m/usr/local/lib/python3.7/dist-packages/tensorflow/python/framework/op_def_library.py\u001b[0m in \u001b[0;36m_apply_op_helper\u001b[0;34m(op_type_name, name, **keywords)\u001b[0m\n\u001b[1;32m    733\u001b[0m     \u001b[0;31m# NOTE(mrry): We add an explicit colocation constraint between\u001b[0m\u001b[0;34m\u001b[0m\u001b[0;34m\u001b[0m\u001b[0;34m\u001b[0m\u001b[0m\n\u001b[1;32m    734\u001b[0m     \u001b[0;31m# the newly created op and any of its reference-typed inputs.\u001b[0m\u001b[0;34m\u001b[0m\u001b[0;34m\u001b[0m\u001b[0;34m\u001b[0m\u001b[0m\n\u001b[0;32m--> 735\u001b[0;31m     must_colocate_inputs = [val for arg, val in zip(op_def.input_arg, inputs)\n\u001b[0m\u001b[1;32m    736\u001b[0m                             if arg.is_ref]\n\u001b[1;32m    737\u001b[0m     \u001b[0;32mwith\u001b[0m \u001b[0m_MaybeColocateWith\u001b[0m\u001b[0;34m(\u001b[0m\u001b[0mmust_colocate_inputs\u001b[0m\u001b[0;34m)\u001b[0m\u001b[0;34m:\u001b[0m\u001b[0;34m\u001b[0m\u001b[0;34m\u001b[0m\u001b[0m\n",
            "\u001b[0;32m/usr/local/lib/python3.7/dist-packages/tensorflow/python/framework/op_def_library.py\u001b[0m in \u001b[0;36m<listcomp>\u001b[0;34m(.0)\u001b[0m\n\u001b[1;32m    734\u001b[0m     \u001b[0;31m# the newly created op and any of its reference-typed inputs.\u001b[0m\u001b[0;34m\u001b[0m\u001b[0;34m\u001b[0m\u001b[0;34m\u001b[0m\u001b[0m\n\u001b[1;32m    735\u001b[0m     must_colocate_inputs = [val for arg, val in zip(op_def.input_arg, inputs)\n\u001b[0;32m--> 736\u001b[0;31m                             if arg.is_ref]\n\u001b[0m\u001b[1;32m    737\u001b[0m     \u001b[0;32mwith\u001b[0m \u001b[0m_MaybeColocateWith\u001b[0m\u001b[0;34m(\u001b[0m\u001b[0mmust_colocate_inputs\u001b[0m\u001b[0;34m)\u001b[0m\u001b[0;34m:\u001b[0m\u001b[0;34m\u001b[0m\u001b[0;34m\u001b[0m\u001b[0m\n\u001b[1;32m    738\u001b[0m       \u001b[0;31m# Add Op to graph\u001b[0m\u001b[0;34m\u001b[0m\u001b[0;34m\u001b[0m\u001b[0;34m\u001b[0m\u001b[0m\n",
            "\u001b[0;31mKeyboardInterrupt\u001b[0m: "
          ]
        }
      ]
    },
    {
      "cell_type": "code",
      "source": [
        "tuner.results_summary()"
      ],
      "metadata": {
        "colab": {
          "base_uri": "https://localhost:8080/"
        },
        "id": "ukHmXIrpaCTG",
        "outputId": "fba3488e-5983-4717-8e0c-de8aaf9cfbe9"
      },
      "execution_count": null,
      "outputs": [
        {
          "output_type": "stream",
          "name": "stdout",
          "text": [
            "Results summary\n",
            "Results in ./untitled_project\n",
            "Showing 10 best trials\n",
            "<keras_tuner.engine.objective.Objective object at 0x7f147a40e190>\n",
            "Trial summary\n",
            "Hyperparameters:\n",
            "dropout: 0.8\n",
            "dense_hidden_units2: 128\n",
            "activation: relu\n",
            "init: uniform\n",
            "l2: 0.01\n",
            "clipnorm: 1\n",
            "lr: 5e-06\n",
            "tuner/epochs: 2\n",
            "tuner/initial_epoch: 0\n",
            "tuner/bracket: 2\n",
            "tuner/round: 0\n",
            "Score: 0.4736842215061188\n",
            "Trial summary\n",
            "Hyperparameters:\n",
            "dropout: 0.8\n",
            "dense_hidden_units2: 8\n",
            "activation: elu\n",
            "init: uniform\n",
            "l2: 0.01\n",
            "clipnorm: 5\n",
            "lr: 5e-05\n",
            "tuner/epochs: 2\n",
            "tuner/initial_epoch: 0\n",
            "tuner/bracket: 2\n",
            "tuner/round: 0\n",
            "Score: 0.42105263471603394\n",
            "Trial summary\n",
            "Hyperparameters:\n",
            "dropout: 0.5\n",
            "dense_hidden_units2: 128\n",
            "activation: relu\n",
            "init: uniform\n",
            "l2: 0.001\n",
            "clipnorm: 5\n",
            "lr: 0.005\n",
            "tuner/epochs: 2\n",
            "tuner/initial_epoch: 0\n",
            "tuner/bracket: 2\n",
            "tuner/round: 0\n",
            "Score: 0.42105263471603394\n",
            "Trial summary\n",
            "Hyperparameters:\n",
            "dropout: 0.5\n",
            "dense_hidden_units2: 8\n",
            "activation: elu\n",
            "init: orthogonal\n",
            "l2: 0.01\n",
            "clipnorm: 3\n",
            "lr: 0.005\n",
            "tuner/epochs: 2\n",
            "tuner/initial_epoch: 0\n",
            "tuner/bracket: 2\n",
            "tuner/round: 0\n",
            "Score: 0.42105263471603394\n",
            "Trial summary\n",
            "Hyperparameters:\n",
            "dropout: 0.5\n",
            "dense_hidden_units2: 8\n",
            "activation: relu\n",
            "init: uniform\n",
            "l2: 0.001\n",
            "clipnorm: 1\n",
            "lr: 0.005\n",
            "tuner/epochs: 2\n",
            "tuner/initial_epoch: 0\n",
            "tuner/bracket: 2\n",
            "tuner/round: 0\n",
            "Score: 0.42105263471603394\n",
            "Trial summary\n",
            "Hyperparameters:\n",
            "dropout: 0.8\n",
            "dense_hidden_units2: 128\n",
            "activation: elu\n",
            "init: random_uniform\n",
            "l2: 0.01\n",
            "clipnorm: 5\n",
            "lr: 0.0005\n",
            "tuner/epochs: 2\n",
            "tuner/initial_epoch: 0\n",
            "tuner/bracket: 2\n",
            "tuner/round: 0\n",
            "Score: 0.42105263471603394\n",
            "Trial summary\n",
            "Hyperparameters:\n",
            "dropout: 0.5\n",
            "dense_hidden_units2: 8\n",
            "activation: relu\n",
            "init: orthogonal\n",
            "l2: 0.001\n",
            "clipnorm: 3\n",
            "lr: 0.0005\n",
            "tuner/epochs: 2\n",
            "tuner/initial_epoch: 0\n",
            "tuner/bracket: 2\n",
            "tuner/round: 0\n",
            "Score: 0.42105263471603394\n",
            "Trial summary\n",
            "Hyperparameters:\n",
            "dropout: 0.8\n",
            "dense_hidden_units2: 128\n",
            "activation: relu\n",
            "init: uniform\n",
            "l2: 0.01\n",
            "clipnorm: 1\n",
            "lr: 5e-06\n",
            "tuner/epochs: 4\n",
            "tuner/initial_epoch: 2\n",
            "tuner/bracket: 2\n",
            "tuner/round: 1\n",
            "tuner/trial_id: 0000\n",
            "Score: 0.42105263471603394\n",
            "Trial summary\n",
            "Hyperparameters:\n",
            "dropout: 0.8\n",
            "dense_hidden_units2: 8\n",
            "activation: elu\n",
            "init: uniform\n",
            "l2: 0.01\n",
            "clipnorm: 5\n",
            "lr: 5e-05\n",
            "tuner/epochs: 4\n",
            "tuner/initial_epoch: 2\n",
            "tuner/bracket: 2\n",
            "tuner/round: 1\n",
            "tuner/trial_id: 0001\n",
            "Score: 0.42105263471603394\n",
            "Trial summary\n",
            "Hyperparameters:\n",
            "dropout: 0.5\n",
            "dense_hidden_units2: 128\n",
            "activation: relu\n",
            "init: uniform\n",
            "l2: 0.001\n",
            "clipnorm: 5\n",
            "lr: 0.005\n",
            "tuner/epochs: 4\n",
            "tuner/initial_epoch: 2\n",
            "tuner/bracket: 2\n",
            "tuner/round: 1\n",
            "tuner/trial_id: 0002\n",
            "Score: 0.42105263471603394\n"
          ]
        }
      ]
    },
    {
      "cell_type": "markdown",
      "metadata": {
        "id": "I5FR5vIjndLq"
      },
      "source": [
        "##Training the model"
      ]
    },
    {
      "cell_type": "code",
      "execution_count": null,
      "metadata": {
        "id": "Bg7HiELsGxgo"
      },
      "outputs": [],
      "source": [
        "EPOCHS = 1000\n",
        "BATCH_SIZE = 32\n",
        "model = tuner.get_best_models()[0]\n"
      ]
    },
    {
      "cell_type": "code",
      "execution_count": null,
      "metadata": {
        "colab": {
          "base_uri": "https://localhost:8080/"
        },
        "id": "873yGx5FdrJR",
        "outputId": "77903397-87ad-4e4a-eb92-ef1f246404a6"
      },
      "outputs": [
        {
          "output_type": "stream",
          "name": "stdout",
          "text": [
            "Model: \"model_1\"\n",
            "__________________________________________________________________________________________________\n",
            " Layer (type)                   Output Shape         Param #     Connected to                     \n",
            "==================================================================================================\n",
            " input_2 (InputLayer)           [(None, 2, 59)]      0           []                               \n",
            "                                                                                                  \n",
            " tf.__operators__.getitem_2 (Sl  (None, 59)          0           ['input_2[0][0]']                \n",
            " icingOpLambda)                                                                                   \n",
            "                                                                                                  \n",
            " tf.__operators__.getitem_3 (Sl  (None, 59)          0           ['input_2[0][0]']                \n",
            " icingOpLambda)                                                                                   \n",
            "                                                                                                  \n",
            " tf.convert_to_tensor_2 (TFOpLa  (None, 59)          0           ['tf.__operators__.getitem_2[0][0\n",
            " mbda)                                                           ]']                              \n",
            "                                                                                                  \n",
            " tf.convert_to_tensor_3 (TFOpLa  (None, 59)          0           ['tf.__operators__.getitem_3[0][0\n",
            " mbda)                                                           ]']                              \n",
            "                                                                                                  \n",
            " tf_bert_model (TFBertModel)    multiple             110617344   ['tf.convert_to_tensor_2[0][0]', \n",
            "                                                                  'tf.convert_to_tensor_3[0][0]'] \n",
            "                                                                                                  \n",
            " flatten_2 (Flatten)            (None, 45312)        0           ['tf_bert_model[1][0]']          \n",
            "                                                                                                  \n",
            " dropout_44 (Dropout)           (None, 45312)        0           ['flatten_2[0][0]']              \n",
            "                                                                                                  \n",
            " dense_5 (Dense)                (None, 3)            135939      ['dropout_44[0][0]']             \n",
            "                                                                                                  \n",
            "==================================================================================================\n",
            "Total params: 110,753,283\n",
            "Trainable params: 110,753,283\n",
            "Non-trainable params: 0\n",
            "__________________________________________________________________________________________________\n"
          ]
        }
      ],
      "source": [
        "model.summary()"
      ]
    },
    {
      "cell_type": "code",
      "execution_count": null,
      "metadata": {
        "colab": {
          "base_uri": "https://localhost:8080/",
          "height": 459
        },
        "id": "UftbTCBGSn44",
        "outputId": "7d485607-0b86-4726-f69f-184e756687c6"
      },
      "outputs": [
        {
          "output_type": "execute_result",
          "data": {
            "text/plain": [
              "<IPython.core.display.Image object>"
            ],
            "image/png": "[encoded data removed]"
          },
          "metadata": {},
          "execution_count": 31
        }
      ],
      "source": [
        "from tensorflow.keras.utils import plot_model\n",
        "plot_model(model, show_shapes=True)"
      ]
    },
    {
      "cell_type": "code",
      "execution_count": null,
      "metadata": {
        "colab": {
          "base_uri": "https://localhost:8080/"
        },
        "id": "OZqXeEeRT_lO",
        "outputId": "deb12317-f108-4ec9-94f4-8ea3d82101a9"
      },
      "outputs": [
        {
          "output_type": "stream",
          "name": "stdout",
          "text": [
            "Epoch 1/1000\n",
            "WARNING:tensorflow:Gradients do not exist for variables ['tf_bert_model/bert/pooler/dense/kernel:0', 'tf_bert_model/bert/pooler/dense/bias:0'] when minimizing the loss. If you're using `model.compile()`, did you forget to provide a `loss`argument?\n",
            "WARNING:tensorflow:Gradients do not exist for variables ['tf_bert_model/bert/pooler/dense/kernel:0', 'tf_bert_model/bert/pooler/dense/bias:0'] when minimizing the loss. If you're using `model.compile()`, did you forget to provide a `loss`argument?\n",
            "60/60 [==============================] - 57s 606ms/step - loss: 8.0935 - categorical_accuracy: 0.3426 - val_loss: 2.5647 - val_categorical_accuracy: 0.4019\n",
            "Epoch 2/1000\n",
            "60/60 [==============================] - 33s 559ms/step - loss: 7.5007 - categorical_accuracy: 0.3608 - val_loss: 2.6100 - val_categorical_accuracy: 0.4170\n",
            "Epoch 3/1000\n",
            "60/60 [==============================] - 33s 546ms/step - loss: 6.7420 - categorical_accuracy: 0.3990 - val_loss: 2.3034 - val_categorical_accuracy: 0.4396\n",
            "Epoch 4/1000\n",
            "60/60 [==============================] - 33s 548ms/step - loss: 6.9389 - categorical_accuracy: 0.3963 - val_loss: 2.1680 - val_categorical_accuracy: 0.4925\n",
            "Epoch 5/1000\n",
            "60/60 [==============================] - 27s 452ms/step - loss: 6.2243 - categorical_accuracy: 0.4334 - val_loss: 2.0973 - val_categorical_accuracy: 0.4925\n",
            "Epoch 6/1000\n",
            "60/60 [==============================] - 33s 548ms/step - loss: 5.7197 - categorical_accuracy: 0.4684 - val_loss: 2.1875 - val_categorical_accuracy: 0.5283\n",
            "Epoch 7/1000\n",
            "60/60 [==============================] - 33s 554ms/step - loss: 5.5645 - categorical_accuracy: 0.4846 - val_loss: 2.5012 - val_categorical_accuracy: 0.5415\n",
            "Epoch 8/1000\n",
            "60/60 [==============================] - 33s 550ms/step - loss: 5.1053 - categorical_accuracy: 0.5191 - val_loss: 2.4833 - val_categorical_accuracy: 0.5623\n",
            "Epoch 9/1000\n",
            "60/60 [==============================] - 33s 549ms/step - loss: 4.6946 - categorical_accuracy: 0.5473 - val_loss: 2.4909 - val_categorical_accuracy: 0.5906\n",
            "Epoch 10/1000\n",
            "60/60 [==============================] - 33s 547ms/step - loss: 4.8117 - categorical_accuracy: 0.5504 - val_loss: 2.5855 - val_categorical_accuracy: 0.5925\n",
            "Epoch 11/1000\n",
            "60/60 [==============================] - 33s 548ms/step - loss: 4.5705 - categorical_accuracy: 0.5822 - val_loss: 2.8426 - val_categorical_accuracy: 0.6075\n",
            "Epoch 12/1000\n",
            "60/60 [==============================] - 27s 452ms/step - loss: 4.2997 - categorical_accuracy: 0.5958 - val_loss: 3.1392 - val_categorical_accuracy: 0.5943\n",
            "Epoch 13/1000\n",
            "60/60 [==============================] - 27s 453ms/step - loss: 3.8788 - categorical_accuracy: 0.6303 - val_loss: 3.3817 - val_categorical_accuracy: 0.5868\n",
            "Epoch 14/1000\n",
            "60/60 [==============================] - 27s 450ms/step - loss: 3.7978 - categorical_accuracy: 0.6496 - val_loss: 3.6973 - val_categorical_accuracy: 0.5849\n",
            "Epoch 15/1000\n",
            "60/60 [==============================] - 27s 452ms/step - loss: 3.3357 - categorical_accuracy: 0.6653 - val_loss: 3.5561 - val_categorical_accuracy: 0.5962\n",
            "Epoch 16/1000\n",
            "60/60 [==============================] - 27s 453ms/step - loss: 3.0623 - categorical_accuracy: 0.7076 - val_loss: 3.8530 - val_categorical_accuracy: 0.5962\n",
            "Epoch 17/1000\n",
            "60/60 [==============================] - 27s 453ms/step - loss: 2.9473 - categorical_accuracy: 0.6982 - val_loss: 4.2673 - val_categorical_accuracy: 0.5811\n",
            "Epoch 18/1000\n",
            "60/60 [==============================] - 27s 451ms/step - loss: 2.6357 - categorical_accuracy: 0.7394 - val_loss: 4.5980 - val_categorical_accuracy: 0.5943\n",
            "Epoch 19/1000\n",
            "60/60 [==============================] - 27s 451ms/step - loss: 2.4337 - categorical_accuracy: 0.7614 - val_loss: 5.0536 - val_categorical_accuracy: 0.5849\n",
            "Epoch 20/1000\n",
            "60/60 [==============================] - 27s 451ms/step - loss: 1.9835 - categorical_accuracy: 0.7937 - val_loss: 5.4424 - val_categorical_accuracy: 0.5679\n",
            "Epoch 21/1000\n",
            "60/60 [==============================] - 27s 455ms/step - loss: 1.9836 - categorical_accuracy: 0.8094 - val_loss: 5.9262 - val_categorical_accuracy: 0.5717\n",
            "Epoch 22/1000\n",
            "60/60 [==============================] - 28s 465ms/step - loss: 1.6723 - categorical_accuracy: 0.8313 - val_loss: 6.2208 - val_categorical_accuracy: 0.5925\n",
            "Epoch 23/1000\n",
            "60/60 [==============================] - 28s 468ms/step - loss: 1.4413 - categorical_accuracy: 0.8538 - val_loss: 6.9146 - val_categorical_accuracy: 0.5887\n",
            "Epoch 24/1000\n",
            "60/60 [==============================] - 28s 461ms/step - loss: 1.2347 - categorical_accuracy: 0.8742 - val_loss: 7.7856 - val_categorical_accuracy: 0.5849\n",
            "Epoch 25/1000\n",
            "60/60 [==============================] - 28s 466ms/step - loss: 1.0589 - categorical_accuracy: 0.8930 - val_loss: 8.0980 - val_categorical_accuracy: 0.5811\n",
            "Epoch 26/1000\n",
            "60/60 [==============================] - 27s 454ms/step - loss: 0.8316 - categorical_accuracy: 0.9039 - val_loss: 8.6008 - val_categorical_accuracy: 0.5887\n",
            "Epoch 27/1000\n",
            "60/60 [==============================] - 27s 453ms/step - loss: 0.8443 - categorical_accuracy: 0.9201 - val_loss: 8.5374 - val_categorical_accuracy: 0.5811\n",
            "Epoch 28/1000\n",
            "60/60 [==============================] - 27s 451ms/step - loss: 0.7521 - categorical_accuracy: 0.9091 - val_loss: 9.4284 - val_categorical_accuracy: 0.5698\n",
            "Epoch 29/1000\n",
            "60/60 [==============================] - 27s 452ms/step - loss: 0.7088 - categorical_accuracy: 0.9274 - val_loss: 9.5812 - val_categorical_accuracy: 0.5811\n",
            "Epoch 30/1000\n",
            "60/60 [==============================] - 27s 452ms/step - loss: 0.6160 - categorical_accuracy: 0.9316 - val_loss: 9.9500 - val_categorical_accuracy: 0.5792\n"
          ]
        }
      ],
      "source": [
        "checkpoint_callback = tf.keras.callbacks.ModelCheckpoint(\n",
        "  filepath='ckpt_1',\n",
        "  save_weights_only=True,\n",
        "  monitor='val_categorical_accuracy',\n",
        "  mode='max',\n",
        "  save_best_only=True\n",
        ")\n",
        "\n",
        "combi_train = np.stack([ train_tweets['input_ids'], train_tweets['attention_mask'] ], axis=1)\n",
        "combi_valid = np.stack([ valid_tweets['input_ids'], valid_tweets['attention_mask'] ], axis=1)\n",
        "\n",
        "#early stop mechanism\n",
        "earlystop_callback = tf.keras.callbacks.EarlyStopping(\n",
        "    monitor='val_loss',\n",
        "    patience=25\n",
        ")\n",
        "\n",
        "history = model.fit(combi_train,\n",
        "                    train_sentiments,\n",
        "                    batch_size=BATCH_SIZE,\n",
        "                    epochs=EPOCHS,\n",
        "                    shuffle=True,\n",
        "                    validation_data=(combi_valid,valid_sentiments),\n",
        "                    callbacks=[checkpoint_callback, earlystop_callback])"
      ]
    },
    {
      "cell_type": "code",
      "execution_count": null,
      "metadata": {
        "id": "nebz0XwfGduY",
        "colab": {
          "base_uri": "https://localhost:8080/",
          "height": 545
        },
        "outputId": "0a07bb9d-a16d-49fc-f138-0c3d63ac4e39"
      },
      "outputs": [
        {
          "output_type": "display_data",
          "data": {
            "text/plain": [
              "<Figure size 432x288 with 1 Axes>"
            ],
            "image/png": "[encoded data removed]"
          },
          "metadata": {
            "needs_background": "light"
          }
        },
        {
          "output_type": "display_data",
          "data": {
            "text/plain": [
              "<Figure size 432x288 with 1 Axes>"
            ],
            "image/png": "[encoded data removed]"
          },
          "metadata": {
            "needs_background": "light"
          }
        }
      ],
      "source": [
        "plot(history)"
      ]
    },
    {
      "cell_type": "code",
      "execution_count": null,
      "metadata": {
        "id": "nwa_iFjXL1_2",
        "colab": {
          "base_uri": "https://localhost:8080/"
        },
        "outputId": "9a7d7971-ec4a-4f0b-9686-7d9b38d1c7a3"
      },
      "outputs": [
        {
          "output_type": "execute_result",
          "data": {
            "text/plain": [
              "<tensorflow.python.training.tracking.util.CheckpointLoadStatus at 0x7fc8ec227110>"
            ]
          },
          "metadata": {},
          "execution_count": 96
        }
      ],
      "source": [
        "model.load_weights('ckpt_1')"
      ]
    },
    {
      "cell_type": "code",
      "execution_count": null,
      "metadata": {
        "id": "62k35GUwiKP-",
        "colab": {
          "base_uri": "https://localhost:8080/"
        },
        "outputId": "6e359f56-3f3e-4da4-d594-806e7263942d"
      },
      "outputs": [
        {
          "output_type": "stream",
          "name": "stdout",
          "text": [
            "60/60 [==============================] - 9s 141ms/step - loss: 1.2821 - categorical_accuracy: 0.7640\n"
          ]
        },
        {
          "output_type": "execute_result",
          "data": {
            "text/plain": [
              "0.7639686465263367"
            ]
          },
          "metadata": {},
          "execution_count": 97
        }
      ],
      "source": [
        "train_loss, train_accuracy = model.evaluate(combi_train, train_sentiments)\n",
        "train_accuracy"
      ]
    },
    {
      "cell_type": "code",
      "execution_count": null,
      "metadata": {
        "id": "s00lQiDrujAQ",
        "colab": {
          "base_uri": "https://localhost:8080/"
        },
        "outputId": "0a85c8e2-7a90-44f7-cdfc-97a751305e40"
      },
      "outputs": [
        {
          "output_type": "stream",
          "name": "stdout",
          "text": [
            "17/17 [==============================] - 2s 136ms/step - loss: 2.8426 - categorical_accuracy: 0.6075\n"
          ]
        },
        {
          "output_type": "execute_result",
          "data": {
            "text/plain": [
              "0.6075471639633179"
            ]
          },
          "metadata": {},
          "execution_count": 98
        }
      ],
      "source": [
        "valid_loss, valid_accuracy = model.evaluate(combi_valid, valid_sentiments)\n",
        "valid_accuracy"
      ]
    },
    {
      "cell_type": "code",
      "execution_count": null,
      "metadata": {
        "id": "65pvsS-JGjQk",
        "colab": {
          "base_uri": "https://localhost:8080/"
        },
        "outputId": "24177d2a-487e-4176-c3a0-04d268e1f2b9"
      },
      "outputs": [
        {
          "output_type": "stream",
          "name": "stdout",
          "text": [
            "17/17 [==============================] - 2s 137ms/step - loss: 2.9274 - categorical_accuracy: 0.5943\n"
          ]
        },
        {
          "output_type": "execute_result",
          "data": {
            "text/plain": [
              "0.5943396091461182"
            ]
          },
          "metadata": {},
          "execution_count": 99
        }
      ],
      "source": [
        "combi_test = np.stack([ test_tweets['input_ids'], test_tweets['attention_mask'] ], axis=1)\n",
        "\n",
        "test_loss, test_accuracy = model.evaluate(combi_test, test_sentiments)\n",
        "test_accuracy"
      ]
    },
    {
      "cell_type": "code",
      "source": [
        "from tabulate import tabulate\n",
        "print(tabulate(eval_metrics(model, combi_test, test_sentiments), headers=['precision','recall','F1', 'CM']))"
      ],
      "metadata": {
        "id": "mFG-hQJsyBfr",
        "colab": {
          "base_uri": "https://localhost:8080/"
        },
        "outputId": "7ba0a165-4e98-4e39-f258-b7536b9572c5"
      },
      "execution_count": null,
      "outputs": [
        {
          "output_type": "stream",
          "name": "stdout",
          "text": [
            "              precision    recall  f1-score   support\n",
            "\n",
            "           0       0.54      0.38      0.45       189\n",
            "           1       0.63      0.78      0.69       179\n",
            "           2       0.59      0.64      0.62       162\n",
            "\n",
            "    accuracy                           0.59       530\n",
            "   macro avg       0.59      0.60      0.59       530\n",
            "weighted avg       0.59      0.59      0.58       530\n",
            "\n",
            "  precision    recall        F1  CM\n",
            "-----------  --------  --------  ---------------\n",
            "   0.587255  0.599821  0.585894  [[ 72  61  56]\n",
            "                                  [ 25 139  15]\n",
            "                                  [ 36  22 104]]\n"
          ]
        },
        {
          "output_type": "stream",
          "name": "stderr",
          "text": [
            "/usr/local/lib/python3.7/dist-packages/ipykernel_launcher.py:10: VisibleDeprecationWarning: Creating an ndarray from ragged nested sequences (which is a list-or-tuple of lists-or-tuples-or ndarrays with different lengths or shapes) is deprecated. If you meant to do this, you must specify 'dtype=object' when creating the ndarray.\n",
            "  # Remove the CWD from sys.path while we load stuff.\n"
          ]
        }
      ]
    },
    {
      "cell_type": "code",
      "source": [
        "#just on semeval test\n",
        "combi_test1 = np.stack([ test_tweets1['input_ids'], test_tweets1['attention_mask'] ], axis=1)\n",
        "\n",
        "test_loss, test_accuracy = model.evaluate(combi_test1, test_sentiments1)\n",
        "test_accuracy"
      ],
      "metadata": {
        "id": "OlkgeaFux_eP",
        "colab": {
          "base_uri": "https://localhost:8080/"
        },
        "outputId": "dfdd74e5-a35c-46c8-84fb-2d65ff105715"
      },
      "execution_count": null,
      "outputs": [
        {
          "output_type": "stream",
          "name": "stdout",
          "text": [
            "3/3 [==============================] - 0s 86ms/step - loss: 2.7688 - categorical_accuracy: 0.5538\n"
          ]
        },
        {
          "output_type": "execute_result",
          "data": {
            "text/plain": [
              "0.5538461804389954"
            ]
          },
          "metadata": {},
          "execution_count": 101
        }
      ]
    },
    {
      "cell_type": "code",
      "source": [
        "from tabulate import tabulate\n",
        "print(tabulate(eval_metrics(model, combi_test1, test_sentiments1), headers=['precision','recall','F1', 'CM']))"
      ],
      "metadata": {
        "id": "KCxWrqyOyP91",
        "colab": {
          "base_uri": "https://localhost:8080/"
        },
        "outputId": "d4b3b572-76aa-43f3-da1e-b4440f34e88d"
      },
      "execution_count": null,
      "outputs": [
        {
          "output_type": "stream",
          "name": "stdout",
          "text": [
            "              precision    recall  f1-score   support\n",
            "\n",
            "           0       0.62      0.38      0.47        34\n",
            "           1       0.54      0.83      0.66        24\n",
            "           2       0.43      0.43      0.43         7\n",
            "\n",
            "    accuracy                           0.55        65\n",
            "   macro avg       0.53      0.55      0.52        65\n",
            "weighted avg       0.57      0.55      0.54        65\n",
            "\n",
            "  precision    recall        F1  CM\n",
            "-----------  --------  --------  ------------\n",
            "   0.529387  0.548086  0.519012  [[13 17  4]\n",
            "                                  [ 4 20  0]\n",
            "                                  [ 4  0  3]]\n"
          ]
        },
        {
          "output_type": "stream",
          "name": "stderr",
          "text": [
            "/usr/local/lib/python3.7/dist-packages/ipykernel_launcher.py:10: VisibleDeprecationWarning: Creating an ndarray from ragged nested sequences (which is a list-or-tuple of lists-or-tuples-or ndarrays with different lengths or shapes) is deprecated. If you meant to do this, you must specify 'dtype=object' when creating the ndarray.\n",
            "  # Remove the CWD from sys.path while we load stuff.\n"
          ]
        }
      ]
    },
    {
      "cell_type": "code",
      "source": [
        "model.save('astd_bert_comb.h5')"
      ],
      "metadata": {
        "id": "P1Ok_WcoT8_R"
      },
      "execution_count": null,
      "outputs": []
    },
    {
      "cell_type": "code",
      "execution_count": null,
      "metadata": {
        "id": "F_o7ePfdhw5e"
      },
      "outputs": [],
      "source": [
        "output_file_path = 'astd_bert_overfit_comb.h5' #os.path.join(base_path, \"Models/astd_bert_overfit_comb.h5\")\n",
        "model.save(output_file_path)"
      ]
    },
    {
      "cell_type": "markdown",
      "source": [
        "##only for loading transformer"
      ],
      "metadata": {
        "id": "SPQ4-cMe0MDT"
      }
    },
    {
      "cell_type": "code",
      "source": [
        "def define_transformer_model():\n",
        "  input = Input(shape=(2,max), dtype=tf.int32)\n",
        "  embeddings = bert_model(input_ids=tf.convert_to_tensor(input[:,0],dtype=tf.int32), attention_mask=tf.convert_to_tensor(input[:,1], dtype=tf.int32))[0]\n",
        "  embeddings=Flatten()(embeddings)\n",
        "\n",
        "  out = Dropout((0.8))(embeddings)\n",
        "\n",
        "  out = Dense(128,activation='relu', kernel_initializer='uniform')(out)\n",
        "\n",
        "  out = Dropout((0.8))(embeddings)\n",
        "  \n",
        "  output = Dense(len(sentiments), kernel_initializer='uniform',\n",
        "                  activation='softmax', activity_regularizer=regularizers.l2(0.01))(out)\n",
        "  \n",
        "  model = tf.keras.Model(inputs=input, outputs=output)\n",
        "  model.layers[1].trainable=True\n",
        "\n",
        "  opt = tf.keras.optimizers.Adam(\n",
        "      clipnorm=1,\n",
        "      learning_rate=5e-06,\n",
        "      name='Adam')\n",
        "  \n",
        "  loss = tf.keras.losses.CategoricalCrossentropy()\n",
        "  model.compile(loss=loss,\n",
        "                optimizer=opt,\n",
        "                metrics=['categorical_accuracy'])\n",
        "  return model\n",
        "\n",
        "\n",
        "  "
      ],
      "metadata": {
        "id": "4PCj_WJc0O2p"
      },
      "execution_count": null,
      "outputs": []
    },
    {
      "cell_type": "code",
      "source": [
        "model1 = define_transformer_model()"
      ],
      "metadata": {
        "id": "mcXf-pxE1AQh"
      },
      "execution_count": null,
      "outputs": []
    },
    {
      "cell_type": "code",
      "source": [
        "output_file_path = 'astd_bert_overfit_comb.h5'\n",
        "model1.load_weights(output_file_path)\n",
        "from tabulate import tabulate\n",
        "print(tabulate(eval_metrics(model1, combi_test1, test_sentiments1), headers=['precision','recall','F1', 'CM']))"
      ],
      "metadata": {
        "colab": {
          "base_uri": "https://localhost:8080/"
        },
        "id": "k8ONsyBFzz7E",
        "outputId": "06990b76-2a25-4511-d0b6-4198fdb91446"
      },
      "execution_count": null,
      "outputs": [
        {
          "output_type": "stream",
          "name": "stdout",
          "text": [
            "              precision    recall  f1-score   support\n",
            "\n",
            "           0       0.68      0.50      0.58        34\n",
            "           1       0.58      0.88      0.70        24\n",
            "           2       0.50      0.29      0.36         7\n",
            "\n",
            "    accuracy                           0.62        65\n",
            "   macro avg       0.59      0.55      0.55        65\n",
            "weighted avg       0.62      0.62      0.60        65\n",
            "\n",
            "  precision    recall        F1  CM\n",
            "-----------  --------  --------  ------------\n",
            "   0.587778  0.553571  0.546636  [[17 15  2]\n",
            "                                  [ 3 21  0]\n",
            "                                  [ 5  0  2]]\n"
          ]
        },
        {
          "output_type": "stream",
          "name": "stderr",
          "text": [
            "/usr/local/lib/python3.7/dist-packages/ipykernel_launcher.py:10: VisibleDeprecationWarning: Creating an ndarray from ragged nested sequences (which is a list-or-tuple of lists-or-tuples-or ndarrays with different lengths or shapes) is deprecated. If you meant to do this, you must specify 'dtype=object' when creating the ndarray.\n",
            "  # Remove the CWD from sys.path while we load stuff.\n"
          ]
        }
      ]
    }
  ],
  "metadata": {
    "accelerator": "GPU",
    "colab": {
      "collapsed_sections": [
        "dEgNWgjPxyz-",
        "40pQRT5cf0wG",
        "ahUdE7k3QwN4",
        "gH50a7r8f3aV",
        "PSa7uqnwe2D-",
        "hr91rOVPe4q7",
        "DXpH0uohd55y",
        "LNYfrpaQf9hh",
        "bRzD3Q8U8_py",
        "m3vc1_JVUrfD",
        "n2OiLYaalCAV",
        "ZpTU0qXvDeBJ",
        "7z0kp9uKlPJd",
        "ka8mFoDiLsMu",
        "lhUpf0VtnM2N",
        "bjuIwqQPnYYn",
        "SPQ4-cMe0MDT"
      ],
      "name": "CombinedDataSet.ipynb",
      "provenance": []
    },
    "kernelspec": {
      "display_name": "Python 3",
      "name": "python3"
    },
    "language_info": {
      "name": "python"
    }
  },
  "nbformat": 4,
  "nbformat_minor": 0
}
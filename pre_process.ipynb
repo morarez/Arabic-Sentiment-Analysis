{
  "cells": [
    {
      "cell_type": "code",
      "execution_count": null,
      "metadata": {
        "id": "45KrfXthtY17"
      },
      "outputs": [],
      "source": [
        "import pandas as pd\n",
        "import os\n",
        "import re"
      ]
    },
    {
      "cell_type": "code",
      "execution_count": null,
      "metadata": {
        "colab": {
          "base_uri": "https://localhost:8080/"
        },
        "id": "winCXGQXqen4",
        "outputId": "4f50d1d0-94c0-4668-cdfb-0bc5f72f85f3"
      },
      "outputs": [
        {
          "output_type": "stream",
          "name": "stdout",
          "text": [
            "Mounted at /content/drive\n"
          ]
        }
      ],
      "source": [
        "from google.colab import drive\n",
        "drive.mount('/content/drive')"
      ]
    },
    {
      "cell_type": "markdown",
      "metadata": {
        "id": "3qFNPsv4LZVH"
      },
      "source": [
        "#Dataset 1"
      ]
    },
    {
      "cell_type": "code",
      "execution_count": null,
      "metadata": {
        "id": "ewvcV8-krk4m"
      },
      "outputs": [],
      "source": [
        "base_path = \"/content/drive/MyDrive/HLT Project/\"\n",
        "input_file_path = os.path.join(base_path, \"Data/SemEval2017-task4-dev.subtask-CE.arabic.INPUT.txt\")\n",
        "df = pd.read_csv(input_file_path, sep=\"\\t\", names=[\"id\", \"topic\", \"scale\", \"tweet\"], keep_default_na=False)"
      ]
    },
    {
      "cell_type": "markdown",
      "metadata": {
        "id": "QGUrSsJlLdaX"
      },
      "source": [
        "#Dataset 2"
      ]
    },
    {
      "cell_type": "code",
      "execution_count": null,
      "metadata": {
        "id": "Xfrqmlc3MKqb"
      },
      "outputs": [],
      "source": [
        "base_path = \"/content/drive/MyDrive/HLT Project/\"\n",
        "input_file_path = os.path.join(base_path, \"Data/ASTD/Tweets.txt\")"
      ]
    },
    {
      "cell_type": "code",
      "execution_count": null,
      "metadata": {
        "id": "TKcXW8QMLgZy"
      },
      "outputs": [],
      "source": [
        "rows=[]\n",
        "for line in open(input_file_path):\n",
        "     words=re.split(r'\\t+', line)\n",
        "     rows.append([words[0], words[1]])\n",
        "df = pd.DataFrame(rows, columns=[\"tweet\", \"scale\"])\n"
      ]
    },
    {
      "cell_type": "code",
      "execution_count": null,
      "metadata": {
        "colab": {
          "base_uri": "https://localhost:8080/"
        },
        "id": "98qMkh3mMsgH",
        "outputId": "61915c9a-a7b6-44e6-eb4f-41b71ec37474"
      },
      "outputs": [
        {
          "output_type": "execute_result",
          "data": {
            "text/plain": [
              "OBJ\\n        6691\n",
              "NEG\\n        1684\n",
              "NEUTRAL\\n     832\n",
              "POS\\n         799\n",
              "Name: scale, dtype: int64"
            ]
          },
          "metadata": {},
          "execution_count": 51
        }
      ],
      "source": [
        "df['scale'].value_counts()"
      ]
    },
    {
      "cell_type": "code",
      "execution_count": null,
      "metadata": {
        "colab": {
          "base_uri": "https://localhost:8080/",
          "height": 424
        },
        "id": "Hgb9IDCxM_40",
        "outputId": "3c5bbfd0-e691-4b07-8fd2-c19a8fa02e0b"
      },
      "outputs": [
        {
          "output_type": "execute_result",
          "data": {
            "text/plain": [
              "                                                   tweet  scale\n",
              "0      بعد استقالة رئيس #المحكمة_الدستورية ننتظر استق...      0\n",
              "1      أهنئ الدكتور أحمد جمال الدين، القيادي بحزب مصر...      1\n",
              "2      البرادعي يستقوى بامريكا مرةاخرى و يرسل عصام ال...     -1\n",
              "3      #الحرية_والعدالة | شاهد الآن: #ليلة_الاتحادية ...      0\n",
              "4      الوالدة لو اقولها بخاطري حشيشة تضحك بس من اقول...      0\n",
              "...                                                  ...    ...\n",
              "10001  والغاز مش مدعوم يا إنسان؟ وماذا عن الأسمنت وال...     -1\n",
              "10002  اغلاق كل الساحات والميادين الكبرى لمنع صلاة ال...     -1\n",
              "10003  #الشروق \"الداخلية\": 400 ألف مواطن تقدموا لأداء...      0\n",
              "10004      #هتحبك_لو صحتها من النوم علشان تقولها بحبك ;)      1\n",
              "10005     كل شى كتبته غلط كل شى حسبته غلط فى #الامتحانات     -1\n",
              "\n",
              "[10006 rows x 2 columns]"
            ],
            "text/html": [
              "\n",
              "  <div id=\"df-7c708b9e-f002-4ee6-bb2d-737822c11657\">\n",
              "    <div class=\"colab-df-container\">\n",
              "      <div>\n",
              "<style scoped>\n",
              "    .dataframe tbody tr th:only-of-type {\n",
              "        vertical-align: middle;\n",
              "    }\n",
              "\n",
              "    .dataframe tbody tr th {\n",
              "        vertical-align: top;\n",
              "    }\n",
              "\n",
              "    .dataframe thead th {\n",
              "        text-align: right;\n",
              "    }\n",
              "</style>\n",
              "<table border=\"1\" class=\"dataframe\">\n",
              "  <thead>\n",
              "    <tr style=\"text-align: right;\">\n",
              "      <th></th>\n",
              "      <th>tweet</th>\n",
              "      <th>scale</th>\n",
              "    </tr>\n",
              "  </thead>\n",
              "  <tbody>\n",
              "    <tr>\n",
              "      <th>0</th>\n",
              "      <td>بعد استقالة رئيس #المحكمة_الدستورية ننتظر استق...</td>\n",
              "      <td>0</td>\n",
              "    </tr>\n",
              "    <tr>\n",
              "      <th>1</th>\n",
              "      <td>أهنئ الدكتور أحمد جمال الدين، القيادي بحزب مصر...</td>\n",
              "      <td>1</td>\n",
              "    </tr>\n",
              "    <tr>\n",
              "      <th>2</th>\n",
              "      <td>البرادعي يستقوى بامريكا مرةاخرى و يرسل عصام ال...</td>\n",
              "      <td>-1</td>\n",
              "    </tr>\n",
              "    <tr>\n",
              "      <th>3</th>\n",
              "      <td>#الحرية_والعدالة | شاهد الآن: #ليلة_الاتحادية ...</td>\n",
              "      <td>0</td>\n",
              "    </tr>\n",
              "    <tr>\n",
              "      <th>4</th>\n",
              "      <td>الوالدة لو اقولها بخاطري حشيشة تضحك بس من اقول...</td>\n",
              "      <td>0</td>\n",
              "    </tr>\n",
              "    <tr>\n",
              "      <th>...</th>\n",
              "      <td>...</td>\n",
              "      <td>...</td>\n",
              "    </tr>\n",
              "    <tr>\n",
              "      <th>10001</th>\n",
              "      <td>والغاز مش مدعوم يا إنسان؟ وماذا عن الأسمنت وال...</td>\n",
              "      <td>-1</td>\n",
              "    </tr>\n",
              "    <tr>\n",
              "      <th>10002</th>\n",
              "      <td>اغلاق كل الساحات والميادين الكبرى لمنع صلاة ال...</td>\n",
              "      <td>-1</td>\n",
              "    </tr>\n",
              "    <tr>\n",
              "      <th>10003</th>\n",
              "      <td>#الشروق \"الداخلية\": 400 ألف مواطن تقدموا لأداء...</td>\n",
              "      <td>0</td>\n",
              "    </tr>\n",
              "    <tr>\n",
              "      <th>10004</th>\n",
              "      <td>#هتحبك_لو صحتها من النوم علشان تقولها بحبك ;)</td>\n",
              "      <td>1</td>\n",
              "    </tr>\n",
              "    <tr>\n",
              "      <th>10005</th>\n",
              "      <td>كل شى كتبته غلط كل شى حسبته غلط فى #الامتحانات</td>\n",
              "      <td>-1</td>\n",
              "    </tr>\n",
              "  </tbody>\n",
              "</table>\n",
              "<p>10006 rows × 2 columns</p>\n",
              "</div>\n",
              "      <button class=\"colab-df-convert\" onclick=\"convertToInteractive('df-7c708b9e-f002-4ee6-bb2d-737822c11657')\"\n",
              "              title=\"Convert this dataframe to an interactive table.\"\n",
              "              style=\"display:none;\">\n",
              "        \n",
              "  <svg xmlns=\"http://www.w3.org/2000/svg\" height=\"24px\"viewBox=\"0 0 24 24\"\n",
              "       width=\"24px\">\n",
              "    <path d=\"M0 0h24v24H0V0z\" fill=\"none\"/>\n",
              "    <path d=\"M18.56 5.44l.94 2.06.94-2.06 2.06-.94-2.06-.94-.94-2.06-.94 2.06-2.06.94zm-11 1L8.5 8.5l.94-2.06 2.06-.94-2.06-.94L8.5 2.5l-.94 2.06-2.06.94zm10 10l.94 2.06.94-2.06 2.06-.94-2.06-.94-.94-2.06-.94 2.06-2.06.94z\"/><path d=\"M17.41 7.96l-1.37-1.37c-.4-.4-.92-.59-1.43-.59-.52 0-1.04.2-1.43.59L10.3 9.45l-7.72 7.72c-.78.78-.78 2.05 0 2.83L4 21.41c.39.39.9.59 1.41.59.51 0 1.02-.2 1.41-.59l7.78-7.78 2.81-2.81c.8-.78.8-2.07 0-2.86zM5.41 20L4 18.59l7.72-7.72 1.47 1.35L5.41 20z\"/>\n",
              "  </svg>\n",
              "      </button>\n",
              "      \n",
              "  <style>\n",
              "    .colab-df-container {\n",
              "      display:flex;\n",
              "      flex-wrap:wrap;\n",
              "      gap: 12px;\n",
              "    }\n",
              "\n",
              "    .colab-df-convert {\n",
              "      background-color: #E8F0FE;\n",
              "      border: none;\n",
              "      border-radius: 50%;\n",
              "      cursor: pointer;\n",
              "      display: none;\n",
              "      fill: #1967D2;\n",
              "      height: 32px;\n",
              "      padding: 0 0 0 0;\n",
              "      width: 32px;\n",
              "    }\n",
              "\n",
              "    .colab-df-convert:hover {\n",
              "      background-color: #E2EBFA;\n",
              "      box-shadow: 0px 1px 2px rgba(60, 64, 67, 0.3), 0px 1px 3px 1px rgba(60, 64, 67, 0.15);\n",
              "      fill: #174EA6;\n",
              "    }\n",
              "\n",
              "    [theme=dark] .colab-df-convert {\n",
              "      background-color: #3B4455;\n",
              "      fill: #D2E3FC;\n",
              "    }\n",
              "\n",
              "    [theme=dark] .colab-df-convert:hover {\n",
              "      background-color: #434B5C;\n",
              "      box-shadow: 0px 1px 3px 1px rgba(0, 0, 0, 0.15);\n",
              "      filter: drop-shadow(0px 1px 2px rgba(0, 0, 0, 0.3));\n",
              "      fill: #FFFFFF;\n",
              "    }\n",
              "  </style>\n",
              "\n",
              "      <script>\n",
              "        const buttonEl =\n",
              "          document.querySelector('#df-7c708b9e-f002-4ee6-bb2d-737822c11657 button.colab-df-convert');\n",
              "        buttonEl.style.display =\n",
              "          google.colab.kernel.accessAllowed ? 'block' : 'none';\n",
              "\n",
              "        async function convertToInteractive(key) {\n",
              "          const element = document.querySelector('#df-7c708b9e-f002-4ee6-bb2d-737822c11657');\n",
              "          const dataTable =\n",
              "            await google.colab.kernel.invokeFunction('convertToInteractive',\n",
              "                                                     [key], {});\n",
              "          if (!dataTable) return;\n",
              "\n",
              "          const docLinkHtml = 'Like what you see? Visit the ' +\n",
              "            '<a target=\"_blank\" href=https://colab.research.google.com/notebooks/data_table.ipynb>data table notebook</a>'\n",
              "            + ' to learn more about interactive tables.';\n",
              "          element.innerHTML = '';\n",
              "          dataTable['output_type'] = 'display_data';\n",
              "          await google.colab.output.renderOutput(dataTable, element);\n",
              "          const docLink = document.createElement('div');\n",
              "          docLink.innerHTML = docLinkHtml;\n",
              "          element.appendChild(docLink);\n",
              "        }\n",
              "      </script>\n",
              "    </div>\n",
              "  </div>\n",
              "  "
            ]
          },
          "metadata": {},
          "execution_count": 52
        }
      ],
      "source": [
        "df['scale'] = df['scale'].apply(lambda x: 0 if x==\"OBJ\\n\" or x==\"NEUTRAL\\n\" else 1 if x==\"POS\\n\" else -1)\n",
        "df\n"
      ]
    },
    {
      "cell_type": "code",
      "source": [
        "base_path = \"/content/drive/MyDrive/HLT Project/\"\n",
        "input_file_path = os.path.join(base_path, \"Data/ASTD/astd_train.txt\")\n",
        "train = pd.read_csv(input_file_path, sep=\"\\n\", names=[\"id\"], keep_default_na=False)\n",
        "train = df.loc[train[\"id\"]]\n",
        "train[\"scale\"].value_counts()"
      ],
      "metadata": {
        "colab": {
          "base_uri": "https://localhost:8080/"
        },
        "id": "Gi7pTRWYZNTt",
        "outputId": "1f11c6af-1ba9-4902-894f-8a2837430b54"
      },
      "execution_count": null,
      "outputs": [
        {
          "output_type": "execute_result",
          "data": {
            "text/plain": [
              " 0    962\n",
              " 1    481\n",
              "-1    481\n",
              "Name: scale, dtype: int64"
            ]
          },
          "metadata": {},
          "execution_count": 53
        }
      ]
    },
    {
      "cell_type": "code",
      "source": [
        "base_path = \"/content/drive/MyDrive/HLT Project/\"\n",
        "input_file_path = os.path.join(base_path, \"Data/ASTD/astd_valid.txt\")\n",
        "valid = pd.read_csv(input_file_path, sep=\"\\n\", names=[\"id\"], keep_default_na=False)\n",
        "valid = df.loc[valid[\"id\"]]\n",
        "valid[\"scale\"].value_counts()"
      ],
      "metadata": {
        "colab": {
          "base_uri": "https://localhost:8080/"
        },
        "id": "WxeWBHetZxv-",
        "outputId": "c68f354a-9d5a-4805-ba5d-f5f77619b1be"
      },
      "execution_count": null,
      "outputs": [
        {
          "output_type": "execute_result",
          "data": {
            "text/plain": [
              " 0    318\n",
              " 1    159\n",
              "-1    159\n",
              "Name: scale, dtype: int64"
            ]
          },
          "metadata": {},
          "execution_count": 54
        }
      ]
    },
    {
      "cell_type": "code",
      "source": [
        "base_path = \"/content/drive/MyDrive/HLT Project/\"\n",
        "input_file_path = os.path.join(base_path, \"Data/ASTD/astd_test.txt\")\n",
        "test = pd.read_csv(input_file_path, sep=\"\\n\", names=[\"id\"], keep_default_na=False)\n",
        "test = df.loc[test[\"id\"]]\n",
        "test[\"scale\"].value_counts()"
      ],
      "metadata": {
        "colab": {
          "base_uri": "https://localhost:8080/"
        },
        "id": "1R1Vir53ZyNp",
        "outputId": "8ca46f4a-6510-42d5-eac7-da4594240d21"
      },
      "execution_count": null,
      "outputs": [
        {
          "output_type": "execute_result",
          "data": {
            "text/plain": [
              " 0    318\n",
              " 1    159\n",
              "-1    159\n",
              "Name: scale, dtype: int64"
            ]
          },
          "metadata": {},
          "execution_count": 55
        }
      ]
    },
    {
      "cell_type": "code",
      "source": [
        "dataset = train.append(valid).append(test).reset_index(drop=True)\n",
        "dataset[\"scale\"].value_counts()"
      ],
      "metadata": {
        "colab": {
          "base_uri": "https://localhost:8080/"
        },
        "id": "RgE4GG87aHDV",
        "outputId": "41676b98-781b-4126-9d74-337987577c43"
      },
      "execution_count": null,
      "outputs": [
        {
          "output_type": "execute_result",
          "data": {
            "text/plain": [
              " 0    1598\n",
              " 1     799\n",
              "-1     799\n",
              "Name: scale, dtype: int64"
            ]
          },
          "metadata": {},
          "execution_count": 56
        }
      ]
    },
    {
      "cell_type": "code",
      "source": [
        "df = dataset\n",
        "df"
      ],
      "metadata": {
        "colab": {
          "base_uri": "https://localhost:8080/",
          "height": 424
        },
        "id": "KSR7zKRphRYP",
        "outputId": "b230564e-01aa-42e7-bfb2-6681da68817f"
      },
      "execution_count": null,
      "outputs": [
        {
          "output_type": "execute_result",
          "data": {
            "text/plain": [
              "                                                  tweet  scale\n",
              "0     و لعل أسوء ما في هذا اليوم غيابك يا #باسم :-( = =      1\n",
              "1     ما هى أفضل وظيفة فى الحياة ؟ ( مدير شركة - رئي...      1\n",
              "2     #الحقيقة_مباشر_مصر|#انقلاب_3يوليو السيسى المتخ...      1\n",
              "3                                 #الحمدلله_علي #كل_حال      1\n",
              "4     كانت فين الروح الحلوة دي أيام زمان نص مليون فر...      1\n",
              "...                                                 ...    ...\n",
              "3191  لو لسه مصدق وهم نعم من أجل الإستقرار يعني جرب ...      0\n",
              "3192  تواجدي خارج المملكة منعني مشاركتهم في تجهيز ال...      0\n",
              "3193  1 رئاسة منتخبة لم تعصم دماء المصريات والمصريين...      0\n",
              "3194  آه فهمت بيفكر المشاهد المحروم انه محروم ماشي م...      0\n",
              "3195  #المصيبه اللي تقربك من #ربنا احسن من #النعمه ا...      0\n",
              "\n",
              "[3196 rows x 2 columns]"
            ],
            "text/html": [
              "\n",
              "  <div id=\"df-04fcc6ff-a2eb-47fa-aa45-95675b37ad8b\">\n",
              "    <div class=\"colab-df-container\">\n",
              "      <div>\n",
              "<style scoped>\n",
              "    .dataframe tbody tr th:only-of-type {\n",
              "        vertical-align: middle;\n",
              "    }\n",
              "\n",
              "    .dataframe tbody tr th {\n",
              "        vertical-align: top;\n",
              "    }\n",
              "\n",
              "    .dataframe thead th {\n",
              "        text-align: right;\n",
              "    }\n",
              "</style>\n",
              "<table border=\"1\" class=\"dataframe\">\n",
              "  <thead>\n",
              "    <tr style=\"text-align: right;\">\n",
              "      <th></th>\n",
              "      <th>tweet</th>\n",
              "      <th>scale</th>\n",
              "    </tr>\n",
              "  </thead>\n",
              "  <tbody>\n",
              "    <tr>\n",
              "      <th>0</th>\n",
              "      <td>و لعل أسوء ما في هذا اليوم غيابك يا #باسم :-( = =</td>\n",
              "      <td>1</td>\n",
              "    </tr>\n",
              "    <tr>\n",
              "      <th>1</th>\n",
              "      <td>ما هى أفضل وظيفة فى الحياة ؟ ( مدير شركة - رئي...</td>\n",
              "      <td>1</td>\n",
              "    </tr>\n",
              "    <tr>\n",
              "      <th>2</th>\n",
              "      <td>#الحقيقة_مباشر_مصر|#انقلاب_3يوليو السيسى المتخ...</td>\n",
              "      <td>1</td>\n",
              "    </tr>\n",
              "    <tr>\n",
              "      <th>3</th>\n",
              "      <td>#الحمدلله_علي #كل_حال</td>\n",
              "      <td>1</td>\n",
              "    </tr>\n",
              "    <tr>\n",
              "      <th>4</th>\n",
              "      <td>كانت فين الروح الحلوة دي أيام زمان نص مليون فر...</td>\n",
              "      <td>1</td>\n",
              "    </tr>\n",
              "    <tr>\n",
              "      <th>...</th>\n",
              "      <td>...</td>\n",
              "      <td>...</td>\n",
              "    </tr>\n",
              "    <tr>\n",
              "      <th>3191</th>\n",
              "      <td>لو لسه مصدق وهم نعم من أجل الإستقرار يعني جرب ...</td>\n",
              "      <td>0</td>\n",
              "    </tr>\n",
              "    <tr>\n",
              "      <th>3192</th>\n",
              "      <td>تواجدي خارج المملكة منعني مشاركتهم في تجهيز ال...</td>\n",
              "      <td>0</td>\n",
              "    </tr>\n",
              "    <tr>\n",
              "      <th>3193</th>\n",
              "      <td>1 رئاسة منتخبة لم تعصم دماء المصريات والمصريين...</td>\n",
              "      <td>0</td>\n",
              "    </tr>\n",
              "    <tr>\n",
              "      <th>3194</th>\n",
              "      <td>آه فهمت بيفكر المشاهد المحروم انه محروم ماشي م...</td>\n",
              "      <td>0</td>\n",
              "    </tr>\n",
              "    <tr>\n",
              "      <th>3195</th>\n",
              "      <td>#المصيبه اللي تقربك من #ربنا احسن من #النعمه ا...</td>\n",
              "      <td>0</td>\n",
              "    </tr>\n",
              "  </tbody>\n",
              "</table>\n",
              "<p>3196 rows × 2 columns</p>\n",
              "</div>\n",
              "      <button class=\"colab-df-convert\" onclick=\"convertToInteractive('df-04fcc6ff-a2eb-47fa-aa45-95675b37ad8b')\"\n",
              "              title=\"Convert this dataframe to an interactive table.\"\n",
              "              style=\"display:none;\">\n",
              "        \n",
              "  <svg xmlns=\"http://www.w3.org/2000/svg\" height=\"24px\"viewBox=\"0 0 24 24\"\n",
              "       width=\"24px\">\n",
              "    <path d=\"M0 0h24v24H0V0z\" fill=\"none\"/>\n",
              "    <path d=\"M18.56 5.44l.94 2.06.94-2.06 2.06-.94-2.06-.94-.94-2.06-.94 2.06-2.06.94zm-11 1L8.5 8.5l.94-2.06 2.06-.94-2.06-.94L8.5 2.5l-.94 2.06-2.06.94zm10 10l.94 2.06.94-2.06 2.06-.94-2.06-.94-.94-2.06-.94 2.06-2.06.94z\"/><path d=\"M17.41 7.96l-1.37-1.37c-.4-.4-.92-.59-1.43-.59-.52 0-1.04.2-1.43.59L10.3 9.45l-7.72 7.72c-.78.78-.78 2.05 0 2.83L4 21.41c.39.39.9.59 1.41.59.51 0 1.02-.2 1.41-.59l7.78-7.78 2.81-2.81c.8-.78.8-2.07 0-2.86zM5.41 20L4 18.59l7.72-7.72 1.47 1.35L5.41 20z\"/>\n",
              "  </svg>\n",
              "      </button>\n",
              "      \n",
              "  <style>\n",
              "    .colab-df-container {\n",
              "      display:flex;\n",
              "      flex-wrap:wrap;\n",
              "      gap: 12px;\n",
              "    }\n",
              "\n",
              "    .colab-df-convert {\n",
              "      background-color: #E8F0FE;\n",
              "      border: none;\n",
              "      border-radius: 50%;\n",
              "      cursor: pointer;\n",
              "      display: none;\n",
              "      fill: #1967D2;\n",
              "      height: 32px;\n",
              "      padding: 0 0 0 0;\n",
              "      width: 32px;\n",
              "    }\n",
              "\n",
              "    .colab-df-convert:hover {\n",
              "      background-color: #E2EBFA;\n",
              "      box-shadow: 0px 1px 2px rgba(60, 64, 67, 0.3), 0px 1px 3px 1px rgba(60, 64, 67, 0.15);\n",
              "      fill: #174EA6;\n",
              "    }\n",
              "\n",
              "    [theme=dark] .colab-df-convert {\n",
              "      background-color: #3B4455;\n",
              "      fill: #D2E3FC;\n",
              "    }\n",
              "\n",
              "    [theme=dark] .colab-df-convert:hover {\n",
              "      background-color: #434B5C;\n",
              "      box-shadow: 0px 1px 3px 1px rgba(0, 0, 0, 0.15);\n",
              "      filter: drop-shadow(0px 1px 2px rgba(0, 0, 0, 0.3));\n",
              "      fill: #FFFFFF;\n",
              "    }\n",
              "  </style>\n",
              "\n",
              "      <script>\n",
              "        const buttonEl =\n",
              "          document.querySelector('#df-04fcc6ff-a2eb-47fa-aa45-95675b37ad8b button.colab-df-convert');\n",
              "        buttonEl.style.display =\n",
              "          google.colab.kernel.accessAllowed ? 'block' : 'none';\n",
              "\n",
              "        async function convertToInteractive(key) {\n",
              "          const element = document.querySelector('#df-04fcc6ff-a2eb-47fa-aa45-95675b37ad8b');\n",
              "          const dataTable =\n",
              "            await google.colab.kernel.invokeFunction('convertToInteractive',\n",
              "                                                     [key], {});\n",
              "          if (!dataTable) return;\n",
              "\n",
              "          const docLinkHtml = 'Like what you see? Visit the ' +\n",
              "            '<a target=\"_blank\" href=https://colab.research.google.com/notebooks/data_table.ipynb>data table notebook</a>'\n",
              "            + ' to learn more about interactive tables.';\n",
              "          element.innerHTML = '';\n",
              "          dataTable['output_type'] = 'display_data';\n",
              "          await google.colab.output.renderOutput(dataTable, element);\n",
              "          const docLink = document.createElement('div');\n",
              "          docLink.innerHTML = docLinkHtml;\n",
              "          element.appendChild(docLink);\n",
              "        }\n",
              "      </script>\n",
              "    </div>\n",
              "  </div>\n",
              "  "
            ]
          },
          "metadata": {},
          "execution_count": 57
        }
      ]
    },
    {
      "cell_type": "markdown",
      "metadata": {
        "id": "1WHMGL0R617n"
      },
      "source": [
        "# Removing url links from tweets"
      ]
    },
    {
      "cell_type": "code",
      "execution_count": null,
      "metadata": {
        "colab": {
          "base_uri": "https://localhost:8080/",
          "height": 424
        },
        "id": "FAnT3MhVyH4Q",
        "outputId": "e7823b79-0e02-437d-9797-b06172f2f691"
      },
      "outputs": [
        {
          "output_type": "execute_result",
          "data": {
            "text/plain": [
              "                                                  tweet  scale\n",
              "0     و لعل أسوء ما في هذا اليوم غيابك يا #باسم :-( = =      1\n",
              "1     ما هى أفضل وظيفة فى الحياة ؟ ( مدير شركة - رئي...      1\n",
              "2     #الحقيقة_مباشر_مصر|#انقلاب_3يوليو السيسى المتخ...      1\n",
              "3                                 #الحمدلله_علي #كل_حال      1\n",
              "4     كانت فين الروح الحلوة دي أيام زمان نص مليون فر...      1\n",
              "...                                                 ...    ...\n",
              "3191  لو لسه مصدق وهم نعم من أجل الإستقرار يعني جرب ...      0\n",
              "3192  تواجدي خارج المملكة منعني مشاركتهم في تجهيز ال...      0\n",
              "3193  1 رئاسة منتخبة لم تعصم دماء المصريات والمصريين...      0\n",
              "3194  آه فهمت بيفكر المشاهد المحروم انه محروم ماشي م...      0\n",
              "3195  #المصيبه اللي تقربك من #ربنا احسن من #النعمه ا...      0\n",
              "\n",
              "[3196 rows x 2 columns]"
            ],
            "text/html": [
              "\n",
              "  <div id=\"df-8013d602-5dde-4797-9160-b87e2d698d8a\">\n",
              "    <div class=\"colab-df-container\">\n",
              "      <div>\n",
              "<style scoped>\n",
              "    .dataframe tbody tr th:only-of-type {\n",
              "        vertical-align: middle;\n",
              "    }\n",
              "\n",
              "    .dataframe tbody tr th {\n",
              "        vertical-align: top;\n",
              "    }\n",
              "\n",
              "    .dataframe thead th {\n",
              "        text-align: right;\n",
              "    }\n",
              "</style>\n",
              "<table border=\"1\" class=\"dataframe\">\n",
              "  <thead>\n",
              "    <tr style=\"text-align: right;\">\n",
              "      <th></th>\n",
              "      <th>tweet</th>\n",
              "      <th>scale</th>\n",
              "    </tr>\n",
              "  </thead>\n",
              "  <tbody>\n",
              "    <tr>\n",
              "      <th>0</th>\n",
              "      <td>و لعل أسوء ما في هذا اليوم غيابك يا #باسم :-( = =</td>\n",
              "      <td>1</td>\n",
              "    </tr>\n",
              "    <tr>\n",
              "      <th>1</th>\n",
              "      <td>ما هى أفضل وظيفة فى الحياة ؟ ( مدير شركة - رئي...</td>\n",
              "      <td>1</td>\n",
              "    </tr>\n",
              "    <tr>\n",
              "      <th>2</th>\n",
              "      <td>#الحقيقة_مباشر_مصر|#انقلاب_3يوليو السيسى المتخ...</td>\n",
              "      <td>1</td>\n",
              "    </tr>\n",
              "    <tr>\n",
              "      <th>3</th>\n",
              "      <td>#الحمدلله_علي #كل_حال</td>\n",
              "      <td>1</td>\n",
              "    </tr>\n",
              "    <tr>\n",
              "      <th>4</th>\n",
              "      <td>كانت فين الروح الحلوة دي أيام زمان نص مليون فر...</td>\n",
              "      <td>1</td>\n",
              "    </tr>\n",
              "    <tr>\n",
              "      <th>...</th>\n",
              "      <td>...</td>\n",
              "      <td>...</td>\n",
              "    </tr>\n",
              "    <tr>\n",
              "      <th>3191</th>\n",
              "      <td>لو لسه مصدق وهم نعم من أجل الإستقرار يعني جرب ...</td>\n",
              "      <td>0</td>\n",
              "    </tr>\n",
              "    <tr>\n",
              "      <th>3192</th>\n",
              "      <td>تواجدي خارج المملكة منعني مشاركتهم في تجهيز ال...</td>\n",
              "      <td>0</td>\n",
              "    </tr>\n",
              "    <tr>\n",
              "      <th>3193</th>\n",
              "      <td>1 رئاسة منتخبة لم تعصم دماء المصريات والمصريين...</td>\n",
              "      <td>0</td>\n",
              "    </tr>\n",
              "    <tr>\n",
              "      <th>3194</th>\n",
              "      <td>آه فهمت بيفكر المشاهد المحروم انه محروم ماشي م...</td>\n",
              "      <td>0</td>\n",
              "    </tr>\n",
              "    <tr>\n",
              "      <th>3195</th>\n",
              "      <td>#المصيبه اللي تقربك من #ربنا احسن من #النعمه ا...</td>\n",
              "      <td>0</td>\n",
              "    </tr>\n",
              "  </tbody>\n",
              "</table>\n",
              "<p>3196 rows × 2 columns</p>\n",
              "</div>\n",
              "      <button class=\"colab-df-convert\" onclick=\"convertToInteractive('df-8013d602-5dde-4797-9160-b87e2d698d8a')\"\n",
              "              title=\"Convert this dataframe to an interactive table.\"\n",
              "              style=\"display:none;\">\n",
              "        \n",
              "  <svg xmlns=\"http://www.w3.org/2000/svg\" height=\"24px\"viewBox=\"0 0 24 24\"\n",
              "       width=\"24px\">\n",
              "    <path d=\"M0 0h24v24H0V0z\" fill=\"none\"/>\n",
              "    <path d=\"M18.56 5.44l.94 2.06.94-2.06 2.06-.94-2.06-.94-.94-2.06-.94 2.06-2.06.94zm-11 1L8.5 8.5l.94-2.06 2.06-.94-2.06-.94L8.5 2.5l-.94 2.06-2.06.94zm10 10l.94 2.06.94-2.06 2.06-.94-2.06-.94-.94-2.06-.94 2.06-2.06.94z\"/><path d=\"M17.41 7.96l-1.37-1.37c-.4-.4-.92-.59-1.43-.59-.52 0-1.04.2-1.43.59L10.3 9.45l-7.72 7.72c-.78.78-.78 2.05 0 2.83L4 21.41c.39.39.9.59 1.41.59.51 0 1.02-.2 1.41-.59l7.78-7.78 2.81-2.81c.8-.78.8-2.07 0-2.86zM5.41 20L4 18.59l7.72-7.72 1.47 1.35L5.41 20z\"/>\n",
              "  </svg>\n",
              "      </button>\n",
              "      \n",
              "  <style>\n",
              "    .colab-df-container {\n",
              "      display:flex;\n",
              "      flex-wrap:wrap;\n",
              "      gap: 12px;\n",
              "    }\n",
              "\n",
              "    .colab-df-convert {\n",
              "      background-color: #E8F0FE;\n",
              "      border: none;\n",
              "      border-radius: 50%;\n",
              "      cursor: pointer;\n",
              "      display: none;\n",
              "      fill: #1967D2;\n",
              "      height: 32px;\n",
              "      padding: 0 0 0 0;\n",
              "      width: 32px;\n",
              "    }\n",
              "\n",
              "    .colab-df-convert:hover {\n",
              "      background-color: #E2EBFA;\n",
              "      box-shadow: 0px 1px 2px rgba(60, 64, 67, 0.3), 0px 1px 3px 1px rgba(60, 64, 67, 0.15);\n",
              "      fill: #174EA6;\n",
              "    }\n",
              "\n",
              "    [theme=dark] .colab-df-convert {\n",
              "      background-color: #3B4455;\n",
              "      fill: #D2E3FC;\n",
              "    }\n",
              "\n",
              "    [theme=dark] .colab-df-convert:hover {\n",
              "      background-color: #434B5C;\n",
              "      box-shadow: 0px 1px 3px 1px rgba(0, 0, 0, 0.15);\n",
              "      filter: drop-shadow(0px 1px 2px rgba(0, 0, 0, 0.3));\n",
              "      fill: #FFFFFF;\n",
              "    }\n",
              "  </style>\n",
              "\n",
              "      <script>\n",
              "        const buttonEl =\n",
              "          document.querySelector('#df-8013d602-5dde-4797-9160-b87e2d698d8a button.colab-df-convert');\n",
              "        buttonEl.style.display =\n",
              "          google.colab.kernel.accessAllowed ? 'block' : 'none';\n",
              "\n",
              "        async function convertToInteractive(key) {\n",
              "          const element = document.querySelector('#df-8013d602-5dde-4797-9160-b87e2d698d8a');\n",
              "          const dataTable =\n",
              "            await google.colab.kernel.invokeFunction('convertToInteractive',\n",
              "                                                     [key], {});\n",
              "          if (!dataTable) return;\n",
              "\n",
              "          const docLinkHtml = 'Like what you see? Visit the ' +\n",
              "            '<a target=\"_blank\" href=https://colab.research.google.com/notebooks/data_table.ipynb>data table notebook</a>'\n",
              "            + ' to learn more about interactive tables.';\n",
              "          element.innerHTML = '';\n",
              "          dataTable['output_type'] = 'display_data';\n",
              "          await google.colab.output.renderOutput(dataTable, element);\n",
              "          const docLink = document.createElement('div');\n",
              "          docLink.innerHTML = docLinkHtml;\n",
              "          element.appendChild(docLink);\n",
              "        }\n",
              "      </script>\n",
              "    </div>\n",
              "  </div>\n",
              "  "
            ]
          },
          "metadata": {},
          "execution_count": 58
        }
      ],
      "source": [
        "df['tweet'] = df['tweet'].apply(lambda x: re.sub(r'\\w+:\\/{2}[\\d\\w-]+(\\.[\\d\\w-]+)*(?:(?:\\/[^\\s/]*))*', '', x))\n",
        "df"
      ]
    },
    {
      "cell_type": "markdown",
      "metadata": {
        "id": "UoEHa2sR-XHF"
      },
      "source": [
        "# Removing mentions and links"
      ]
    },
    {
      "cell_type": "code",
      "execution_count": null,
      "metadata": {
        "colab": {
          "base_uri": "https://localhost:8080/",
          "height": 424
        },
        "id": "Yq_XGdI_8cRE",
        "outputId": "2ba82d5a-f0b5-46f1-d83a-5e9d619d92fd"
      },
      "outputs": [
        {
          "output_type": "execute_result",
          "data": {
            "text/plain": [
              "                                                  tweet  scale\n",
              "0     و لعل أسوء ما في هذا اليوم غيابك يا #باسم :-( = =      1\n",
              "1     ما هى أفضل وظيفة فى الحياة ؟ ( مدير شركة - رئي...      1\n",
              "2     #الحقيقة_مباشر_مصر|#انقلاب_3يوليو السيسى المتخ...      1\n",
              "3                                 #الحمدلله_علي #كل_حال      1\n",
              "4     كانت فين الروح الحلوة دي أيام زمان نص مليون فر...      1\n",
              "...                                                 ...    ...\n",
              "3191  لو لسه مصدق وهم نعم من أجل الإستقرار يعني جرب ...      0\n",
              "3192  تواجدي خارج المملكة منعني مشاركتهم في تجهيز ال...      0\n",
              "3193  1 رئاسة منتخبة لم تعصم دماء المصريات والمصريين...      0\n",
              "3194  آه فهمت بيفكر المشاهد المحروم انه محروم ماشي م...      0\n",
              "3195  #المصيبه اللي تقربك من #ربنا احسن من #النعمه ا...      0\n",
              "\n",
              "[3196 rows x 2 columns]"
            ],
            "text/html": [
              "\n",
              "  <div id=\"df-d23e84b0-55c0-4ad4-b270-02cd18a78adf\">\n",
              "    <div class=\"colab-df-container\">\n",
              "      <div>\n",
              "<style scoped>\n",
              "    .dataframe tbody tr th:only-of-type {\n",
              "        vertical-align: middle;\n",
              "    }\n",
              "\n",
              "    .dataframe tbody tr th {\n",
              "        vertical-align: top;\n",
              "    }\n",
              "\n",
              "    .dataframe thead th {\n",
              "        text-align: right;\n",
              "    }\n",
              "</style>\n",
              "<table border=\"1\" class=\"dataframe\">\n",
              "  <thead>\n",
              "    <tr style=\"text-align: right;\">\n",
              "      <th></th>\n",
              "      <th>tweet</th>\n",
              "      <th>scale</th>\n",
              "    </tr>\n",
              "  </thead>\n",
              "  <tbody>\n",
              "    <tr>\n",
              "      <th>0</th>\n",
              "      <td>و لعل أسوء ما في هذا اليوم غيابك يا #باسم :-( = =</td>\n",
              "      <td>1</td>\n",
              "    </tr>\n",
              "    <tr>\n",
              "      <th>1</th>\n",
              "      <td>ما هى أفضل وظيفة فى الحياة ؟ ( مدير شركة - رئي...</td>\n",
              "      <td>1</td>\n",
              "    </tr>\n",
              "    <tr>\n",
              "      <th>2</th>\n",
              "      <td>#الحقيقة_مباشر_مصر|#انقلاب_3يوليو السيسى المتخ...</td>\n",
              "      <td>1</td>\n",
              "    </tr>\n",
              "    <tr>\n",
              "      <th>3</th>\n",
              "      <td>#الحمدلله_علي #كل_حال</td>\n",
              "      <td>1</td>\n",
              "    </tr>\n",
              "    <tr>\n",
              "      <th>4</th>\n",
              "      <td>كانت فين الروح الحلوة دي أيام زمان نص مليون فر...</td>\n",
              "      <td>1</td>\n",
              "    </tr>\n",
              "    <tr>\n",
              "      <th>...</th>\n",
              "      <td>...</td>\n",
              "      <td>...</td>\n",
              "    </tr>\n",
              "    <tr>\n",
              "      <th>3191</th>\n",
              "      <td>لو لسه مصدق وهم نعم من أجل الإستقرار يعني جرب ...</td>\n",
              "      <td>0</td>\n",
              "    </tr>\n",
              "    <tr>\n",
              "      <th>3192</th>\n",
              "      <td>تواجدي خارج المملكة منعني مشاركتهم في تجهيز ال...</td>\n",
              "      <td>0</td>\n",
              "    </tr>\n",
              "    <tr>\n",
              "      <th>3193</th>\n",
              "      <td>1 رئاسة منتخبة لم تعصم دماء المصريات والمصريين...</td>\n",
              "      <td>0</td>\n",
              "    </tr>\n",
              "    <tr>\n",
              "      <th>3194</th>\n",
              "      <td>آه فهمت بيفكر المشاهد المحروم انه محروم ماشي م...</td>\n",
              "      <td>0</td>\n",
              "    </tr>\n",
              "    <tr>\n",
              "      <th>3195</th>\n",
              "      <td>#المصيبه اللي تقربك من #ربنا احسن من #النعمه ا...</td>\n",
              "      <td>0</td>\n",
              "    </tr>\n",
              "  </tbody>\n",
              "</table>\n",
              "<p>3196 rows × 2 columns</p>\n",
              "</div>\n",
              "      <button class=\"colab-df-convert\" onclick=\"convertToInteractive('df-d23e84b0-55c0-4ad4-b270-02cd18a78adf')\"\n",
              "              title=\"Convert this dataframe to an interactive table.\"\n",
              "              style=\"display:none;\">\n",
              "        \n",
              "  <svg xmlns=\"http://www.w3.org/2000/svg\" height=\"24px\"viewBox=\"0 0 24 24\"\n",
              "       width=\"24px\">\n",
              "    <path d=\"M0 0h24v24H0V0z\" fill=\"none\"/>\n",
              "    <path d=\"M18.56 5.44l.94 2.06.94-2.06 2.06-.94-2.06-.94-.94-2.06-.94 2.06-2.06.94zm-11 1L8.5 8.5l.94-2.06 2.06-.94-2.06-.94L8.5 2.5l-.94 2.06-2.06.94zm10 10l.94 2.06.94-2.06 2.06-.94-2.06-.94-.94-2.06-.94 2.06-2.06.94z\"/><path d=\"M17.41 7.96l-1.37-1.37c-.4-.4-.92-.59-1.43-.59-.52 0-1.04.2-1.43.59L10.3 9.45l-7.72 7.72c-.78.78-.78 2.05 0 2.83L4 21.41c.39.39.9.59 1.41.59.51 0 1.02-.2 1.41-.59l7.78-7.78 2.81-2.81c.8-.78.8-2.07 0-2.86zM5.41 20L4 18.59l7.72-7.72 1.47 1.35L5.41 20z\"/>\n",
              "  </svg>\n",
              "      </button>\n",
              "      \n",
              "  <style>\n",
              "    .colab-df-container {\n",
              "      display:flex;\n",
              "      flex-wrap:wrap;\n",
              "      gap: 12px;\n",
              "    }\n",
              "\n",
              "    .colab-df-convert {\n",
              "      background-color: #E8F0FE;\n",
              "      border: none;\n",
              "      border-radius: 50%;\n",
              "      cursor: pointer;\n",
              "      display: none;\n",
              "      fill: #1967D2;\n",
              "      height: 32px;\n",
              "      padding: 0 0 0 0;\n",
              "      width: 32px;\n",
              "    }\n",
              "\n",
              "    .colab-df-convert:hover {\n",
              "      background-color: #E2EBFA;\n",
              "      box-shadow: 0px 1px 2px rgba(60, 64, 67, 0.3), 0px 1px 3px 1px rgba(60, 64, 67, 0.15);\n",
              "      fill: #174EA6;\n",
              "    }\n",
              "\n",
              "    [theme=dark] .colab-df-convert {\n",
              "      background-color: #3B4455;\n",
              "      fill: #D2E3FC;\n",
              "    }\n",
              "\n",
              "    [theme=dark] .colab-df-convert:hover {\n",
              "      background-color: #434B5C;\n",
              "      box-shadow: 0px 1px 3px 1px rgba(0, 0, 0, 0.15);\n",
              "      filter: drop-shadow(0px 1px 2px rgba(0, 0, 0, 0.3));\n",
              "      fill: #FFFFFF;\n",
              "    }\n",
              "  </style>\n",
              "\n",
              "      <script>\n",
              "        const buttonEl =\n",
              "          document.querySelector('#df-d23e84b0-55c0-4ad4-b270-02cd18a78adf button.colab-df-convert');\n",
              "        buttonEl.style.display =\n",
              "          google.colab.kernel.accessAllowed ? 'block' : 'none';\n",
              "\n",
              "        async function convertToInteractive(key) {\n",
              "          const element = document.querySelector('#df-d23e84b0-55c0-4ad4-b270-02cd18a78adf');\n",
              "          const dataTable =\n",
              "            await google.colab.kernel.invokeFunction('convertToInteractive',\n",
              "                                                     [key], {});\n",
              "          if (!dataTable) return;\n",
              "\n",
              "          const docLinkHtml = 'Like what you see? Visit the ' +\n",
              "            '<a target=\"_blank\" href=https://colab.research.google.com/notebooks/data_table.ipynb>data table notebook</a>'\n",
              "            + ' to learn more about interactive tables.';\n",
              "          element.innerHTML = '';\n",
              "          dataTable['output_type'] = 'display_data';\n",
              "          await google.colab.output.renderOutput(dataTable, element);\n",
              "          const docLink = document.createElement('div');\n",
              "          docLink.innerHTML = docLinkHtml;\n",
              "          element.appendChild(docLink);\n",
              "        }\n",
              "      </script>\n",
              "    </div>\n",
              "  </div>\n",
              "  "
            ]
          },
          "metadata": {},
          "execution_count": 59
        }
      ],
      "source": [
        "df['tweet'] = df['tweet'].apply(lambda x: re.sub(r'(?:\\@|https?\\://)\\S+', '', x))\n",
        "df"
      ]
    },
    {
      "cell_type": "markdown",
      "metadata": {
        "id": "KtZRi7-F7oV7"
      },
      "source": [
        "# Removing English Characters"
      ]
    },
    {
      "cell_type": "code",
      "execution_count": null,
      "metadata": {
        "colab": {
          "base_uri": "https://localhost:8080/",
          "height": 424
        },
        "id": "TZwRNx0N7ASJ",
        "outputId": "d0e5e16f-b04a-40f2-9489-83d139e7d473"
      },
      "outputs": [
        {
          "output_type": "execute_result",
          "data": {
            "text/plain": [
              "                                                  tweet  scale\n",
              "0     و لعل أسوء ما في هذا اليوم غيابك يا #باسم :-( = =      1\n",
              "1     ما هى أفضل وظيفة فى الحياة ؟ ( مدير شركة - رئي...      1\n",
              "2     #الحقيقة_مباشر_مصر|#انقلاب_3يوليو السيسى المتخ...      1\n",
              "3                                 #الحمدلله_علي #كل_حال      1\n",
              "4     كانت فين الروح الحلوة دي أيام زمان نص مليون فر...      1\n",
              "...                                                 ...    ...\n",
              "3191  لو لسه مصدق وهم نعم من أجل الإستقرار يعني جرب ...      0\n",
              "3192  تواجدي خارج المملكة منعني مشاركتهم في تجهيز ال...      0\n",
              "3193  1 رئاسة منتخبة لم تعصم دماء المصريات والمصريين...      0\n",
              "3194  آه فهمت بيفكر المشاهد المحروم انه محروم ماشي م...      0\n",
              "3195  #المصيبه اللي تقربك من #ربنا احسن من #النعمه ا...      0\n",
              "\n",
              "[3196 rows x 2 columns]"
            ],
            "text/html": [
              "\n",
              "  <div id=\"df-bfb4919e-b083-4bed-850f-0600192cad79\">\n",
              "    <div class=\"colab-df-container\">\n",
              "      <div>\n",
              "<style scoped>\n",
              "    .dataframe tbody tr th:only-of-type {\n",
              "        vertical-align: middle;\n",
              "    }\n",
              "\n",
              "    .dataframe tbody tr th {\n",
              "        vertical-align: top;\n",
              "    }\n",
              "\n",
              "    .dataframe thead th {\n",
              "        text-align: right;\n",
              "    }\n",
              "</style>\n",
              "<table border=\"1\" class=\"dataframe\">\n",
              "  <thead>\n",
              "    <tr style=\"text-align: right;\">\n",
              "      <th></th>\n",
              "      <th>tweet</th>\n",
              "      <th>scale</th>\n",
              "    </tr>\n",
              "  </thead>\n",
              "  <tbody>\n",
              "    <tr>\n",
              "      <th>0</th>\n",
              "      <td>و لعل أسوء ما في هذا اليوم غيابك يا #باسم :-( = =</td>\n",
              "      <td>1</td>\n",
              "    </tr>\n",
              "    <tr>\n",
              "      <th>1</th>\n",
              "      <td>ما هى أفضل وظيفة فى الحياة ؟ ( مدير شركة - رئي...</td>\n",
              "      <td>1</td>\n",
              "    </tr>\n",
              "    <tr>\n",
              "      <th>2</th>\n",
              "      <td>#الحقيقة_مباشر_مصر|#انقلاب_3يوليو السيسى المتخ...</td>\n",
              "      <td>1</td>\n",
              "    </tr>\n",
              "    <tr>\n",
              "      <th>3</th>\n",
              "      <td>#الحمدلله_علي #كل_حال</td>\n",
              "      <td>1</td>\n",
              "    </tr>\n",
              "    <tr>\n",
              "      <th>4</th>\n",
              "      <td>كانت فين الروح الحلوة دي أيام زمان نص مليون فر...</td>\n",
              "      <td>1</td>\n",
              "    </tr>\n",
              "    <tr>\n",
              "      <th>...</th>\n",
              "      <td>...</td>\n",
              "      <td>...</td>\n",
              "    </tr>\n",
              "    <tr>\n",
              "      <th>3191</th>\n",
              "      <td>لو لسه مصدق وهم نعم من أجل الإستقرار يعني جرب ...</td>\n",
              "      <td>0</td>\n",
              "    </tr>\n",
              "    <tr>\n",
              "      <th>3192</th>\n",
              "      <td>تواجدي خارج المملكة منعني مشاركتهم في تجهيز ال...</td>\n",
              "      <td>0</td>\n",
              "    </tr>\n",
              "    <tr>\n",
              "      <th>3193</th>\n",
              "      <td>1 رئاسة منتخبة لم تعصم دماء المصريات والمصريين...</td>\n",
              "      <td>0</td>\n",
              "    </tr>\n",
              "    <tr>\n",
              "      <th>3194</th>\n",
              "      <td>آه فهمت بيفكر المشاهد المحروم انه محروم ماشي م...</td>\n",
              "      <td>0</td>\n",
              "    </tr>\n",
              "    <tr>\n",
              "      <th>3195</th>\n",
              "      <td>#المصيبه اللي تقربك من #ربنا احسن من #النعمه ا...</td>\n",
              "      <td>0</td>\n",
              "    </tr>\n",
              "  </tbody>\n",
              "</table>\n",
              "<p>3196 rows × 2 columns</p>\n",
              "</div>\n",
              "      <button class=\"colab-df-convert\" onclick=\"convertToInteractive('df-bfb4919e-b083-4bed-850f-0600192cad79')\"\n",
              "              title=\"Convert this dataframe to an interactive table.\"\n",
              "              style=\"display:none;\">\n",
              "        \n",
              "  <svg xmlns=\"http://www.w3.org/2000/svg\" height=\"24px\"viewBox=\"0 0 24 24\"\n",
              "       width=\"24px\">\n",
              "    <path d=\"M0 0h24v24H0V0z\" fill=\"none\"/>\n",
              "    <path d=\"M18.56 5.44l.94 2.06.94-2.06 2.06-.94-2.06-.94-.94-2.06-.94 2.06-2.06.94zm-11 1L8.5 8.5l.94-2.06 2.06-.94-2.06-.94L8.5 2.5l-.94 2.06-2.06.94zm10 10l.94 2.06.94-2.06 2.06-.94-2.06-.94-.94-2.06-.94 2.06-2.06.94z\"/><path d=\"M17.41 7.96l-1.37-1.37c-.4-.4-.92-.59-1.43-.59-.52 0-1.04.2-1.43.59L10.3 9.45l-7.72 7.72c-.78.78-.78 2.05 0 2.83L4 21.41c.39.39.9.59 1.41.59.51 0 1.02-.2 1.41-.59l7.78-7.78 2.81-2.81c.8-.78.8-2.07 0-2.86zM5.41 20L4 18.59l7.72-7.72 1.47 1.35L5.41 20z\"/>\n",
              "  </svg>\n",
              "      </button>\n",
              "      \n",
              "  <style>\n",
              "    .colab-df-container {\n",
              "      display:flex;\n",
              "      flex-wrap:wrap;\n",
              "      gap: 12px;\n",
              "    }\n",
              "\n",
              "    .colab-df-convert {\n",
              "      background-color: #E8F0FE;\n",
              "      border: none;\n",
              "      border-radius: 50%;\n",
              "      cursor: pointer;\n",
              "      display: none;\n",
              "      fill: #1967D2;\n",
              "      height: 32px;\n",
              "      padding: 0 0 0 0;\n",
              "      width: 32px;\n",
              "    }\n",
              "\n",
              "    .colab-df-convert:hover {\n",
              "      background-color: #E2EBFA;\n",
              "      box-shadow: 0px 1px 2px rgba(60, 64, 67, 0.3), 0px 1px 3px 1px rgba(60, 64, 67, 0.15);\n",
              "      fill: #174EA6;\n",
              "    }\n",
              "\n",
              "    [theme=dark] .colab-df-convert {\n",
              "      background-color: #3B4455;\n",
              "      fill: #D2E3FC;\n",
              "    }\n",
              "\n",
              "    [theme=dark] .colab-df-convert:hover {\n",
              "      background-color: #434B5C;\n",
              "      box-shadow: 0px 1px 3px 1px rgba(0, 0, 0, 0.15);\n",
              "      filter: drop-shadow(0px 1px 2px rgba(0, 0, 0, 0.3));\n",
              "      fill: #FFFFFF;\n",
              "    }\n",
              "  </style>\n",
              "\n",
              "      <script>\n",
              "        const buttonEl =\n",
              "          document.querySelector('#df-bfb4919e-b083-4bed-850f-0600192cad79 button.colab-df-convert');\n",
              "        buttonEl.style.display =\n",
              "          google.colab.kernel.accessAllowed ? 'block' : 'none';\n",
              "\n",
              "        async function convertToInteractive(key) {\n",
              "          const element = document.querySelector('#df-bfb4919e-b083-4bed-850f-0600192cad79');\n",
              "          const dataTable =\n",
              "            await google.colab.kernel.invokeFunction('convertToInteractive',\n",
              "                                                     [key], {});\n",
              "          if (!dataTable) return;\n",
              "\n",
              "          const docLinkHtml = 'Like what you see? Visit the ' +\n",
              "            '<a target=\"_blank\" href=https://colab.research.google.com/notebooks/data_table.ipynb>data table notebook</a>'\n",
              "            + ' to learn more about interactive tables.';\n",
              "          element.innerHTML = '';\n",
              "          dataTable['output_type'] = 'display_data';\n",
              "          await google.colab.output.renderOutput(dataTable, element);\n",
              "          const docLink = document.createElement('div');\n",
              "          docLink.innerHTML = docLinkHtml;\n",
              "          element.appendChild(docLink);\n",
              "        }\n",
              "      </script>\n",
              "    </div>\n",
              "  </div>\n",
              "  "
            ]
          },
          "metadata": {},
          "execution_count": 60
        }
      ],
      "source": [
        "df['tweet'] = df['tweet'].apply(lambda x: re.sub(r'[a-zA-Z]', '', x))\n",
        "df"
      ]
    },
    {
      "cell_type": "markdown",
      "metadata": {
        "id": "rnxXPu9k-t5A"
      },
      "source": [
        "# Removing special character (#,@,&)"
      ]
    },
    {
      "cell_type": "code",
      "execution_count": null,
      "metadata": {
        "colab": {
          "base_uri": "https://localhost:8080/",
          "height": 478
        },
        "id": "EYArZ9B19-ne",
        "outputId": "b9b0e80b-b208-42e3-b6f2-a259e75bd11f"
      },
      "outputs": [
        {
          "output_type": "stream",
          "name": "stderr",
          "text": [
            "/usr/local/lib/python3.7/dist-packages/ipykernel_launcher.py:1: FutureWarning: The default value of regex will change from True to False in a future version.\n",
            "  \"\"\"Entry point for launching an IPython kernel.\n"
          ]
        },
        {
          "output_type": "execute_result",
          "data": {
            "text/plain": [
              "                                                  tweet  scale\n",
              "0     و لعل أسوء ما في هذا اليوم غيابك يا  باسم :-( = =      1\n",
              "1     ما هى أفضل وظيفة فى الحياة ؟ ( مدير شركة - رئي...      1\n",
              "2      الحقيقة_مباشر_مصر| انقلاب_3يوليو السيسى المتخ...      1\n",
              "3                                  الحمدلله_علي  كل_حال      1\n",
              "4     كانت فين الروح الحلوة دي أيام زمان نص مليون فر...      1\n",
              "...                                                 ...    ...\n",
              "3191  لو لسه مصدق وهم نعم من أجل الإستقرار يعني جرب ...      0\n",
              "3192  تواجدي خارج المملكة منعني مشاركتهم في تجهيز ال...      0\n",
              "3193  1 رئاسة منتخبة لم تعصم دماء المصريات والمصريين...      0\n",
              "3194  آه فهمت بيفكر المشاهد المحروم انه محروم ماشي م...      0\n",
              "3195   المصيبه اللي تقربك من  ربنا احسن من  النعمه ا...      0\n",
              "\n",
              "[3196 rows x 2 columns]"
            ],
            "text/html": [
              "\n",
              "  <div id=\"df-dc315249-6b2a-49e1-b2e2-696e90c41238\">\n",
              "    <div class=\"colab-df-container\">\n",
              "      <div>\n",
              "<style scoped>\n",
              "    .dataframe tbody tr th:only-of-type {\n",
              "        vertical-align: middle;\n",
              "    }\n",
              "\n",
              "    .dataframe tbody tr th {\n",
              "        vertical-align: top;\n",
              "    }\n",
              "\n",
              "    .dataframe thead th {\n",
              "        text-align: right;\n",
              "    }\n",
              "</style>\n",
              "<table border=\"1\" class=\"dataframe\">\n",
              "  <thead>\n",
              "    <tr style=\"text-align: right;\">\n",
              "      <th></th>\n",
              "      <th>tweet</th>\n",
              "      <th>scale</th>\n",
              "    </tr>\n",
              "  </thead>\n",
              "  <tbody>\n",
              "    <tr>\n",
              "      <th>0</th>\n",
              "      <td>و لعل أسوء ما في هذا اليوم غيابك يا  باسم :-( = =</td>\n",
              "      <td>1</td>\n",
              "    </tr>\n",
              "    <tr>\n",
              "      <th>1</th>\n",
              "      <td>ما هى أفضل وظيفة فى الحياة ؟ ( مدير شركة - رئي...</td>\n",
              "      <td>1</td>\n",
              "    </tr>\n",
              "    <tr>\n",
              "      <th>2</th>\n",
              "      <td>الحقيقة_مباشر_مصر| انقلاب_3يوليو السيسى المتخ...</td>\n",
              "      <td>1</td>\n",
              "    </tr>\n",
              "    <tr>\n",
              "      <th>3</th>\n",
              "      <td>الحمدلله_علي  كل_حال</td>\n",
              "      <td>1</td>\n",
              "    </tr>\n",
              "    <tr>\n",
              "      <th>4</th>\n",
              "      <td>كانت فين الروح الحلوة دي أيام زمان نص مليون فر...</td>\n",
              "      <td>1</td>\n",
              "    </tr>\n",
              "    <tr>\n",
              "      <th>...</th>\n",
              "      <td>...</td>\n",
              "      <td>...</td>\n",
              "    </tr>\n",
              "    <tr>\n",
              "      <th>3191</th>\n",
              "      <td>لو لسه مصدق وهم نعم من أجل الإستقرار يعني جرب ...</td>\n",
              "      <td>0</td>\n",
              "    </tr>\n",
              "    <tr>\n",
              "      <th>3192</th>\n",
              "      <td>تواجدي خارج المملكة منعني مشاركتهم في تجهيز ال...</td>\n",
              "      <td>0</td>\n",
              "    </tr>\n",
              "    <tr>\n",
              "      <th>3193</th>\n",
              "      <td>1 رئاسة منتخبة لم تعصم دماء المصريات والمصريين...</td>\n",
              "      <td>0</td>\n",
              "    </tr>\n",
              "    <tr>\n",
              "      <th>3194</th>\n",
              "      <td>آه فهمت بيفكر المشاهد المحروم انه محروم ماشي م...</td>\n",
              "      <td>0</td>\n",
              "    </tr>\n",
              "    <tr>\n",
              "      <th>3195</th>\n",
              "      <td>المصيبه اللي تقربك من  ربنا احسن من  النعمه ا...</td>\n",
              "      <td>0</td>\n",
              "    </tr>\n",
              "  </tbody>\n",
              "</table>\n",
              "<p>3196 rows × 2 columns</p>\n",
              "</div>\n",
              "      <button class=\"colab-df-convert\" onclick=\"convertToInteractive('df-dc315249-6b2a-49e1-b2e2-696e90c41238')\"\n",
              "              title=\"Convert this dataframe to an interactive table.\"\n",
              "              style=\"display:none;\">\n",
              "        \n",
              "  <svg xmlns=\"http://www.w3.org/2000/svg\" height=\"24px\"viewBox=\"0 0 24 24\"\n",
              "       width=\"24px\">\n",
              "    <path d=\"M0 0h24v24H0V0z\" fill=\"none\"/>\n",
              "    <path d=\"M18.56 5.44l.94 2.06.94-2.06 2.06-.94-2.06-.94-.94-2.06-.94 2.06-2.06.94zm-11 1L8.5 8.5l.94-2.06 2.06-.94-2.06-.94L8.5 2.5l-.94 2.06-2.06.94zm10 10l.94 2.06.94-2.06 2.06-.94-2.06-.94-.94-2.06-.94 2.06-2.06.94z\"/><path d=\"M17.41 7.96l-1.37-1.37c-.4-.4-.92-.59-1.43-.59-.52 0-1.04.2-1.43.59L10.3 9.45l-7.72 7.72c-.78.78-.78 2.05 0 2.83L4 21.41c.39.39.9.59 1.41.59.51 0 1.02-.2 1.41-.59l7.78-7.78 2.81-2.81c.8-.78.8-2.07 0-2.86zM5.41 20L4 18.59l7.72-7.72 1.47 1.35L5.41 20z\"/>\n",
              "  </svg>\n",
              "      </button>\n",
              "      \n",
              "  <style>\n",
              "    .colab-df-container {\n",
              "      display:flex;\n",
              "      flex-wrap:wrap;\n",
              "      gap: 12px;\n",
              "    }\n",
              "\n",
              "    .colab-df-convert {\n",
              "      background-color: #E8F0FE;\n",
              "      border: none;\n",
              "      border-radius: 50%;\n",
              "      cursor: pointer;\n",
              "      display: none;\n",
              "      fill: #1967D2;\n",
              "      height: 32px;\n",
              "      padding: 0 0 0 0;\n",
              "      width: 32px;\n",
              "    }\n",
              "\n",
              "    .colab-df-convert:hover {\n",
              "      background-color: #E2EBFA;\n",
              "      box-shadow: 0px 1px 2px rgba(60, 64, 67, 0.3), 0px 1px 3px 1px rgba(60, 64, 67, 0.15);\n",
              "      fill: #174EA6;\n",
              "    }\n",
              "\n",
              "    [theme=dark] .colab-df-convert {\n",
              "      background-color: #3B4455;\n",
              "      fill: #D2E3FC;\n",
              "    }\n",
              "\n",
              "    [theme=dark] .colab-df-convert:hover {\n",
              "      background-color: #434B5C;\n",
              "      box-shadow: 0px 1px 3px 1px rgba(0, 0, 0, 0.15);\n",
              "      filter: drop-shadow(0px 1px 2px rgba(0, 0, 0, 0.3));\n",
              "      fill: #FFFFFF;\n",
              "    }\n",
              "  </style>\n",
              "\n",
              "      <script>\n",
              "        const buttonEl =\n",
              "          document.querySelector('#df-dc315249-6b2a-49e1-b2e2-696e90c41238 button.colab-df-convert');\n",
              "        buttonEl.style.display =\n",
              "          google.colab.kernel.accessAllowed ? 'block' : 'none';\n",
              "\n",
              "        async function convertToInteractive(key) {\n",
              "          const element = document.querySelector('#df-dc315249-6b2a-49e1-b2e2-696e90c41238');\n",
              "          const dataTable =\n",
              "            await google.colab.kernel.invokeFunction('convertToInteractive',\n",
              "                                                     [key], {});\n",
              "          if (!dataTable) return;\n",
              "\n",
              "          const docLinkHtml = 'Like what you see? Visit the ' +\n",
              "            '<a target=\"_blank\" href=https://colab.research.google.com/notebooks/data_table.ipynb>data table notebook</a>'\n",
              "            + ' to learn more about interactive tables.';\n",
              "          element.innerHTML = '';\n",
              "          dataTable['output_type'] = 'display_data';\n",
              "          await google.colab.output.renderOutput(dataTable, element);\n",
              "          const docLink = document.createElement('div');\n",
              "          docLink.innerHTML = docLinkHtml;\n",
              "          element.appendChild(docLink);\n",
              "        }\n",
              "      </script>\n",
              "    </div>\n",
              "  </div>\n",
              "  "
            ]
          },
          "metadata": {},
          "execution_count": 61
        }
      ],
      "source": [
        "df[\"tweet\"] = df[\"tweet\"].str.replace('[#,@,&,>,<]', ' ')\n",
        "df"
      ]
    },
    {
      "cell_type": "markdown",
      "metadata": {
        "id": "ov6BwRqJGAVs"
      },
      "source": [
        "#Unifying the Numbering System"
      ]
    },
    {
      "cell_type": "code",
      "execution_count": null,
      "metadata": {
        "colab": {
          "base_uri": "https://localhost:8080/"
        },
        "id": "_t2hepFnF_Am",
        "outputId": "f3a76e4c-4374-47a4-9476-e44dca4c6f3c"
      },
      "outputs": [
        {
          "output_type": "stream",
          "name": "stderr",
          "text": [
            "/usr/local/lib/python3.7/dist-packages/ipykernel_launcher.py:2: FutureWarning: The default value of regex will change from True to False in a future version.\n",
            "  \n",
            "/usr/local/lib/python3.7/dist-packages/ipykernel_launcher.py:3: FutureWarning: The default value of regex will change from True to False in a future version.\n",
            "  This is separate from the ipykernel package so we can avoid doing imports until\n",
            "/usr/local/lib/python3.7/dist-packages/ipykernel_launcher.py:4: FutureWarning: The default value of regex will change from True to False in a future version.\n",
            "  after removing the cwd from sys.path.\n",
            "/usr/local/lib/python3.7/dist-packages/ipykernel_launcher.py:5: FutureWarning: The default value of regex will change from True to False in a future version.\n",
            "  \"\"\"\n",
            "/usr/local/lib/python3.7/dist-packages/ipykernel_launcher.py:6: FutureWarning: The default value of regex will change from True to False in a future version.\n",
            "  \n",
            "/usr/local/lib/python3.7/dist-packages/ipykernel_launcher.py:7: FutureWarning: The default value of regex will change from True to False in a future version.\n",
            "  import sys\n",
            "/usr/local/lib/python3.7/dist-packages/ipykernel_launcher.py:8: FutureWarning: The default value of regex will change from True to False in a future version.\n",
            "  \n",
            "/usr/local/lib/python3.7/dist-packages/ipykernel_launcher.py:9: FutureWarning: The default value of regex will change from True to False in a future version.\n",
            "  if __name__ == '__main__':\n",
            "/usr/local/lib/python3.7/dist-packages/ipykernel_launcher.py:10: FutureWarning: The default value of regex will change from True to False in a future version.\n",
            "  # Remove the CWD from sys.path while we load stuff.\n"
          ]
        },
        {
          "output_type": "execute_result",
          "data": {
            "text/plain": [
              "0       و لعل أسوء ما في هذا اليوم غيابك يا  باسم :-( = =\n",
              "1       ما هى أفضل وظيفة فى الحياة ؟ ( مدير شركة - رئي...\n",
              "2        الحقيقة_مباشر_مصر| انقلاب_3يوليو السيسى المتخ...\n",
              "3                                    الحمدلله_علي  كل_حال\n",
              "4       كانت فين الروح الحلوة دي أيام زمان نص مليون فر...\n",
              "                              ...                        \n",
              "3191    لو لسه مصدق وهم نعم من أجل الإستقرار يعني جرب ...\n",
              "3192    تواجدي خارج المملكة منعني مشاركتهم في تجهيز ال...\n",
              "3193    1 رئاسة منتخبة لم تعصم دماء المصريات والمصريين...\n",
              "3194    آه فهمت بيفكر المشاهد المحروم انه محروم ماشي م...\n",
              "3195     المصيبه اللي تقربك من  ربنا احسن من  النعمه ا...\n",
              "Name: tweet, Length: 3196, dtype: object"
            ]
          },
          "metadata": {},
          "execution_count": 62
        }
      ],
      "source": [
        "#indian numbers to arabic numbers\n",
        "df[\"tweet\"] = df[\"tweet\"].str.replace('[١]', '1')\n",
        "df[\"tweet\"] = df[\"tweet\"].str.replace('[٢]', '2')\n",
        "df[\"tweet\"] = df[\"tweet\"].str.replace('[٣]', '3')\n",
        "df[\"tweet\"] = df[\"tweet\"].str.replace('[٤]', '4')\n",
        "df[\"tweet\"] = df[\"tweet\"].str.replace('[٥]', '5')\n",
        "df[\"tweet\"] = df[\"tweet\"].str.replace('[٦]', '6')\n",
        "df[\"tweet\"] = df[\"tweet\"].str.replace('[٧]', '7')\n",
        "df[\"tweet\"] = df[\"tweet\"].str.replace('[٨]', '8')\n",
        "df[\"tweet\"] = df[\"tweet\"].str.replace('[٩]', '9')\n",
        "df['tweet']"
      ]
    },
    {
      "cell_type": "markdown",
      "metadata": {
        "id": "BttDSy3eAjR1"
      },
      "source": [
        "# Removing Emojis"
      ]
    },
    {
      "cell_type": "code",
      "execution_count": null,
      "metadata": {
        "id": "4-v9B4YPARs1"
      },
      "outputs": [],
      "source": [
        "emoji_pattern = re.compile(\"[\"\n",
        "        u\"\\U0001F600-\\U0001F64F\"  # emoticons\n",
        "        u\"\\U0001F300-\\U0001F5FF\"  # symbols & pictographs\n",
        "        u\"\\U0001F680-\\U0001F6FF\"  # transport & map symbols\n",
        "        u\"\\U0001F1E0-\\U0001F1FF\"  # flags (iOS)\n",
        "                           \"]+\", flags=re.UNICODE)\n",
        "df['tweet'] = df['tweet'].apply(lambda x: emoji_pattern.sub(r'', x))"
      ]
    },
    {
      "cell_type": "code",
      "execution_count": null,
      "metadata": {
        "colab": {
          "base_uri": "https://localhost:8080/"
        },
        "id": "1NmVOIFh_5kV",
        "outputId": "9f885c61-018e-4810-f290-3488569355c3"
      },
      "outputs": [
        {
          "output_type": "stream",
          "name": "stdout",
          "text": [
            "و لعل أسوء ما في هذا اليوم غيابك يا  باسم :-( = =\n",
            "ما هى أفضل وظيفة فى الحياة ؟ ( مدير شركة - رئيس مؤسسة) ؟ لا والله أفضل وظيفة فى الحياة ان ربنا يشغلك عنده تدل الناس على الخير\n",
            " الحقيقة_مباشر_مصر| انقلاب_3يوليو السيسى المتخابر لخطف أول رئيس منتخب يستعين بحلفائه لدعمه بالسلاح للتصدى للإسلاميين\n",
            " الحمدلله_علي  كل_حال\n",
            "كانت فين الروح الحلوة دي أيام زمان نص مليون فرق في الفولورز فعلا بيغيروا الإنسان متشكرين يا مبهج الجماهير\n",
            " أوسكار : لقد امضيت سنتان مميزتان حتى الأن، و أريد أن استمر في اللعب هنا لسنوات عديدة مثل تيري ولامبارد\n",
            "افتخر بلغتي   اليوم_العالمي_للغة_العربية\n",
            "نحن ندفع الأمل فى عقول و قلوب المصريين\n",
            " حاجة_تستاهل_الحمد كل حاجه ف حياتنا اكيد !!!\n",
            "يهنئ حزب الوسط الدكتور عبد الفتاح ماضي بتعيينه رئيسا للمجلس القومى للشباب ويتمنى له التوفيق\"\n",
            "\"_97: ههههه عادي مالها ال14 سنه :)\" أجدع ناس و فخور جداً بيكم\n",
            "مصر تقع في مجموعه ناريه ناريه  مصر  تونس  السنغال  موزمبيق او  جنوب السودان  حسن_شحاته كان بيرتعش وهو بيسحب القرعه  _\n",
            "شاهد - آخر كلام: لماذا مليونية الجمعة 8 يوليو   والد أحد شهداء\n",
            "هل تعرف معنى اسم الله الصمد ؟ \"الصمد\" الذى يُقصد إليه فى قضاء الحوائج \"الصمد\" لا يحتاج إلى أحد و يحتاجه كلُ أحد\n",
            "صاحب قناة الفراعين للمصري اليوم: \"أنا ملك التوك شو\" خبر صحيح و وصف دقيق طيب الله أوقاتكم\n",
            "رضاك يارب  كلمتين_وبس\n",
            "سمعتها كتير بس اول مرة احسها وافهمها وعرف انها حلوه اووى كدا اغنية  شيرين انا كلى ملكك\n",
            "فريق الوعد  إنصاف_الإخوان\n",
            "تحية لشباب 6 إبريل على جهدهم غير المسبوق في توعية الشعب من خطر عودة الفلول ؛ وتحية أخرى لهم على الحملة الرائعة (:\n",
            "الاعلامي محمد فودة يعقد مؤتمرا جماهيريا غدا بمدينة  زفتى بحضور الفنانة  غادة_عبدالرازق لدعم المرشح  عبدالفتاح_السيسي   إلعب ياسيسي:)\"\n"
          ]
        }
      ],
      "source": [
        "for i in range(0,20):\n",
        "  print(df['tweet'][i])"
      ]
    },
    {
      "cell_type": "markdown",
      "metadata": {
        "id": "mtd-zEPnVK-g"
      },
      "source": [
        "#Tokenize (and lemmatize)"
      ]
    },
    {
      "cell_type": "code",
      "execution_count": null,
      "metadata": {
        "colab": {
          "base_uri": "https://localhost:8080/"
        },
        "id": "AS5MUPh4Wpd4",
        "outputId": "38ec0938-7d0e-4629-e2d9-faab3389903b"
      },
      "outputs": [
        {
          "name": "stdout",
          "output_type": "stream",
          "text": [
            "طلل\n",
            "نيق\n",
            "نثو\n",
            "من\n",
            "جمع\n",
            "غوتش\n",
            "لخريف/شتاء\n",
            "2016\n"
          ]
        }
      ],
      "source": [
        "#this is a bad stemming as it eliminates the meaning\n",
        "from nltk.stem.isri import ISRIStemmer\n",
        "st = ISRIStemmer()\n",
        "for word in words:\n",
        "  print(st.stem(word))\n"
      ]
    },
    {
      "cell_type": "code",
      "execution_count": null,
      "metadata": {
        "colab": {
          "base_uri": "https://localhost:8080/"
        },
        "id": "kmp7QRJfmwh9",
        "outputId": "ede3c452-8962-4318-8e28-70da3ef3f177"
      },
      "outputs": [
        {
          "name": "stdout",
          "output_type": "stream",
          "text": [
            "{'text': ['إطلال', 'أنيق', 'انثوي', 'من', 'مجموعة', 'غوتشي', 'خريف', '/', 'شتاء', '2016']}\n",
            "usage limit exceeded\n"
          ]
        }
      ],
      "source": [
        "#this is a good stemmer\n",
        "import json\n",
        "import requests\n",
        "url = 'https://farasa.qcri.org/webapi/lemmatization/'\n",
        "text = df['tweet'][0]\n",
        "api_key = \"mbVjQzXOUaXBDtMwLA\"\n",
        "payload = {'text': text, 'api_key': api_key}\n",
        "data = requests.post(url, data=payload)\n",
        "result = json.loads(data.text)\n",
        "print(text)\n",
        "print(result) "
      ]
    },
    {
      "cell_type": "code",
      "execution_count": null,
      "metadata": {
        "colab": {
          "base_uri": "https://localhost:8080/"
        },
        "id": "HlF9dHrl2rWn",
        "outputId": "da619d6d-6eae-49d9-ce03-96d2af133fe5"
      },
      "outputs": [
        {
          "data": {
            "text/plain": [
              "0"
            ]
          },
          "execution_count": 26,
          "metadata": {},
          "output_type": "execute_result"
        }
      ],
      "source": [
        "\"\"\"\n",
        "import sys\n",
        "sys.path.append(base_path+\"/lib/FarasaSegmenterJar.jar\")\n",
        "import FarasaSegmenterJar.jar\n",
        "\n",
        "import subprocess\n",
        "subprocess.call(['java', '-jar', base_path+\"/lib/FarasaSegmenterJar.jar\"])\n",
        "\"\"\"\n",
        "\n",
        "\"\"\"\n",
        "import json\n",
        "import requests\n",
        "url = 'https://farasa.qcri.org/webapi/lemmatization/'\n",
        "api_key = \"mbVjQzXOUaXBDtMwLA\"\n",
        "df['tweet'] = df['tweet'].apply(lambda x: json.loads(requests.post(url, data={'text': x, 'api_key': api_key}).text))\n",
        "df\n",
        "\"\"\""
      ]
    },
    {
      "cell_type": "code",
      "execution_count": null,
      "metadata": {
        "colab": {
          "base_uri": "https://localhost:8080/"
        },
        "id": "WhxeOnTm9O98",
        "outputId": "c5fc332b-a1d7-424d-8e4d-5d308c7c4c45"
      },
      "outputs": [
        {
          "output_type": "stream",
          "name": "stdout",
          "text": [
            "Looking in indexes: https://pypi.org/simple, https://us-python.pkg.dev/colab-wheels/public/simple/\n",
            "Requirement already satisfied: farasapy in /usr/local/lib/python3.7/dist-packages (0.0.14)\n",
            "Requirement already satisfied: tqdm in /usr/local/lib/python3.7/dist-packages (from farasapy) (4.64.0)\n",
            "Requirement already satisfied: requests in /usr/local/lib/python3.7/dist-packages (from farasapy) (2.23.0)\n",
            "Requirement already satisfied: urllib3!=1.25.0,!=1.25.1,<1.26,>=1.21.1 in /usr/local/lib/python3.7/dist-packages (from requests->farasapy) (1.24.3)\n",
            "Requirement already satisfied: certifi>=2017.4.17 in /usr/local/lib/python3.7/dist-packages (from requests->farasapy) (2022.5.18.1)\n",
            "Requirement already satisfied: chardet<4,>=3.0.2 in /usr/local/lib/python3.7/dist-packages (from requests->farasapy) (3.0.4)\n",
            "Requirement already satisfied: idna<3,>=2.5 in /usr/local/lib/python3.7/dist-packages (from requests->farasapy) (2.10)\n"
          ]
        }
      ],
      "source": [
        "!pip install farasapy\n",
        "from farasa.stemmer import FarasaStemmer\n",
        "stemmer = FarasaStemmer()"
      ]
    },
    {
      "cell_type": "code",
      "execution_count": null,
      "metadata": {
        "id": "5vBlccStGA8Y"
      },
      "outputs": [],
      "source": [
        "from tqdm.auto import tqdm\n",
        "for i in tqdm(range(0,len(df['tweet'])), disable=False):\n",
        "  x = stemmer.stem(df['tweet'][i])\n",
        "  x = list(x.split(\" \"))\n",
        "  df['tweet'][i] = x"
      ]
    },
    {
      "cell_type": "code",
      "execution_count": null,
      "metadata": {
        "id": "gkhpZ8PyzfqF"
      },
      "outputs": [],
      "source": [
        "output_file_path = os.path.join(base_path, \"Data/preprocessed_lemmas.pk1\")\n",
        "df.to_pickle(output_file_path)"
      ]
    }
  ],
  "metadata": {
    "accelerator": "GPU",
    "colab": {
      "collapsed_sections": [],
      "name": "Copy of HLT Project.ipynb",
      "provenance": []
    },
    "kernelspec": {
      "display_name": "Python 3",
      "name": "python3"
    },
    "language_info": {
      "name": "python"
    }
  },
  "nbformat": 4,
  "nbformat_minor": 0
}